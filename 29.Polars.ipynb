{
 "cells": [
  {
   "cell_type": "code",
   "execution_count": 4,
   "metadata": {},
   "outputs": [
    {
     "name": "stdout",
     "output_type": "stream",
     "text": [
      "Defaulting to user installation because normal site-packages is not writeable\n",
      "Collecting polars\n",
      "  Downloading polars-0.18.8-cp38-abi3-win_amd64.whl (19.9 MB)\n",
      "     ---------------------------------------- 19.9/19.9 MB 5.1 MB/s eta 0:00:00\n",
      "Installing collected packages: polars\n",
      "Successfully installed polars-0.18.8\n",
      "Note: you may need to restart the kernel to use updated packages.\n"
     ]
    },
    {
     "name": "stderr",
     "output_type": "stream",
     "text": [
      "WARNING: Ignoring invalid distribution -pencv-python (c:\\users\\ginus\\appdata\\roaming\\python\\python310\\site-packages)\n",
      "WARNING: Ignoring invalid distribution -pencv-python (c:\\users\\ginus\\appdata\\roaming\\python\\python310\\site-packages)\n",
      "WARNING: Ignoring invalid distribution -pencv-python (c:\\users\\ginus\\appdata\\roaming\\python\\python310\\site-packages)\n",
      "WARNING: Ignoring invalid distribution -pencv-python (c:\\users\\ginus\\appdata\\roaming\\python\\python310\\site-packages)\n",
      "WARNING: Ignoring invalid distribution -pencv-python (c:\\users\\ginus\\appdata\\roaming\\python\\python310\\site-packages)\n",
      "WARNING: Ignoring invalid distribution -pencv-python (c:\\users\\ginus\\appdata\\roaming\\python\\python310\\site-packages)\n",
      "WARNING: Ignoring invalid distribution -pencv-python (c:\\users\\ginus\\appdata\\roaming\\python\\python310\\site-packages)\n"
     ]
    }
   ],
   "source": [
    "#%pip install polars"
   ]
  },
  {
   "cell_type": "code",
   "execution_count": 79,
   "metadata": {},
   "outputs": [],
   "source": [
    "import polars as pl\n",
    "from polars import lazyframe\n",
    "from datetime import datetime"
   ]
  },
  {
   "cell_type": "code",
   "execution_count": 8,
   "metadata": {},
   "outputs": [
    {
     "data": {
      "text/html": [
       "<div><style>\n",
       ".dataframe > thead > tr > th,\n",
       ".dataframe > tbody > tr > td {\n",
       "  text-align: right;\n",
       "}\n",
       "</style>\n",
       "<small>shape: (5, 21)</small><table border=\"1\" class=\"dataframe\"><thead><tr><th>Row ID</th><th>Order ID</th><th>Order Date</th><th>Ship Date</th><th>Ship Mode</th><th>Customer ID</th><th>Customer Name</th><th>Segment</th><th>Country/Region</th><th>City</th><th>State</th><th>Postal Code</th><th>Region</th><th>Product ID</th><th>Category</th><th>Sub-Category</th><th>Product Name</th><th>Sales</th><th>Quantity</th><th>Discount</th><th>Profit</th></tr><tr><td>i64</td><td>str</td><td>str</td><td>str</td><td>str</td><td>str</td><td>str</td><td>str</td><td>str</td><td>str</td><td>str</td><td>i64</td><td>str</td><td>str</td><td>str</td><td>str</td><td>str</td><td>f64</td><td>i64</td><td>f64</td><td>f64</td></tr></thead><tbody><tr><td>1</td><td>&quot;CA-2020-152156…</td><td>&quot;8/11/2020&quot;</td><td>&quot;11/11/2020&quot;</td><td>&quot;Second Class&quot;</td><td>&quot;CG-12520&quot;</td><td>&quot;Claire Gute&quot;</td><td>&quot;Consumer&quot;</td><td>&quot;United States&quot;</td><td>&quot;Henderson&quot;</td><td>&quot;Kentucky&quot;</td><td>42420</td><td>&quot;South&quot;</td><td>&quot;FUR-BO-1000179…</td><td>&quot;Furniture&quot;</td><td>&quot;Bookcases&quot;</td><td>&quot;Bush Somerset …</td><td>261.96</td><td>2</td><td>0.0</td><td>41.9136</td></tr><tr><td>2</td><td>&quot;CA-2020-152156…</td><td>&quot;8/11/2020&quot;</td><td>&quot;11/11/2020&quot;</td><td>&quot;Second Class&quot;</td><td>&quot;CG-12520&quot;</td><td>&quot;Claire Gute&quot;</td><td>&quot;Consumer&quot;</td><td>&quot;United States&quot;</td><td>&quot;Henderson&quot;</td><td>&quot;Kentucky&quot;</td><td>42420</td><td>&quot;South&quot;</td><td>&quot;FUR-CH-1000045…</td><td>&quot;Furniture&quot;</td><td>&quot;Chairs&quot;</td><td>&quot;Hon Deluxe Fab…</td><td>731.94</td><td>3</td><td>0.0</td><td>219.582</td></tr><tr><td>3</td><td>&quot;CA-2020-138688…</td><td>&quot;12/6/2020&quot;</td><td>&quot;16/6/2020&quot;</td><td>&quot;Second Class&quot;</td><td>&quot;DV-13045&quot;</td><td>&quot;Darrin Van Huf…</td><td>&quot;Corporate&quot;</td><td>&quot;United States&quot;</td><td>&quot;Los Angeles&quot;</td><td>&quot;California&quot;</td><td>90036</td><td>&quot;West&quot;</td><td>&quot;OFF-LA-1000024…</td><td>&quot;Office Supplie…</td><td>&quot;Labels&quot;</td><td>&quot;Self-Adhesive …</td><td>14.62</td><td>2</td><td>0.0</td><td>6.8714</td></tr><tr><td>4</td><td>&quot;US-2019-108966…</td><td>&quot;11/10/2019&quot;</td><td>&quot;18/10/2019&quot;</td><td>&quot;Standard Class…</td><td>&quot;SO-20335&quot;</td><td>&quot;Sean O&#x27;Donnell…</td><td>&quot;Consumer&quot;</td><td>&quot;United States&quot;</td><td>&quot;Fort Lauderdal…</td><td>&quot;Florida&quot;</td><td>33311</td><td>&quot;South&quot;</td><td>&quot;FUR-TA-1000057…</td><td>&quot;Furniture&quot;</td><td>&quot;Tables&quot;</td><td>&quot;Bretford CR450…</td><td>957.5775</td><td>5</td><td>0.45</td><td>-383.031</td></tr><tr><td>5</td><td>&quot;US-2019-108966…</td><td>&quot;11/10/2019&quot;</td><td>&quot;18/10/2019&quot;</td><td>&quot;Standard Class…</td><td>&quot;SO-20335&quot;</td><td>&quot;Sean O&#x27;Donnell…</td><td>&quot;Consumer&quot;</td><td>&quot;United States&quot;</td><td>&quot;Fort Lauderdal…</td><td>&quot;Florida&quot;</td><td>33311</td><td>&quot;South&quot;</td><td>&quot;OFF-ST-1000076…</td><td>&quot;Office Supplie…</td><td>&quot;Storage&quot;</td><td>&quot;Eldon Fold &#x27;N …</td><td>22.368</td><td>2</td><td>0.2</td><td>2.5164</td></tr></tbody></table></div>"
      ],
      "text/plain": [
       "shape: (5, 21)\n",
       "┌────────┬───────────────┬────────────┬────────────┬───┬──────────┬──────────┬──────────┬──────────┐\n",
       "│ Row ID ┆ Order ID      ┆ Order Date ┆ Ship Date  ┆ … ┆ Sales    ┆ Quantity ┆ Discount ┆ Profit   │\n",
       "│ ---    ┆ ---           ┆ ---        ┆ ---        ┆   ┆ ---      ┆ ---      ┆ ---      ┆ ---      │\n",
       "│ i64    ┆ str           ┆ str        ┆ str        ┆   ┆ f64      ┆ i64      ┆ f64      ┆ f64      │\n",
       "╞════════╪═══════════════╪════════════╪════════════╪═══╪══════════╪══════════╪══════════╪══════════╡\n",
       "│ 1      ┆ CA-2020-15215 ┆ 8/11/2020  ┆ 11/11/2020 ┆ … ┆ 261.96   ┆ 2        ┆ 0.0      ┆ 41.9136  │\n",
       "│        ┆ 6             ┆            ┆            ┆   ┆          ┆          ┆          ┆          │\n",
       "│ 2      ┆ CA-2020-15215 ┆ 8/11/2020  ┆ 11/11/2020 ┆ … ┆ 731.94   ┆ 3        ┆ 0.0      ┆ 219.582  │\n",
       "│        ┆ 6             ┆            ┆            ┆   ┆          ┆          ┆          ┆          │\n",
       "│ 3      ┆ CA-2020-13868 ┆ 12/6/2020  ┆ 16/6/2020  ┆ … ┆ 14.62    ┆ 2        ┆ 0.0      ┆ 6.8714   │\n",
       "│        ┆ 8             ┆            ┆            ┆   ┆          ┆          ┆          ┆          │\n",
       "│ 4      ┆ US-2019-10896 ┆ 11/10/2019 ┆ 18/10/2019 ┆ … ┆ 957.5775 ┆ 5        ┆ 0.45     ┆ -383.031 │\n",
       "│        ┆ 6             ┆            ┆            ┆   ┆          ┆          ┆          ┆          │\n",
       "│ 5      ┆ US-2019-10896 ┆ 11/10/2019 ┆ 18/10/2019 ┆ … ┆ 22.368   ┆ 2        ┆ 0.2      ┆ 2.5164   │\n",
       "│        ┆ 6             ┆            ┆            ┆   ┆          ┆          ┆          ┆          │\n",
       "└────────┴───────────────┴────────────┴────────────┴───┴──────────┴──────────┴──────────┴──────────┘"
      ]
     },
     "execution_count": 8,
     "metadata": {},
     "output_type": "execute_result"
    }
   ],
   "source": [
    "data=pl.read_csv(\"D:\\Beinex\\Python\\Class learning\\Pandas\\pandas -data\\Sample - Superstore.xls - Orders.csv\")\n",
    "data.head()\n",
    "#datatypes are diplayed under each coloumn name"
   ]
  },
  {
   "cell_type": "code",
   "execution_count": 11,
   "metadata": {},
   "outputs": [
    {
     "name": "stdout",
     "output_type": "stream",
     "text": [
      "<bound method DataFrame.head of shape: (9_994, 21)\n",
      "┌────────┬───────────────┬────────────┬────────────┬───┬──────────┬──────────┬──────────┬──────────┐\n",
      "│ Row ID ┆ Order ID      ┆ Order Date ┆ Ship Date  ┆ … ┆ Sales    ┆ Quantity ┆ Discount ┆ Profit   │\n",
      "│ ---    ┆ ---           ┆ ---        ┆ ---        ┆   ┆ ---      ┆ ---      ┆ ---      ┆ ---      │\n",
      "│ i64    ┆ str           ┆ str        ┆ str        ┆   ┆ f64      ┆ i64      ┆ f64      ┆ f64      │\n",
      "╞════════╪═══════════════╪════════════╪════════════╪═══╪══════════╪══════════╪══════════╪══════════╡\n",
      "│ 1      ┆ CA-2020-15215 ┆ 8/11/2020  ┆ 11/11/2020 ┆ … ┆ 261.96   ┆ 2        ┆ 0.0      ┆ 41.9136  │\n",
      "│        ┆ 6             ┆            ┆            ┆   ┆          ┆          ┆          ┆          │\n",
      "│ 2      ┆ CA-2020-15215 ┆ 8/11/2020  ┆ 11/11/2020 ┆ … ┆ 731.94   ┆ 3        ┆ 0.0      ┆ 219.582  │\n",
      "│        ┆ 6             ┆            ┆            ┆   ┆          ┆          ┆          ┆          │\n",
      "│ 3      ┆ CA-2020-13868 ┆ 12/6/2020  ┆ 16/6/2020  ┆ … ┆ 14.62    ┆ 2        ┆ 0.0      ┆ 6.8714   │\n",
      "│        ┆ 8             ┆            ┆            ┆   ┆          ┆          ┆          ┆          │\n",
      "│ 4      ┆ US-2019-10896 ┆ 11/10/2019 ┆ 18/10/2019 ┆ … ┆ 957.5775 ┆ 5        ┆ 0.45     ┆ -383.031 │\n",
      "│        ┆ 6             ┆            ┆            ┆   ┆          ┆          ┆          ┆          │\n",
      "│ …      ┆ …             ┆ …          ┆ …          ┆ … ┆ …        ┆ …        ┆ …        ┆ …        │\n",
      "│ 9991   ┆ CA-2021-12125 ┆ 26/2/2021  ┆ 3/3/2021   ┆ … ┆ 91.96    ┆ 2        ┆ 0.0      ┆ 15.6332  │\n",
      "│        ┆ 8             ┆            ┆            ┆   ┆          ┆          ┆          ┆          │\n",
      "│ 9992   ┆ CA-2021-12125 ┆ 26/2/2021  ┆ 3/3/2021   ┆ … ┆ 258.576  ┆ 2        ┆ 0.2      ┆ 19.3932  │\n",
      "│        ┆ 8             ┆            ┆            ┆   ┆          ┆          ┆          ┆          │\n",
      "│ 9993   ┆ CA-2021-12125 ┆ 26/2/2021  ┆ 3/3/2021   ┆ … ┆ 29.6     ┆ 4        ┆ 0.0      ┆ 13.32    │\n",
      "│        ┆ 8             ┆            ┆            ┆   ┆          ┆          ┆          ┆          │\n",
      "│ 9994   ┆ CA-2021-11991 ┆ 4/5/2021   ┆ 9/5/2021   ┆ … ┆ 243.16   ┆ 2        ┆ 0.0      ┆ 72.948   │\n",
      "│        ┆ 4             ┆            ┆            ┆   ┆          ┆          ┆          ┆          │\n",
      "└────────┴───────────────┴────────────┴────────────┴───┴──────────┴──────────┴──────────┴──────────┘>\n"
     ]
    }
   ],
   "source": [
    "print(data.head)"
   ]
  },
  {
   "cell_type": "code",
   "execution_count": 21,
   "metadata": {},
   "outputs": [
    {
     "name": "stdout",
     "output_type": "stream",
     "text": [
      "shape: (468, 21)\n",
      "┌────────┬─────────────┬────────────┬────────────┬───┬──────────┬──────────┬──────────┬────────────┐\n",
      "│ Row ID ┆ Order ID    ┆ Order Date ┆ Ship Date  ┆ … ┆ Sales    ┆ Quantity ┆ Discount ┆ Profit     │\n",
      "│ ---    ┆ ---         ┆ ---        ┆ ---        ┆   ┆ ---      ┆ ---      ┆ ---      ┆ ---        │\n",
      "│ i64    ┆ str         ┆ str        ┆ str        ┆   ┆ f64      ┆ i64      ┆ f64      ┆ f64        │\n",
      "╞════════╪═════════════╪════════════╪════════════╪═══╪══════════╪══════════╪══════════╪════════════╡\n",
      "│ 11     ┆ CA-2018-115 ┆ 9/6/2018   ┆ 14/6/2018  ┆ … ┆ 1706.184 ┆ 9        ┆ 0.2      ┆ 85.3092    │\n",
      "│        ┆ 812         ┆            ┆            ┆   ┆          ┆          ┆          ┆            │\n",
      "│ 25     ┆ CA-2019-106 ┆ 25/9/2019  ┆ 30/9/2019  ┆ … ┆ 1044.63  ┆ 3        ┆ 0.0      ┆ 240.2649   │\n",
      "│        ┆ 320         ┆            ┆            ┆   ┆          ┆          ┆          ┆            │\n",
      "│ 28     ┆ US-2019-150 ┆ 17/9/2019  ┆ 21/9/2019  ┆ … ┆ 3083.43  ┆ 7        ┆ 0.5      ┆ -1665.0522 │\n",
      "│        ┆ 630         ┆            ┆            ┆   ┆          ┆          ┆          ┆            │\n",
      "│ 36     ┆ CA-2020-117 ┆ 8/12/2020  ┆ 10/12/2020 ┆ … ┆ 1097.544 ┆ 7        ┆ 0.2      ┆ 123.4737   │\n",
      "│        ┆ 590         ┆            ┆            ┆   ┆          ┆          ┆          ┆            │\n",
      "│ …      ┆ …           ┆ …          ┆ …          ┆ … ┆ …        ┆ …        ┆ …        ┆ …          │\n",
      "│ 9926   ┆ CA-2019-159 ┆ 20/3/2019  ┆ 23/3/2019  ┆ … ┆ 1087.936 ┆ 8        ┆ 0.2      ┆ 353.5792   │\n",
      "│        ┆ 534         ┆            ┆            ┆   ┆          ┆          ┆          ┆            │\n",
      "│ 9930   ┆ CA-2020-129 ┆ 4/9/2020   ┆ 4/9/2020   ┆ … ┆ 2799.96  ┆ 5        ┆ 0.2      ┆ 944.9865   │\n",
      "│        ┆ 630         ┆            ┆            ┆   ┆          ┆          ┆          ┆            │\n",
      "│ 9948   ┆ CA-2021-121 ┆ 1/6/2021   ┆ 3/6/2021   ┆ … ┆ 1925.88  ┆ 6        ┆ 0.0      ┆ 539.2464   │\n",
      "│        ┆ 559         ┆            ┆            ┆   ┆          ┆          ┆          ┆            │\n",
      "│ 9949   ┆ CA-2021-121 ┆ 1/6/2021   ┆ 3/6/2021   ┆ … ┆ 2405.2   ┆ 8        ┆ 0.0      ┆ 793.716    │\n",
      "│        ┆ 559         ┆            ┆            ┆   ┆          ┆          ┆          ┆            │\n",
      "└────────┴─────────────┴────────────┴────────────┴───┴──────────┴──────────┴──────────┴────────────┘\n"
     ]
    }
   ],
   "source": [
    "#sales >1000 filtered\n",
    "high_sale=data.filter(pl.col('Sales')>1000)\n",
    "print(high_sale)"
   ]
  },
  {
   "cell_type": "code",
   "execution_count": 108,
   "metadata": {},
   "outputs": [
    {
     "name": "stdout",
     "output_type": "stream",
     "text": [
      "shape: (9_994, 21)\n",
      "┌────────┬───────────────┬────────────┬────────────┬───┬──────────┬──────────┬──────────┬──────────┐\n",
      "│ Row ID ┆ Order ID      ┆ Order Date ┆ Ship Date  ┆ … ┆ Sales    ┆ Quantity ┆ Discount ┆ Profit   │\n",
      "│ ---    ┆ ---           ┆ ---        ┆ ---        ┆   ┆ ---      ┆ ---      ┆ ---      ┆ ---      │\n",
      "│ i64    ┆ str           ┆ str        ┆ str        ┆   ┆ f64      ┆ i64      ┆ f64      ┆ f64      │\n",
      "╞════════╪═══════════════╪════════════╪════════════╪═══╪══════════╪══════════╪══════════╪══════════╡\n",
      "│ 1      ┆ CA-2020-15215 ┆ 8/11/2020  ┆ 11/11/2020 ┆ … ┆ 261.96   ┆ 2        ┆ 0.0      ┆ 41.9136  │\n",
      "│        ┆ 6             ┆            ┆            ┆   ┆          ┆          ┆          ┆          │\n",
      "│ 2      ┆ CA-2020-15215 ┆ 8/11/2020  ┆ 11/11/2020 ┆ … ┆ 731.94   ┆ 3        ┆ 0.0      ┆ 219.582  │\n",
      "│        ┆ 6             ┆            ┆            ┆   ┆          ┆          ┆          ┆          │\n",
      "│ 3      ┆ CA-2020-13868 ┆ 12/6/2020  ┆ 16/6/2020  ┆ … ┆ 14.62    ┆ 2        ┆ 0.0      ┆ 6.8714   │\n",
      "│        ┆ 8             ┆            ┆            ┆   ┆          ┆          ┆          ┆          │\n",
      "│ 4      ┆ US-2019-10896 ┆ 11/10/2019 ┆ 18/10/2019 ┆ … ┆ 957.5775 ┆ 5        ┆ 0.45     ┆ -383.031 │\n",
      "│        ┆ 6             ┆            ┆            ┆   ┆          ┆          ┆          ┆          │\n",
      "│ …      ┆ …             ┆ …          ┆ …          ┆ … ┆ …        ┆ …        ┆ …        ┆ …        │\n",
      "│ 9991   ┆ CA-2021-12125 ┆ 26/2/2021  ┆ 3/3/2021   ┆ … ┆ 91.96    ┆ 2        ┆ 0.0      ┆ 15.6332  │\n",
      "│        ┆ 8             ┆            ┆            ┆   ┆          ┆          ┆          ┆          │\n",
      "│ 9992   ┆ CA-2021-12125 ┆ 26/2/2021  ┆ 3/3/2021   ┆ … ┆ 258.576  ┆ 2        ┆ 0.2      ┆ 19.3932  │\n",
      "│        ┆ 8             ┆            ┆            ┆   ┆          ┆          ┆          ┆          │\n",
      "│ 9993   ┆ CA-2021-12125 ┆ 26/2/2021  ┆ 3/3/2021   ┆ … ┆ 29.6     ┆ 4        ┆ 0.0      ┆ 13.32    │\n",
      "│        ┆ 8             ┆            ┆            ┆   ┆          ┆          ┆          ┆          │\n",
      "│ 9994   ┆ CA-2021-11991 ┆ 4/5/2021   ┆ 9/5/2021   ┆ … ┆ 243.16   ┆ 2        ┆ 0.0      ┆ 72.948   │\n",
      "│        ┆ 4             ┆            ┆            ┆   ┆          ┆          ┆          ┆          │\n",
      "└────────┴───────────────┴────────────┴────────────┴───┴──────────┴──────────┴──────────┴──────────┘\n"
     ]
    }
   ],
   "source": [
    "#sales >1000 filtered where segment ==customer\n",
    "high_sale=data.filter(pl.col('Sales')>1000 & (pl.col('Segment')=='Consumer'))\n",
    "print(high_sale)"
   ]
  },
  {
   "cell_type": "code",
   "execution_count": 26,
   "metadata": {},
   "outputs": [
    {
     "name": "stdout",
     "output_type": "stream",
     "text": [
      "['Row ID', 'Order ID', 'Order Date', 'Ship Date', 'Ship Mode', 'Customer ID', 'Customer Name', 'Segment', 'Country/Region', 'City', 'State', 'Postal Code', 'Region', 'Product ID', 'Category', 'Sub-Category', 'Product Name', 'Sales', 'Quantity', 'Discount', 'Profit']\n"
     ]
    }
   ],
   "source": [
    "print(data.columns)"
   ]
  },
  {
   "cell_type": "code",
   "execution_count": 88,
   "metadata": {},
   "outputs": [
    {
     "data": {
      "text/plain": [
       "<bound method DataFrame.rows of shape: (9_994, 21)\n",
       "┌────────┬───────────────┬────────────┬────────────┬───┬──────────┬──────────┬──────────┬──────────┐\n",
       "│ Row ID ┆ Order ID      ┆ Order Date ┆ Ship Date  ┆ … ┆ Sales    ┆ Quantity ┆ Discount ┆ Profit   │\n",
       "│ ---    ┆ ---           ┆ ---        ┆ ---        ┆   ┆ ---      ┆ ---      ┆ ---      ┆ ---      │\n",
       "│ i64    ┆ str           ┆ str        ┆ str        ┆   ┆ f64      ┆ i64      ┆ f64      ┆ f64      │\n",
       "╞════════╪═══════════════╪════════════╪════════════╪═══╪══════════╪══════════╪══════════╪══════════╡\n",
       "│ 1      ┆ CA-2020-15215 ┆ 8/11/2020  ┆ 11/11/2020 ┆ … ┆ 261.96   ┆ 2        ┆ 0.0      ┆ 41.9136  │\n",
       "│        ┆ 6             ┆            ┆            ┆   ┆          ┆          ┆          ┆          │\n",
       "│ 2      ┆ CA-2020-15215 ┆ 8/11/2020  ┆ 11/11/2020 ┆ … ┆ 731.94   ┆ 3        ┆ 0.0      ┆ 219.582  │\n",
       "│        ┆ 6             ┆            ┆            ┆   ┆          ┆          ┆          ┆          │\n",
       "│ 3      ┆ CA-2020-13868 ┆ 12/6/2020  ┆ 16/6/2020  ┆ … ┆ 14.62    ┆ 2        ┆ 0.0      ┆ 6.8714   │\n",
       "│        ┆ 8             ┆            ┆            ┆   ┆          ┆          ┆          ┆          │\n",
       "│ 4      ┆ US-2019-10896 ┆ 11/10/2019 ┆ 18/10/2019 ┆ … ┆ 957.5775 ┆ 5        ┆ 0.45     ┆ -383.031 │\n",
       "│        ┆ 6             ┆            ┆            ┆   ┆          ┆          ┆          ┆          │\n",
       "│ …      ┆ …             ┆ …          ┆ …          ┆ … ┆ …        ┆ …        ┆ …        ┆ …        │\n",
       "│ 9991   ┆ CA-2021-12125 ┆ 26/2/2021  ┆ 3/3/2021   ┆ … ┆ 91.96    ┆ 2        ┆ 0.0      ┆ 15.6332  │\n",
       "│        ┆ 8             ┆            ┆            ┆   ┆          ┆          ┆          ┆          │\n",
       "│ 9992   ┆ CA-2021-12125 ┆ 26/2/2021  ┆ 3/3/2021   ┆ … ┆ 258.576  ┆ 2        ┆ 0.2      ┆ 19.3932  │\n",
       "│        ┆ 8             ┆            ┆            ┆   ┆          ┆          ┆          ┆          │\n",
       "│ 9993   ┆ CA-2021-12125 ┆ 26/2/2021  ┆ 3/3/2021   ┆ … ┆ 29.6     ┆ 4        ┆ 0.0      ┆ 13.32    │\n",
       "│        ┆ 8             ┆            ┆            ┆   ┆          ┆          ┆          ┆          │\n",
       "│ 9994   ┆ CA-2021-11991 ┆ 4/5/2021   ┆ 9/5/2021   ┆ … ┆ 243.16   ┆ 2        ┆ 0.0      ┆ 72.948   │\n",
       "│        ┆ 4             ┆            ┆            ┆   ┆          ┆          ┆          ┆          │\n",
       "└────────┴───────────────┴────────────┴────────────┴───┴──────────┴──────────┴──────────┴──────────┘>"
      ]
     },
     "execution_count": 88,
     "metadata": {},
     "output_type": "execute_result"
    }
   ],
   "source": [
    "data.rows"
   ]
  },
  {
   "cell_type": "code",
   "execution_count": 90,
   "metadata": {},
   "outputs": [
    {
     "data": {
      "text/html": [
       "<div><style>\n",
       ".dataframe > thead > tr > th,\n",
       ".dataframe > tbody > tr > td {\n",
       "  text-align: right;\n",
       "}\n",
       "</style>\n",
       "<small>shape: (5, 21)</small><table border=\"1\" class=\"dataframe\"><thead><tr><th>Row ID</th><th>Order ID</th><th>Order Date</th><th>Ship Date</th><th>Ship Mode</th><th>Customer ID</th><th>Customer Name</th><th>Segment</th><th>Country/Region</th><th>City</th><th>State</th><th>Postal Code</th><th>Region</th><th>Product ID</th><th>Category</th><th>Sub-Category</th><th>Product Name</th><th>Sales</th><th>Quantity</th><th>Discount</th><th>Profit</th></tr><tr><td>i64</td><td>str</td><td>str</td><td>str</td><td>str</td><td>str</td><td>str</td><td>str</td><td>str</td><td>str</td><td>str</td><td>i64</td><td>str</td><td>str</td><td>str</td><td>str</td><td>str</td><td>f64</td><td>i64</td><td>f64</td><td>f64</td></tr></thead><tbody><tr><td>8730</td><td>&quot;CA-2019-103870…</td><td>&quot;27/12/2019&quot;</td><td>&quot;31/12/2019&quot;</td><td>&quot;Standard Class…</td><td>&quot;SP-20860&quot;</td><td>&quot;Sung Pak&quot;</td><td>&quot;Corporate&quot;</td><td>&quot;United States&quot;</td><td>&quot;Murfreesboro&quot;</td><td>&quot;Tennessee&quot;</td><td>37130</td><td>&quot;South&quot;</td><td>&quot;OFF-ST-1000256…</td><td>&quot;Office Supplie…</td><td>&quot;Storage&quot;</td><td>&quot;Staple magnet&quot;</td><td>22.512</td><td>3</td><td>0.2</td><td>2.2512</td></tr><tr><td>4427</td><td>&quot;CA-2021-159464…</td><td>&quot;18/5/2021&quot;</td><td>&quot;19/5/2021&quot;</td><td>&quot;First Class&quot;</td><td>&quot;TB-21355&quot;</td><td>&quot;Todd Boyes&quot;</td><td>&quot;Corporate&quot;</td><td>&quot;United States&quot;</td><td>&quot;Sandy Springs&quot;</td><td>&quot;Georgia&quot;</td><td>30328</td><td>&quot;South&quot;</td><td>&quot;TEC-PH-1000235…</td><td>&quot;Technology&quot;</td><td>&quot;Phones&quot;</td><td>&quot;Apple EarPods …</td><td>55.98</td><td>2</td><td>0.0</td><td>15.6744</td></tr><tr><td>3237</td><td>&quot;CA-2020-146836…</td><td>&quot;2/5/2020&quot;</td><td>&quot;2/5/2020&quot;</td><td>&quot;Same Day&quot;</td><td>&quot;CC-12475&quot;</td><td>&quot;Cindy Chapman&quot;</td><td>&quot;Consumer&quot;</td><td>&quot;United States&quot;</td><td>&quot;New York City&quot;</td><td>&quot;New York&quot;</td><td>10024</td><td>&quot;East&quot;</td><td>&quot;OFF-ST-1000158…</td><td>&quot;Office Supplie…</td><td>&quot;Storage&quot;</td><td>&quot;Super Decoflex…</td><td>44.94</td><td>3</td><td>0.0</td><td>12.5832</td></tr><tr><td>5048</td><td>&quot;CA-2020-158694…</td><td>&quot;10/11/2020&quot;</td><td>&quot;13/11/2020&quot;</td><td>&quot;Second Class&quot;</td><td>&quot;AI-10855&quot;</td><td>&quot;Arianne Irving…</td><td>&quot;Consumer&quot;</td><td>&quot;United States&quot;</td><td>&quot;Los Angeles&quot;</td><td>&quot;California&quot;</td><td>90036</td><td>&quot;West&quot;</td><td>&quot;OFF-AR-1000122…</td><td>&quot;Office Supplie…</td><td>&quot;Art&quot;</td><td>&quot;Newell 338&quot;</td><td>14.7</td><td>5</td><td>0.0</td><td>3.969</td></tr><tr><td>1350</td><td>&quot;CA-2018-118339…</td><td>&quot;17/3/2018&quot;</td><td>&quot;24/3/2018&quot;</td><td>&quot;Standard Class…</td><td>&quot;BN-11515&quot;</td><td>&quot;Bradley Nguyen…</td><td>&quot;Consumer&quot;</td><td>&quot;United States&quot;</td><td>&quot;Lakeville&quot;</td><td>&quot;Minnesota&quot;</td><td>55044</td><td>&quot;Central&quot;</td><td>&quot;OFF-BI-1000013…</td><td>&quot;Office Supplie…</td><td>&quot;Binders&quot;</td><td>&quot;Avery Non-Stic…</td><td>35.88</td><td>6</td><td>0.0</td><td>17.2224</td></tr></tbody></table></div>"
      ],
      "text/plain": [
       "shape: (5, 21)\n",
       "┌────────┬────────────────┬────────────┬────────────┬───┬────────┬──────────┬──────────┬─────────┐\n",
       "│ Row ID ┆ Order ID       ┆ Order Date ┆ Ship Date  ┆ … ┆ Sales  ┆ Quantity ┆ Discount ┆ Profit  │\n",
       "│ ---    ┆ ---            ┆ ---        ┆ ---        ┆   ┆ ---    ┆ ---      ┆ ---      ┆ ---     │\n",
       "│ i64    ┆ str            ┆ str        ┆ str        ┆   ┆ f64    ┆ i64      ┆ f64      ┆ f64     │\n",
       "╞════════╪════════════════╪════════════╪════════════╪═══╪════════╪══════════╪══════════╪═════════╡\n",
       "│ 8730   ┆ CA-2019-103870 ┆ 27/12/2019 ┆ 31/12/2019 ┆ … ┆ 22.512 ┆ 3        ┆ 0.2      ┆ 2.2512  │\n",
       "│ 4427   ┆ CA-2021-159464 ┆ 18/5/2021  ┆ 19/5/2021  ┆ … ┆ 55.98  ┆ 2        ┆ 0.0      ┆ 15.6744 │\n",
       "│ 3237   ┆ CA-2020-146836 ┆ 2/5/2020   ┆ 2/5/2020   ┆ … ┆ 44.94  ┆ 3        ┆ 0.0      ┆ 12.5832 │\n",
       "│ 5048   ┆ CA-2020-158694 ┆ 10/11/2020 ┆ 13/11/2020 ┆ … ┆ 14.7   ┆ 5        ┆ 0.0      ┆ 3.969   │\n",
       "│ 1350   ┆ CA-2018-118339 ┆ 17/3/2018  ┆ 24/3/2018  ┆ … ┆ 35.88  ┆ 6        ┆ 0.0      ┆ 17.2224 │\n",
       "└────────┴────────────────┴────────────┴────────────┴───┴────────┴──────────┴──────────┴─────────┘"
      ]
     },
     "execution_count": 90,
     "metadata": {},
     "output_type": "execute_result"
    }
   ],
   "source": [
    "data.sample(5)"
   ]
  },
  {
   "cell_type": "code",
   "execution_count": 106,
   "metadata": {},
   "outputs": [
    {
     "name": "stdout",
     "output_type": "stream",
     "text": [
      "shape: (1, 21)\n",
      "┌────────┬──────────┬────────────┬───────────┬───┬───────┬──────────┬──────────┬────────┐\n",
      "│ Row ID ┆ Order ID ┆ Order Date ┆ Ship Date ┆ … ┆ Sales ┆ Quantity ┆ Discount ┆ Profit │\n",
      "│ ---    ┆ ---      ┆ ---        ┆ ---       ┆   ┆ ---   ┆ ---      ┆ ---      ┆ ---    │\n",
      "│ u32    ┆ u32      ┆ u32        ┆ u32       ┆   ┆ u32   ┆ u32      ┆ u32      ┆ u32    │\n",
      "╞════════╪══════════╪════════════╪═══════════╪═══╪═══════╪══════════╪══════════╪════════╡\n",
      "│ 0      ┆ 0        ┆ 0          ┆ 0         ┆ … ┆ 0     ┆ 0        ┆ 0        ┆ 0      │\n",
      "└────────┴──────────┴────────────┴───────────┴───┴───────┴──────────┴──────────┴────────┘\n"
     ]
    }
   ],
   "source": [
    "print(data.null_count())"
   ]
  },
  {
   "cell_type": "code",
   "execution_count": 31,
   "metadata": {},
   "outputs": [
    {
     "name": "stdout",
     "output_type": "stream",
     "text": [
      "shape: (3,)\n",
      "Series: 'Segment' [str]\n",
      "[\n",
      "\t\"Consumer\"\n",
      "\t\"Corporate\"\n",
      "\t\"Home Office\"\n",
      "]\n"
     ]
    }
   ],
   "source": [
    "print(data['Segment'].unique(maintain_order=True).sort())"
   ]
  },
  {
   "cell_type": "code",
   "execution_count": 92,
   "metadata": {},
   "outputs": [
    {
     "name": "stdout",
     "output_type": "stream",
     "text": [
      "shape: (3, 2)\n",
      "┌─────────────┬─────────────┐\n",
      "│ Segment     ┆ Sales       │\n",
      "│ ---         ┆ ---         │\n",
      "│ str         ┆ f64         │\n",
      "╞═════════════╪═════════════╡\n",
      "│ Consumer    ┆ 1.1614e6    │\n",
      "│ Corporate   ┆ 706146.3668 │\n",
      "│ Home Office ┆ 429653.1485 │\n",
      "└─────────────┴─────────────┘\n"
     ]
    }
   ],
   "source": [
    "data1=(data.groupby('Segment',maintain_order=True)\\\n",
    "    .agg(pl.all().sum()))\n",
    "print(data1[['Segment','Sales']])"
   ]
  },
  {
   "cell_type": "code",
   "execution_count": 67,
   "metadata": {},
   "outputs": [
    {
     "name": "stdout",
     "output_type": "stream",
     "text": [
      "shape: (9, 4)\n",
      "┌─────────────┬─────────────────┬─────────────┬──────────┐\n",
      "│ Segment     ┆ Category        ┆ Sales       ┆ Discount │\n",
      "│ ---         ┆ ---             ┆ ---         ┆ ---      │\n",
      "│ str         ┆ str             ┆ f64         ┆ f64      │\n",
      "╞═════════════╪═════════════════╪═════════════╪══════════╡\n",
      "│ Consumer    ┆ Furniture       ┆ 391049.312  ┆ 196.71   │\n",
      "│ Corporate   ┆ Office Supplies ┆ 230676.462  ┆ 292.3    │\n",
      "│ Consumer    ┆ Office Supplies ┆ 363952.136  ┆ 496.4    │\n",
      "│ Consumer    ┆ Technology      ┆ 406399.897  ┆ 127.8    │\n",
      "│ Home Office ┆ Office Supplies ┆ 124418.434  ┆ 159.1    │\n",
      "│ Corporate   ┆ Technology      ┆ 246450.119  ┆ 73.1     │\n",
      "│ Corporate   ┆ Furniture       ┆ 229019.7858 ┆ 112.45   │\n",
      "│ Home Office ┆ Furniture       ┆ 121930.6975 ┆ 59.73    │\n",
      "│ Home Office ┆ Technology      ┆ 183304.017  ┆ 43.5     │\n",
      "└─────────────┴─────────────────┴─────────────┴──────────┘\n"
     ]
    }
   ],
   "source": [
    "data1=(data.groupby('Segment','Category',maintain_order=True)\n",
    "    .agg(pl.all().sum()))\n",
    "print(data1[['Segment','Category','Sales','Discount']])"
   ]
  },
  {
   "cell_type": "markdown",
   "metadata": {},
   "source": [
    "lazy execution"
   ]
  },
  {
   "cell_type": "code",
   "execution_count": 93,
   "metadata": {},
   "outputs": [
    {
     "data": {
      "text/html": [
       "<i>naive plan: (run <b>LazyFrame.explain(optimized=True)</b> to see the optimized plan)</i>\n",
       "    <p></p>\n",
       "    <div>AGGREGATE<p></p>\t[col(\"Row ID\").sum(), col(\"Order ID\").sum(), col(\"Order Date\").sum(), col(\"Ship Date\").sum(), col(\"Ship Mode\").sum(), col(\"Customer ID\").sum(), col(\"Customer Name\").sum(), col(\"Country/Region\").sum(), col(\"City\").sum(), col(\"State\").sum(), col(\"Postal Code\").sum(), col(\"Region\").sum(), col(\"Product ID\").sum(), col(\"Sub-Category\").sum(), col(\"Product Name\").sum(), col(\"Sales\").sum(), col(\"Quantity\").sum(), col(\"Discount\").sum(), col(\"Profit\").sum()] BY [col(\"Segment\"), col(\"Category\")] FROM<p></p>  DF [\"Row ID\", \"Order ID\", \"Order Date\", \"Ship Date\"]; PROJECT */21 COLUMNS; SELECTION: \"None\"</div>"
      ],
      "text/plain": [
       "<LazyFrame [21 cols, {\"Segment\": Utf8 … \"Profit\": Float64}] at 0x2486F0AA5C0>"
      ]
     },
     "execution_count": 93,
     "metadata": {},
     "output_type": "execute_result"
    }
   ],
   "source": [
    "(data.lazy()\n",
    "    .groupby('Segment','Category',maintain_order=True)\n",
    "        .agg(pl.all().sum()))\n",
    "#it avoid all the unnecessary calculations"
   ]
  },
  {
   "cell_type": "code",
   "execution_count": 94,
   "metadata": {},
   "outputs": [
    {
     "data": {
      "text/html": [
       "<div><style>\n",
       ".dataframe > thead > tr > th,\n",
       ".dataframe > tbody > tr > td {\n",
       "  text-align: right;\n",
       "}\n",
       "</style>\n",
       "<small>shape: (9, 21)</small><table border=\"1\" class=\"dataframe\"><thead><tr><th>Segment</th><th>Category</th><th>Row ID</th><th>Order ID</th><th>Order Date</th><th>Ship Date</th><th>Ship Mode</th><th>Customer ID</th><th>Customer Name</th><th>Country/Region</th><th>City</th><th>State</th><th>Postal Code</th><th>Region</th><th>Product ID</th><th>Sub-Category</th><th>Product Name</th><th>Sales</th><th>Quantity</th><th>Discount</th><th>Profit</th></tr><tr><td>str</td><td>str</td><td>i64</td><td>str</td><td>str</td><td>str</td><td>str</td><td>str</td><td>str</td><td>str</td><td>str</td><td>str</td><td>i64</td><td>str</td><td>str</td><td>str</td><td>str</td><td>f64</td><td>i64</td><td>f64</td><td>f64</td></tr></thead><tbody><tr><td>&quot;Consumer&quot;</td><td>&quot;Furniture&quot;</td><td>5588575</td><td>null</td><td>null</td><td>null</td><td>null</td><td>null</td><td>null</td><td>null</td><td>null</td><td>null</td><td>62976323</td><td>null</td><td>null</td><td>null</td><td>null</td><td>391049.312</td><td>4166</td><td>196.71</td><td>6991.0786</td></tr><tr><td>&quot;Corporate&quot;</td><td>&quot;Office Supplie…</td><td>9283262</td><td>null</td><td>null</td><td>null</td><td>null</td><td>null</td><td>null</td><td>null</td><td>null</td><td>null</td><td>98389795</td><td>null</td><td>null</td><td>null</td><td>null</td><td>230676.462</td><td>7018</td><td>292.3</td><td>40227.3202</td></tr><tr><td>&quot;Consumer&quot;</td><td>&quot;Office Supplie…</td><td>15337834</td><td>null</td><td>null</td><td>null</td><td>null</td><td>null</td><td>null</td><td>null</td><td>null</td><td>null</td><td>173003217</td><td>null</td><td>null</td><td>null</td><td>null</td><td>363952.136</td><td>11758</td><td>496.4</td><td>56330.321</td></tr><tr><td>&quot;Consumer&quot;</td><td>&quot;Technology&quot;</td><td>4654920</td><td>null</td><td>null</td><td>null</td><td>null</td><td>null</td><td>null</td><td>null</td><td>null</td><td>null</td><td>52872029</td><td>null</td><td>null</td><td>null</td><td>null</td><td>406399.897</td><td>3597</td><td>127.8</td><td>70797.8096</td></tr><tr><td>&quot;Home Office&quot;</td><td>&quot;Office Supplie…</td><td>5389439</td><td>null</td><td>null</td><td>null</td><td>null</td><td>null</td><td>null</td><td>null</td><td>null</td><td>null</td><td>59347412</td><td>null</td><td>null</td><td>null</td><td>null</td><td>124418.434</td><td>4130</td><td>159.1</td><td>25933.1596</td></tr><tr><td>&quot;Corporate&quot;</td><td>&quot;Technology&quot;</td><td>2861017</td><td>null</td><td>null</td><td>null</td><td>null</td><td>null</td><td>null</td><td>null</td><td>null</td><td>null</td><td>31378382</td><td>null</td><td>null</td><td>null</td><td>null</td><td>246450.119</td><td>2095</td><td>73.1</td><td>44166.998</td></tr><tr><td>&quot;Corporate&quot;</td><td>&quot;Furniture&quot;</td><td>3360455</td><td>null</td><td>null</td><td>null</td><td>null</td><td>null</td><td>null</td><td>null</td><td>null</td><td>null</td><td>34741113</td><td>null</td><td>null</td><td>null</td><td>null</td><td>229019.7858</td><td>2495</td><td>112.45</td><td>7584.8158</td></tr><tr><td>&quot;Home Office&quot;</td><td>&quot;Furniture&quot;</td><td>1744296</td><td>null</td><td>null</td><td>null</td><td>null</td><td>null</td><td>null</td><td>null</td><td>null</td><td>null</td><td>20467774</td><td>null</td><td>null</td><td>null</td><td>null</td><td>121930.6975</td><td>1367</td><td>59.73</td><td>3875.3784</td></tr><tr><td>&quot;Home Office&quot;</td><td>&quot;Technology&quot;</td><td>1725217</td><td>null</td><td>null</td><td>null</td><td>null</td><td>null</td><td>null</td><td>null</td><td>null</td><td>null</td><td>18337119</td><td>null</td><td>null</td><td>null</td><td>null</td><td>183304.017</td><td>1247</td><td>43.5</td><td>30490.1405</td></tr></tbody></table></div>"
      ],
      "text/plain": [
       "shape: (9, 21)\n",
       "┌────────────┬────────────┬──────────┬──────────┬───┬────────────┬──────────┬──────────┬───────────┐\n",
       "│ Segment    ┆ Category   ┆ Row ID   ┆ Order ID ┆ … ┆ Sales      ┆ Quantity ┆ Discount ┆ Profit    │\n",
       "│ ---        ┆ ---        ┆ ---      ┆ ---      ┆   ┆ ---        ┆ ---      ┆ ---      ┆ ---       │\n",
       "│ str        ┆ str        ┆ i64      ┆ str      ┆   ┆ f64        ┆ i64      ┆ f64      ┆ f64       │\n",
       "╞════════════╪════════════╪══════════╪══════════╪═══╪════════════╪══════════╪══════════╪═══════════╡\n",
       "│ Consumer   ┆ Furniture  ┆ 5588575  ┆ null     ┆ … ┆ 391049.312 ┆ 4166     ┆ 196.71   ┆ 6991.0786 │\n",
       "│ Corporate  ┆ Office     ┆ 9283262  ┆ null     ┆ … ┆ 230676.462 ┆ 7018     ┆ 292.3    ┆ 40227.320 │\n",
       "│            ┆ Supplies   ┆          ┆          ┆   ┆            ┆          ┆          ┆ 2         │\n",
       "│ Consumer   ┆ Office     ┆ 15337834 ┆ null     ┆ … ┆ 363952.136 ┆ 11758    ┆ 496.4    ┆ 56330.321 │\n",
       "│            ┆ Supplies   ┆          ┆          ┆   ┆            ┆          ┆          ┆           │\n",
       "│ Consumer   ┆ Technology ┆ 4654920  ┆ null     ┆ … ┆ 406399.897 ┆ 3597     ┆ 127.8    ┆ 70797.809 │\n",
       "│            ┆            ┆          ┆          ┆   ┆            ┆          ┆          ┆ 6         │\n",
       "│ Home       ┆ Office     ┆ 5389439  ┆ null     ┆ … ┆ 124418.434 ┆ 4130     ┆ 159.1    ┆ 25933.159 │\n",
       "│ Office     ┆ Supplies   ┆          ┆          ┆   ┆            ┆          ┆          ┆ 6         │\n",
       "│ Corporate  ┆ Technology ┆ 2861017  ┆ null     ┆ … ┆ 246450.119 ┆ 2095     ┆ 73.1     ┆ 44166.998 │\n",
       "│ Corporate  ┆ Furniture  ┆ 3360455  ┆ null     ┆ … ┆ 229019.785 ┆ 2495     ┆ 112.45   ┆ 7584.8158 │\n",
       "│            ┆            ┆          ┆          ┆   ┆ 8          ┆          ┆          ┆           │\n",
       "│ Home       ┆ Furniture  ┆ 1744296  ┆ null     ┆ … ┆ 121930.697 ┆ 1367     ┆ 59.73    ┆ 3875.3784 │\n",
       "│ Office     ┆            ┆          ┆          ┆   ┆ 5          ┆          ┆          ┆           │\n",
       "│ Home       ┆ Technology ┆ 1725217  ┆ null     ┆ … ┆ 183304.017 ┆ 1247     ┆ 43.5     ┆ 30490.140 │\n",
       "│ Office     ┆            ┆          ┆          ┆   ┆            ┆          ┆          ┆ 5         │\n",
       "└────────────┴────────────┴──────────┴──────────┴───┴────────────┴──────────┴──────────┴───────────┘"
      ]
     },
     "execution_count": 94,
     "metadata": {},
     "output_type": "execute_result"
    }
   ],
   "source": [
    "(data.lazy()\n",
    "    .groupby('Segment','Category',maintain_order=True)\n",
    "        .agg(pl.all().sum())\n",
    "        .collect())#collect to print the result from \n"
   ]
  },
  {
   "cell_type": "code",
   "execution_count": 71,
   "metadata": {},
   "outputs": [
    {
     "name": "stdout",
     "output_type": "stream",
     "text": [
      "shape: (9_994, 19)\n",
      "┌────────┬───────────────┬────────────┬────────────┬───┬──────────┬──────────┬──────────┬──────────┐\n",
      "│ Row ID ┆ Order ID      ┆ Order Date ┆ Ship Date  ┆ … ┆ Sales    ┆ Quantity ┆ Discount ┆ Profit   │\n",
      "│ ---    ┆ ---           ┆ ---        ┆ ---        ┆   ┆ ---      ┆ ---      ┆ ---      ┆ ---      │\n",
      "│ i64    ┆ str           ┆ str        ┆ str        ┆   ┆ f64      ┆ i64      ┆ f64      ┆ f64      │\n",
      "╞════════╪═══════════════╪════════════╪════════════╪═══╪══════════╪══════════╪══════════╪══════════╡\n",
      "│ 1      ┆ CA-2020-15215 ┆ 8/11/2020  ┆ 11/11/2020 ┆ … ┆ 261.96   ┆ 2        ┆ 0.0      ┆ 41.9136  │\n",
      "│        ┆ 6             ┆            ┆            ┆   ┆          ┆          ┆          ┆          │\n",
      "│ 2      ┆ CA-2020-15215 ┆ 8/11/2020  ┆ 11/11/2020 ┆ … ┆ 731.94   ┆ 3        ┆ 0.0      ┆ 219.582  │\n",
      "│        ┆ 6             ┆            ┆            ┆   ┆          ┆          ┆          ┆          │\n",
      "│ 3      ┆ CA-2020-13868 ┆ 12/6/2020  ┆ 16/6/2020  ┆ … ┆ 14.62    ┆ 2        ┆ 0.0      ┆ 6.8714   │\n",
      "│        ┆ 8             ┆            ┆            ┆   ┆          ┆          ┆          ┆          │\n",
      "│ 4      ┆ US-2019-10896 ┆ 11/10/2019 ┆ 18/10/2019 ┆ … ┆ 957.5775 ┆ 5        ┆ 0.45     ┆ -383.031 │\n",
      "│        ┆ 6             ┆            ┆            ┆   ┆          ┆          ┆          ┆          │\n",
      "│ …      ┆ …             ┆ …          ┆ …          ┆ … ┆ …        ┆ …        ┆ …        ┆ …        │\n",
      "│ 9991   ┆ CA-2021-12125 ┆ 26/2/2021  ┆ 3/3/2021   ┆ … ┆ 91.96    ┆ 2        ┆ 0.0      ┆ 15.6332  │\n",
      "│        ┆ 8             ┆            ┆            ┆   ┆          ┆          ┆          ┆          │\n",
      "│ 9992   ┆ CA-2021-12125 ┆ 26/2/2021  ┆ 3/3/2021   ┆ … ┆ 258.576  ┆ 2        ┆ 0.2      ┆ 19.3932  │\n",
      "│        ┆ 8             ┆            ┆            ┆   ┆          ┆          ┆          ┆          │\n",
      "│ 9993   ┆ CA-2021-12125 ┆ 26/2/2021  ┆ 3/3/2021   ┆ … ┆ 29.6     ┆ 4        ┆ 0.0      ┆ 13.32    │\n",
      "│        ┆ 8             ┆            ┆            ┆   ┆          ┆          ┆          ┆          │\n",
      "│ 9994   ┆ CA-2021-11991 ┆ 4/5/2021   ┆ 9/5/2021   ┆ … ┆ 243.16   ┆ 2        ┆ 0.0      ┆ 72.948   │\n",
      "│        ┆ 4             ┆            ┆            ┆   ┆          ┆          ┆          ┆          │\n",
      "└────────┴───────────────┴────────────┴────────────┴───┴──────────┴──────────┴──────────┴──────────┘\n"
     ]
    }
   ],
   "source": [
    "#exclude ceratian colimns \n",
    "data_ex=data.select(pl.exclude('Country/Region','Postal Code'))\n",
    "print(data_ex)"
   ]
  },
  {
   "cell_type": "code",
   "execution_count": 101,
   "metadata": {},
   "outputs": [],
   "source": [
    "#coverting datatype of order date columns\n",
    "data_new=data.with_columns(\n",
    "    pl.col('Order Date').str.strptime(pl.Date, format='%d %B %Y',strict=False).cast(pl.Datetime),\n",
    "    pl.col(\"Ship Date\").str.strptime(pl.Date, format='%d %B %Y',strict=False).cast(pl.Datetime)\n",
    ")"
   ]
  },
  {
   "cell_type": "code",
   "execution_count": 104,
   "metadata": {},
   "outputs": [],
   "source": [
    "#data_date=(data.filter(pl.col('Order Date').is_between(datetime(2020,10,1),datetime(2021,10,1))))"
   ]
  },
  {
   "cell_type": "code",
   "execution_count": 113,
   "metadata": {},
   "outputs": [
    {
     "data": {
      "text/html": [
       "<div><style>\n",
       ".dataframe > thead > tr > th,\n",
       ".dataframe > tbody > tr > td {\n",
       "  text-align: right;\n",
       "}\n",
       "</style>\n",
       "<small>shape: (3, 22)</small><table border=\"1\" class=\"dataframe\"><thead><tr><th>Row ID</th><th>Order ID</th><th>Order Date</th><th>Ship Date</th><th>Ship Mode</th><th>Customer ID</th><th>Customer Name</th><th>Segment</th><th>Country/Region</th><th>City</th><th>State</th><th>Postal Code</th><th>Region</th><th>Product ID</th><th>Category</th><th>Sub-Category</th><th>Product Name</th><th>Sales</th><th>Quantity</th><th>Discount</th><th>Profit</th><th>Average_Sales</th></tr><tr><td>i64</td><td>str</td><td>str</td><td>str</td><td>str</td><td>str</td><td>str</td><td>str</td><td>str</td><td>str</td><td>str</td><td>i64</td><td>str</td><td>str</td><td>str</td><td>str</td><td>str</td><td>f64</td><td>i64</td><td>f64</td><td>f64</td><td>f64</td></tr></thead><tbody><tr><td>1</td><td>&quot;CA-2020-152156…</td><td>&quot;8/11/2020&quot;</td><td>&quot;11/11/2020&quot;</td><td>&quot;Second Class&quot;</td><td>&quot;CG-12520&quot;</td><td>&quot;Claire Gute&quot;</td><td>&quot;Consumer&quot;</td><td>&quot;United States&quot;</td><td>&quot;Henderson&quot;</td><td>&quot;Kentucky&quot;</td><td>42420</td><td>&quot;South&quot;</td><td>&quot;FUR-BO-1000179…</td><td>&quot;Furniture&quot;</td><td>&quot;Bookcases&quot;</td><td>&quot;Bush Somerset …</td><td>261.96</td><td>2</td><td>0.0</td><td>41.9136</td><td>229.858001</td></tr><tr><td>2</td><td>&quot;CA-2020-152156…</td><td>&quot;8/11/2020&quot;</td><td>&quot;11/11/2020&quot;</td><td>&quot;Second Class&quot;</td><td>&quot;CG-12520&quot;</td><td>&quot;Claire Gute&quot;</td><td>&quot;Consumer&quot;</td><td>&quot;United States&quot;</td><td>&quot;Henderson&quot;</td><td>&quot;Kentucky&quot;</td><td>42420</td><td>&quot;South&quot;</td><td>&quot;FUR-CH-1000045…</td><td>&quot;Furniture&quot;</td><td>&quot;Chairs&quot;</td><td>&quot;Hon Deluxe Fab…</td><td>731.94</td><td>3</td><td>0.0</td><td>219.582</td><td>229.858001</td></tr><tr><td>3</td><td>&quot;CA-2020-138688…</td><td>&quot;12/6/2020&quot;</td><td>&quot;16/6/2020&quot;</td><td>&quot;Second Class&quot;</td><td>&quot;DV-13045&quot;</td><td>&quot;Darrin Van Huf…</td><td>&quot;Corporate&quot;</td><td>&quot;United States&quot;</td><td>&quot;Los Angeles&quot;</td><td>&quot;California&quot;</td><td>90036</td><td>&quot;West&quot;</td><td>&quot;OFF-LA-1000024…</td><td>&quot;Office Supplie…</td><td>&quot;Labels&quot;</td><td>&quot;Self-Adhesive …</td><td>14.62</td><td>2</td><td>0.0</td><td>6.8714</td><td>229.858001</td></tr></tbody></table></div>"
      ],
      "text/plain": [
       "shape: (3, 22)\n",
       "┌────────┬─────────────┬────────────┬────────────┬───┬──────────┬──────────┬─────────┬─────────────┐\n",
       "│ Row ID ┆ Order ID    ┆ Order Date ┆ Ship Date  ┆ … ┆ Quantity ┆ Discount ┆ Profit  ┆ Average_Sal │\n",
       "│ ---    ┆ ---         ┆ ---        ┆ ---        ┆   ┆ ---      ┆ ---      ┆ ---     ┆ es          │\n",
       "│ i64    ┆ str         ┆ str        ┆ str        ┆   ┆ i64      ┆ f64      ┆ f64     ┆ ---         │\n",
       "│        ┆             ┆            ┆            ┆   ┆          ┆          ┆         ┆ f64         │\n",
       "╞════════╪═════════════╪════════════╪════════════╪═══╪══════════╪══════════╪═════════╪═════════════╡\n",
       "│ 1      ┆ CA-2020-152 ┆ 8/11/2020  ┆ 11/11/2020 ┆ … ┆ 2        ┆ 0.0      ┆ 41.9136 ┆ 229.858001  │\n",
       "│        ┆ 156         ┆            ┆            ┆   ┆          ┆          ┆         ┆             │\n",
       "│ 2      ┆ CA-2020-152 ┆ 8/11/2020  ┆ 11/11/2020 ┆ … ┆ 3        ┆ 0.0      ┆ 219.582 ┆ 229.858001  │\n",
       "│        ┆ 156         ┆            ┆            ┆   ┆          ┆          ┆         ┆             │\n",
       "│ 3      ┆ CA-2020-138 ┆ 12/6/2020  ┆ 16/6/2020  ┆ … ┆ 2        ┆ 0.0      ┆ 6.8714  ┆ 229.858001  │\n",
       "│        ┆ 688         ┆            ┆            ┆   ┆          ┆          ┆         ┆             │\n",
       "└────────┴─────────────┴────────────┴────────────┴───┴──────────┴──────────┴─────────┴─────────────┘"
      ]
     },
     "execution_count": 113,
     "metadata": {},
     "output_type": "execute_result"
    }
   ],
   "source": [
    "#creating new column\n",
    "x=(data.with_columns(pl.col('Sales').mean().alias('Average_Sales')))\n",
    "x.head(3)"
   ]
  },
  {
   "cell_type": "code",
   "execution_count": 117,
   "metadata": {},
   "outputs": [
    {
     "data": {
      "text/html": [
       "<div><style>\n",
       ".dataframe > thead > tr > th,\n",
       ".dataframe > tbody > tr > td {\n",
       "  text-align: right;\n",
       "}\n",
       "</style>\n",
       "<small>shape: (2, 3)</small><table border=\"1\" class=\"dataframe\"><thead><tr><th>StudentID</th><th>name</th><th>Height</th></tr><tr><td>i64</td><td>str</td><td>f64</td></tr></thead><tbody><tr><td>7622</td><td>&quot;Sita&quot;</td><td>5.5</td></tr><tr><td>3644</td><td>&quot;Anju&quot;</td><td>4.9</td></tr></tbody></table></div>"
      ],
      "text/plain": [
       "shape: (2, 3)\n",
       "┌───────────┬──────┬────────┐\n",
       "│ StudentID ┆ name ┆ Height │\n",
       "│ ---       ┆ ---  ┆ ---    │\n",
       "│ i64       ┆ str  ┆ f64    │\n",
       "╞═══════════╪══════╪════════╡\n",
       "│ 7622      ┆ Sita ┆ 5.5    │\n",
       "│ 3644      ┆ Anju ┆ 4.9    │\n",
       "└───────────┴──────┴────────┘"
      ]
     },
     "execution_count": 117,
     "metadata": {},
     "output_type": "execute_result"
    }
   ],
   "source": [
    "#combining 2 dataframes\n",
    "table1= pl.DataFrame({'StudentID': [5081,7622, 6423,3644],\n",
    "    'name': ['Ram', 'Sita', 'Sneha', 'Anju']})\n",
    "table2 = pl.DataFrame({'StudentID': [7622,7676, 3644,1244],\n",
    "    'Height': [5.5, 5.9, 4.9,5.4]\n",
    "})\n",
    "tab_combined=table1.join(table2, on=\"StudentID\")\n",
    "tab_combined"
   ]
  },
  {
   "cell_type": "code",
   "execution_count": 120,
   "metadata": {},
   "outputs": [
    {
     "data": {
      "text/html": [
       "<div><style>\n",
       ".dataframe > thead > tr > th,\n",
       ".dataframe > tbody > tr > td {\n",
       "  text-align: right;\n",
       "}\n",
       "</style>\n",
       "<small>shape: (8, 2)</small><table border=\"1\" class=\"dataframe\"><thead><tr><th>StudentID</th><th>name</th></tr><tr><td>i64</td><td>str</td></tr></thead><tbody><tr><td>5081</td><td>&quot;Ram&quot;</td></tr><tr><td>7622</td><td>&quot;Sita&quot;</td></tr><tr><td>6423</td><td>&quot;Sneha&quot;</td></tr><tr><td>3644</td><td>&quot;Anju&quot;</td></tr><tr><td>7622</td><td>&quot;Sita&quot;</td></tr><tr><td>7676</td><td>&quot;george&quot;</td></tr><tr><td>3644</td><td>&quot;Sneha&quot;</td></tr><tr><td>1244</td><td>&quot;Rishi&quot;</td></tr></tbody></table></div>"
      ],
      "text/plain": [
       "shape: (8, 2)\n",
       "┌───────────┬────────┐\n",
       "│ StudentID ┆ name   │\n",
       "│ ---       ┆ ---    │\n",
       "│ i64       ┆ str    │\n",
       "╞═══════════╪════════╡\n",
       "│ 5081      ┆ Ram    │\n",
       "│ 7622      ┆ Sita   │\n",
       "│ 6423      ┆ Sneha  │\n",
       "│ 3644      ┆ Anju   │\n",
       "│ 7622      ┆ Sita   │\n",
       "│ 7676      ┆ george │\n",
       "│ 3644      ┆ Sneha  │\n",
       "│ 1244      ┆ Rishi  │\n",
       "└───────────┴────────┘"
      ]
     },
     "execution_count": 120,
     "metadata": {},
     "output_type": "execute_result"
    }
   ],
   "source": [
    "#combining 2 dataframes\n",
    "table1= pl.DataFrame({'StudentID': [5081,7622, 6423,3644],\n",
    "    'name': ['Ram', 'Sita', 'Sneha', 'Anju']})\n",
    "table2 = pl.DataFrame({'StudentID': [7622,7676, 3644,1244],\n",
    "    'name': ['Sita','george','Sneha','Rishi' ]})\n",
    "table_concat=pl.concat([table1,table2])\n",
    "table_concat"
   ]
  },
  {
   "cell_type": "code",
   "execution_count": null,
   "metadata": {},
   "outputs": [],
   "source": []
  }
 ],
 "metadata": {
  "kernelspec": {
   "display_name": "base",
   "language": "python",
   "name": "python3"
  },
  "language_info": {
   "codemirror_mode": {
    "name": "ipython",
    "version": 3
   },
   "file_extension": ".py",
   "mimetype": "text/x-python",
   "name": "python",
   "nbconvert_exporter": "python",
   "pygments_lexer": "ipython3",
   "version": "3.10.9"
  },
  "orig_nbformat": 4
 },
 "nbformat": 4,
 "nbformat_minor": 2
}
