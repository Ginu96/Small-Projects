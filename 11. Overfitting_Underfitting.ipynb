{
 "cells": [
  {
   "cell_type": "code",
   "execution_count": 303,
   "metadata": {},
   "outputs": [],
   "source": [
    "import numpy as np\n",
    "import pandas as pd\n",
    "import matplotlib.pyplot as plt\n",
    "import seaborn as sns\n",
    "\n",
    "from sklearn.preprocessing import LabelEncoder\n",
    "from sklearn.tree import DecisionTreeRegressor\n",
    "from sklearn.model_selection import train_test_split\n",
    "from sklearn.linear_model import LinearRegression\n",
    "from sklearn.model_selection import learning_curve\n",
    "from sklearn.metrics import mean_squared_error, mean_absolute_error, r2_score\n",
    "from sklearn.metrics import mean_squared_log_error, median_absolute_error\n",
    "\n",
    "from sklearn.preprocessing import StandardScaler\n",
    "from imblearn.over_sampling import SMOTE\n",
    "from sklearn.feature_selection import SelectKBest,f_classif\n",
    "from sklearn.model_selection import cross_val_score, KFold, StratifiedKFold,cross_validate, cross_val_score\n",
    "from sklearn.tree import DecisionTreeClassifier\n",
    "from sklearn.ensemble import RandomForestClassifier\n",
    "from sklearn.linear_model import LogisticRegression\n",
    "from sklearn import tree\n",
    "from sklearn.metrics import accuracy_score, precision_score, recall_score, f1_score, confusion_matrix,classification_report\n",
    "\n",
    "import warnings\n",
    "warnings.filterwarnings('ignore')"
   ]
  },
  {
   "cell_type": "code",
   "execution_count": 155,
   "metadata": {},
   "outputs": [
    {
     "data": {
      "text/html": [
       "<div>\n",
       "<style scoped>\n",
       "    .dataframe tbody tr th:only-of-type {\n",
       "        vertical-align: middle;\n",
       "    }\n",
       "\n",
       "    .dataframe tbody tr th {\n",
       "        vertical-align: top;\n",
       "    }\n",
       "\n",
       "    .dataframe thead th {\n",
       "        text-align: right;\n",
       "    }\n",
       "</style>\n",
       "<table border=\"1\" class=\"dataframe\">\n",
       "  <thead>\n",
       "    <tr style=\"text-align: right;\">\n",
       "      <th></th>\n",
       "      <th>Age</th>\n",
       "      <th>Gender</th>\n",
       "      <th>Education Level</th>\n",
       "      <th>Job Title</th>\n",
       "      <th>Years of Experience</th>\n",
       "      <th>Salary</th>\n",
       "    </tr>\n",
       "  </thead>\n",
       "  <tbody>\n",
       "    <tr>\n",
       "      <th>0</th>\n",
       "      <td>32.0</td>\n",
       "      <td>Male</td>\n",
       "      <td>Bachelor's</td>\n",
       "      <td>Software Engineer</td>\n",
       "      <td>5.0</td>\n",
       "      <td>90000.0</td>\n",
       "    </tr>\n",
       "    <tr>\n",
       "      <th>1</th>\n",
       "      <td>28.0</td>\n",
       "      <td>Female</td>\n",
       "      <td>Master's</td>\n",
       "      <td>Data Analyst</td>\n",
       "      <td>3.0</td>\n",
       "      <td>65000.0</td>\n",
       "    </tr>\n",
       "    <tr>\n",
       "      <th>2</th>\n",
       "      <td>45.0</td>\n",
       "      <td>Male</td>\n",
       "      <td>PhD</td>\n",
       "      <td>Senior Manager</td>\n",
       "      <td>15.0</td>\n",
       "      <td>150000.0</td>\n",
       "    </tr>\n",
       "    <tr>\n",
       "      <th>3</th>\n",
       "      <td>36.0</td>\n",
       "      <td>Female</td>\n",
       "      <td>Bachelor's</td>\n",
       "      <td>Sales Associate</td>\n",
       "      <td>7.0</td>\n",
       "      <td>60000.0</td>\n",
       "    </tr>\n",
       "    <tr>\n",
       "      <th>4</th>\n",
       "      <td>52.0</td>\n",
       "      <td>Male</td>\n",
       "      <td>Master's</td>\n",
       "      <td>Director</td>\n",
       "      <td>20.0</td>\n",
       "      <td>200000.0</td>\n",
       "    </tr>\n",
       "    <tr>\n",
       "      <th>...</th>\n",
       "      <td>...</td>\n",
       "      <td>...</td>\n",
       "      <td>...</td>\n",
       "      <td>...</td>\n",
       "      <td>...</td>\n",
       "      <td>...</td>\n",
       "    </tr>\n",
       "    <tr>\n",
       "      <th>6699</th>\n",
       "      <td>49.0</td>\n",
       "      <td>Female</td>\n",
       "      <td>PhD</td>\n",
       "      <td>Director of Marketing</td>\n",
       "      <td>20.0</td>\n",
       "      <td>200000.0</td>\n",
       "    </tr>\n",
       "    <tr>\n",
       "      <th>6700</th>\n",
       "      <td>32.0</td>\n",
       "      <td>Male</td>\n",
       "      <td>High School</td>\n",
       "      <td>Sales Associate</td>\n",
       "      <td>3.0</td>\n",
       "      <td>50000.0</td>\n",
       "    </tr>\n",
       "    <tr>\n",
       "      <th>6701</th>\n",
       "      <td>30.0</td>\n",
       "      <td>Female</td>\n",
       "      <td>Bachelor's Degree</td>\n",
       "      <td>Financial Manager</td>\n",
       "      <td>4.0</td>\n",
       "      <td>55000.0</td>\n",
       "    </tr>\n",
       "    <tr>\n",
       "      <th>6702</th>\n",
       "      <td>46.0</td>\n",
       "      <td>Male</td>\n",
       "      <td>Master's Degree</td>\n",
       "      <td>Marketing Manager</td>\n",
       "      <td>14.0</td>\n",
       "      <td>140000.0</td>\n",
       "    </tr>\n",
       "    <tr>\n",
       "      <th>6703</th>\n",
       "      <td>26.0</td>\n",
       "      <td>Female</td>\n",
       "      <td>High School</td>\n",
       "      <td>Sales Executive</td>\n",
       "      <td>1.0</td>\n",
       "      <td>35000.0</td>\n",
       "    </tr>\n",
       "  </tbody>\n",
       "</table>\n",
       "<p>6704 rows × 6 columns</p>\n",
       "</div>"
      ],
      "text/plain": [
       "       Age  Gender    Education Level              Job Title  \\\n",
       "0     32.0    Male         Bachelor's      Software Engineer   \n",
       "1     28.0  Female           Master's           Data Analyst   \n",
       "2     45.0    Male                PhD         Senior Manager   \n",
       "3     36.0  Female         Bachelor's        Sales Associate   \n",
       "4     52.0    Male           Master's               Director   \n",
       "...    ...     ...                ...                    ...   \n",
       "6699  49.0  Female                PhD  Director of Marketing   \n",
       "6700  32.0    Male        High School        Sales Associate   \n",
       "6701  30.0  Female  Bachelor's Degree      Financial Manager   \n",
       "6702  46.0    Male    Master's Degree      Marketing Manager   \n",
       "6703  26.0  Female        High School        Sales Executive   \n",
       "\n",
       "      Years of Experience    Salary  \n",
       "0                     5.0   90000.0  \n",
       "1                     3.0   65000.0  \n",
       "2                    15.0  150000.0  \n",
       "3                     7.0   60000.0  \n",
       "4                    20.0  200000.0  \n",
       "...                   ...       ...  \n",
       "6699                 20.0  200000.0  \n",
       "6700                  3.0   50000.0  \n",
       "6701                  4.0   55000.0  \n",
       "6702                 14.0  140000.0  \n",
       "6703                  1.0   35000.0  \n",
       "\n",
       "[6704 rows x 6 columns]"
      ]
     },
     "execution_count": 155,
     "metadata": {},
     "output_type": "execute_result"
    }
   ],
   "source": [
    "#reading the data \n",
    "df=pd.read_csv(\"D:\\Beinex\\Python\\Dataset-Kaggle\\Task_26-06\\Salary_Data.csv\")\n",
    "df"
   ]
  },
  {
   "attachments": {},
   "cell_type": "markdown",
   "metadata": {},
   "source": [
    "##### Understanding the data and its distribution"
   ]
  },
  {
   "cell_type": "code",
   "execution_count": 156,
   "metadata": {},
   "outputs": [
    {
     "data": {
      "text/html": [
       "<div>\n",
       "<style scoped>\n",
       "    .dataframe tbody tr th:only-of-type {\n",
       "        vertical-align: middle;\n",
       "    }\n",
       "\n",
       "    .dataframe tbody tr th {\n",
       "        vertical-align: top;\n",
       "    }\n",
       "\n",
       "    .dataframe thead th {\n",
       "        text-align: right;\n",
       "    }\n",
       "</style>\n",
       "<table border=\"1\" class=\"dataframe\">\n",
       "  <thead>\n",
       "    <tr style=\"text-align: right;\">\n",
       "      <th></th>\n",
       "      <th>Age</th>\n",
       "      <th>Years of Experience</th>\n",
       "      <th>Salary</th>\n",
       "    </tr>\n",
       "  </thead>\n",
       "  <tbody>\n",
       "    <tr>\n",
       "      <th>count</th>\n",
       "      <td>6702.000000</td>\n",
       "      <td>6701.000000</td>\n",
       "      <td>6699.000000</td>\n",
       "    </tr>\n",
       "    <tr>\n",
       "      <th>mean</th>\n",
       "      <td>33.620859</td>\n",
       "      <td>8.094687</td>\n",
       "      <td>115326.964771</td>\n",
       "    </tr>\n",
       "    <tr>\n",
       "      <th>std</th>\n",
       "      <td>7.614633</td>\n",
       "      <td>6.059003</td>\n",
       "      <td>52786.183911</td>\n",
       "    </tr>\n",
       "    <tr>\n",
       "      <th>min</th>\n",
       "      <td>21.000000</td>\n",
       "      <td>0.000000</td>\n",
       "      <td>350.000000</td>\n",
       "    </tr>\n",
       "    <tr>\n",
       "      <th>25%</th>\n",
       "      <td>28.000000</td>\n",
       "      <td>3.000000</td>\n",
       "      <td>70000.000000</td>\n",
       "    </tr>\n",
       "    <tr>\n",
       "      <th>50%</th>\n",
       "      <td>32.000000</td>\n",
       "      <td>7.000000</td>\n",
       "      <td>115000.000000</td>\n",
       "    </tr>\n",
       "    <tr>\n",
       "      <th>75%</th>\n",
       "      <td>38.000000</td>\n",
       "      <td>12.000000</td>\n",
       "      <td>160000.000000</td>\n",
       "    </tr>\n",
       "    <tr>\n",
       "      <th>max</th>\n",
       "      <td>62.000000</td>\n",
       "      <td>34.000000</td>\n",
       "      <td>250000.000000</td>\n",
       "    </tr>\n",
       "  </tbody>\n",
       "</table>\n",
       "</div>"
      ],
      "text/plain": [
       "               Age  Years of Experience         Salary\n",
       "count  6702.000000          6701.000000    6699.000000\n",
       "mean     33.620859             8.094687  115326.964771\n",
       "std       7.614633             6.059003   52786.183911\n",
       "min      21.000000             0.000000     350.000000\n",
       "25%      28.000000             3.000000   70000.000000\n",
       "50%      32.000000             7.000000  115000.000000\n",
       "75%      38.000000            12.000000  160000.000000\n",
       "max      62.000000            34.000000  250000.000000"
      ]
     },
     "execution_count": 156,
     "metadata": {},
     "output_type": "execute_result"
    }
   ],
   "source": [
    "df.describe()"
   ]
  },
  {
   "cell_type": "code",
   "execution_count": 157,
   "metadata": {},
   "outputs": [
    {
     "name": "stdout",
     "output_type": "stream",
     "text": [
      "<class 'pandas.core.frame.DataFrame'>\n",
      "RangeIndex: 6704 entries, 0 to 6703\n",
      "Data columns (total 6 columns):\n",
      " #   Column               Non-Null Count  Dtype  \n",
      "---  ------               --------------  -----  \n",
      " 0   Age                  6702 non-null   float64\n",
      " 1   Gender               6702 non-null   object \n",
      " 2   Education Level      6701 non-null   object \n",
      " 3   Job Title            6702 non-null   object \n",
      " 4   Years of Experience  6701 non-null   float64\n",
      " 5   Salary               6699 non-null   float64\n",
      "dtypes: float64(3), object(3)\n",
      "memory usage: 314.4+ KB\n"
     ]
    }
   ],
   "source": [
    "df.info()"
   ]
  },
  {
   "attachments": {},
   "cell_type": "markdown",
   "metadata": {},
   "source": [
    "##### Data cleaning & Feature Engineering"
   ]
  },
  {
   "attachments": {},
   "cell_type": "markdown",
   "metadata": {},
   "source": [
    "*Since the data does not have any unique id or we will not remove duplicates*"
   ]
  },
  {
   "cell_type": "code",
   "execution_count": 158,
   "metadata": {},
   "outputs": [
    {
     "data": {
      "text/plain": [
       "Age                    2\n",
       "Gender                 2\n",
       "Education Level        3\n",
       "Job Title              2\n",
       "Years of Experience    3\n",
       "Salary                 5\n",
       "dtype: int64"
      ]
     },
     "execution_count": 158,
     "metadata": {},
     "output_type": "execute_result"
    }
   ],
   "source": [
    "#checkking whether there is any na values in the data\n",
    "df.isna().sum()"
   ]
  },
  {
   "cell_type": "code",
   "execution_count": 159,
   "metadata": {},
   "outputs": [
    {
     "data": {
      "text/html": [
       "<div>\n",
       "<style scoped>\n",
       "    .dataframe tbody tr th:only-of-type {\n",
       "        vertical-align: middle;\n",
       "    }\n",
       "\n",
       "    .dataframe tbody tr th {\n",
       "        vertical-align: top;\n",
       "    }\n",
       "\n",
       "    .dataframe thead th {\n",
       "        text-align: right;\n",
       "    }\n",
       "</style>\n",
       "<table border=\"1\" class=\"dataframe\">\n",
       "  <thead>\n",
       "    <tr style=\"text-align: right;\">\n",
       "      <th></th>\n",
       "      <th>Age</th>\n",
       "      <th>Gender</th>\n",
       "      <th>Education Level</th>\n",
       "      <th>Job Title</th>\n",
       "      <th>Years of Experience</th>\n",
       "      <th>Salary</th>\n",
       "    </tr>\n",
       "  </thead>\n",
       "  <tbody>\n",
       "    <tr>\n",
       "      <th>172</th>\n",
       "      <td>NaN</td>\n",
       "      <td>NaN</td>\n",
       "      <td>NaN</td>\n",
       "      <td>NaN</td>\n",
       "      <td>NaN</td>\n",
       "      <td>NaN</td>\n",
       "    </tr>\n",
       "    <tr>\n",
       "      <th>260</th>\n",
       "      <td>NaN</td>\n",
       "      <td>NaN</td>\n",
       "      <td>NaN</td>\n",
       "      <td>NaN</td>\n",
       "      <td>NaN</td>\n",
       "      <td>NaN</td>\n",
       "    </tr>\n",
       "    <tr>\n",
       "      <th>2011</th>\n",
       "      <td>27.0</td>\n",
       "      <td>Male</td>\n",
       "      <td>NaN</td>\n",
       "      <td>Developer</td>\n",
       "      <td>7.0</td>\n",
       "      <td>100000.0</td>\n",
       "    </tr>\n",
       "  </tbody>\n",
       "</table>\n",
       "</div>"
      ],
      "text/plain": [
       "       Age Gender Education Level  Job Title  Years of Experience    Salary\n",
       "172    NaN    NaN             NaN        NaN                  NaN       NaN\n",
       "260    NaN    NaN             NaN        NaN                  NaN       NaN\n",
       "2011  27.0   Male             NaN  Developer                  7.0  100000.0"
      ]
     },
     "execution_count": 159,
     "metadata": {},
     "output_type": "execute_result"
    }
   ],
   "source": [
    "#finding rows where education level is na \n",
    "df[df['Education Level'].isna()]"
   ]
  },
  {
   "cell_type": "code",
   "execution_count": 160,
   "metadata": {},
   "outputs": [
    {
     "data": {
      "text/plain": [
       "Age                    0\n",
       "Gender                 0\n",
       "Education Level        1\n",
       "Job Title              0\n",
       "Years of Experience    1\n",
       "Salary                 3\n",
       "dtype: int64"
      ]
     },
     "execution_count": 160,
     "metadata": {},
     "output_type": "execute_result"
    }
   ],
   "source": [
    "#drop rows where all values are na\n",
    "df=df.dropna(how='all',axis=0)\n",
    "#checking the na values in data after dropping \n",
    "df.isna().sum()"
   ]
  },
  {
   "cell_type": "code",
   "execution_count": 161,
   "metadata": {},
   "outputs": [
    {
     "name": "stdout",
     "output_type": "stream",
     "text": [
      "Education Level\n",
      "Bachelor's Degree    2267\n",
      "Master's Degree      1573\n",
      "PhD                  1368\n",
      "Bachelor's            756\n",
      "High School           448\n",
      "Master's              288\n",
      "phD                     1\n",
      "dtype: int64\n"
     ]
    }
   ],
   "source": [
    "#labels in eductaion distribution in the data\n",
    "edu=df.value_counts(df['Education Level'])\n",
    "print(edu)"
   ]
  },
  {
   "cell_type": "code",
   "execution_count": 162,
   "metadata": {},
   "outputs": [
    {
     "data": {
      "text/html": [
       "<div>\n",
       "<style scoped>\n",
       "    .dataframe tbody tr th:only-of-type {\n",
       "        vertical-align: middle;\n",
       "    }\n",
       "\n",
       "    .dataframe tbody tr th {\n",
       "        vertical-align: top;\n",
       "    }\n",
       "\n",
       "    .dataframe thead th {\n",
       "        text-align: right;\n",
       "    }\n",
       "</style>\n",
       "<table border=\"1\" class=\"dataframe\">\n",
       "  <thead>\n",
       "    <tr style=\"text-align: right;\">\n",
       "      <th></th>\n",
       "      <th>Age</th>\n",
       "      <th>Gender</th>\n",
       "      <th>Education Level</th>\n",
       "      <th>Job Title</th>\n",
       "      <th>Years of Experience</th>\n",
       "      <th>Salary</th>\n",
       "      <th>Education</th>\n",
       "    </tr>\n",
       "  </thead>\n",
       "  <tbody>\n",
       "    <tr>\n",
       "      <th>0</th>\n",
       "      <td>32.0</td>\n",
       "      <td>Male</td>\n",
       "      <td>Bachelor's</td>\n",
       "      <td>Software Engineer</td>\n",
       "      <td>5.0</td>\n",
       "      <td>90000.0</td>\n",
       "      <td>2.0</td>\n",
       "    </tr>\n",
       "    <tr>\n",
       "      <th>1</th>\n",
       "      <td>28.0</td>\n",
       "      <td>Female</td>\n",
       "      <td>Master's</td>\n",
       "      <td>Data Analyst</td>\n",
       "      <td>3.0</td>\n",
       "      <td>65000.0</td>\n",
       "      <td>3.0</td>\n",
       "    </tr>\n",
       "    <tr>\n",
       "      <th>2</th>\n",
       "      <td>45.0</td>\n",
       "      <td>Male</td>\n",
       "      <td>PhD</td>\n",
       "      <td>Senior Manager</td>\n",
       "      <td>15.0</td>\n",
       "      <td>150000.0</td>\n",
       "      <td>4.0</td>\n",
       "    </tr>\n",
       "    <tr>\n",
       "      <th>3</th>\n",
       "      <td>36.0</td>\n",
       "      <td>Female</td>\n",
       "      <td>Bachelor's</td>\n",
       "      <td>Sales Associate</td>\n",
       "      <td>7.0</td>\n",
       "      <td>60000.0</td>\n",
       "      <td>2.0</td>\n",
       "    </tr>\n",
       "    <tr>\n",
       "      <th>4</th>\n",
       "      <td>52.0</td>\n",
       "      <td>Male</td>\n",
       "      <td>Master's</td>\n",
       "      <td>Director</td>\n",
       "      <td>20.0</td>\n",
       "      <td>200000.0</td>\n",
       "      <td>3.0</td>\n",
       "    </tr>\n",
       "  </tbody>\n",
       "</table>\n",
       "</div>"
      ],
      "text/plain": [
       "    Age  Gender Education Level          Job Title  Years of Experience  \\\n",
       "0  32.0    Male      Bachelor's  Software Engineer                  5.0   \n",
       "1  28.0  Female        Master's       Data Analyst                  3.0   \n",
       "2  45.0    Male             PhD     Senior Manager                 15.0   \n",
       "3  36.0  Female      Bachelor's    Sales Associate                  7.0   \n",
       "4  52.0    Male        Master's           Director                 20.0   \n",
       "\n",
       "     Salary  Education  \n",
       "0   90000.0        2.0  \n",
       "1   65000.0        3.0  \n",
       "2  150000.0        4.0  \n",
       "3   60000.0        2.0  \n",
       "4  200000.0        3.0  "
      ]
     },
     "execution_count": 162,
     "metadata": {},
     "output_type": "execute_result"
    }
   ],
   "source": [
    "#found multiple category labels, combined and mapped them\n",
    "map_var={\"High School\":1,\"Bachelor's Degree\":2,\"Bachelor's\":2,\"Master's Degree\":3,\"Master's\":3,\"PhD\":4,\"phD\":4}\n",
    "df['Education'] = df['Education Level'].transform(lambda x: x.map(map_var))\n",
    "df['Education'].unique()\n",
    "df.head()"
   ]
  },
  {
   "cell_type": "code",
   "execution_count": 163,
   "metadata": {},
   "outputs": [
    {
     "data": {
      "text/html": [
       "<div>\n",
       "<style scoped>\n",
       "    .dataframe tbody tr th:only-of-type {\n",
       "        vertical-align: middle;\n",
       "    }\n",
       "\n",
       "    .dataframe tbody tr th {\n",
       "        vertical-align: top;\n",
       "    }\n",
       "\n",
       "    .dataframe thead th {\n",
       "        text-align: right;\n",
       "    }\n",
       "</style>\n",
       "<table border=\"1\" class=\"dataframe\">\n",
       "  <thead>\n",
       "    <tr style=\"text-align: right;\">\n",
       "      <th></th>\n",
       "      <th>Age</th>\n",
       "      <th>Gender</th>\n",
       "      <th>Education Level</th>\n",
       "      <th>Job Title</th>\n",
       "      <th>Years of Experience</th>\n",
       "      <th>Salary</th>\n",
       "      <th>Education</th>\n",
       "    </tr>\n",
       "  </thead>\n",
       "  <tbody>\n",
       "    <tr>\n",
       "      <th>3136</th>\n",
       "      <td>31.0</td>\n",
       "      <td>Male</td>\n",
       "      <td>Master's Degree</td>\n",
       "      <td>Full Stack Engineer</td>\n",
       "      <td>8.0</td>\n",
       "      <td>NaN</td>\n",
       "      <td>3.0</td>\n",
       "    </tr>\n",
       "    <tr>\n",
       "      <th>5247</th>\n",
       "      <td>26.0</td>\n",
       "      <td>Female</td>\n",
       "      <td>Bachelor's Degree</td>\n",
       "      <td>Social M</td>\n",
       "      <td>NaN</td>\n",
       "      <td>NaN</td>\n",
       "      <td>2.0</td>\n",
       "    </tr>\n",
       "    <tr>\n",
       "      <th>6455</th>\n",
       "      <td>36.0</td>\n",
       "      <td>Male</td>\n",
       "      <td>Bachelor's Degree</td>\n",
       "      <td>Sales Director</td>\n",
       "      <td>6.0</td>\n",
       "      <td>NaN</td>\n",
       "      <td>2.0</td>\n",
       "    </tr>\n",
       "  </tbody>\n",
       "</table>\n",
       "</div>"
      ],
      "text/plain": [
       "       Age  Gender    Education Level            Job Title  \\\n",
       "3136  31.0    Male    Master's Degree  Full Stack Engineer   \n",
       "5247  26.0  Female  Bachelor's Degree             Social M   \n",
       "6455  36.0    Male  Bachelor's Degree       Sales Director   \n",
       "\n",
       "      Years of Experience  Salary  Education  \n",
       "3136                  8.0     NaN        3.0  \n",
       "5247                  NaN     NaN        2.0  \n",
       "6455                  6.0     NaN        2.0  "
      ]
     },
     "execution_count": 163,
     "metadata": {},
     "output_type": "execute_result"
    }
   ],
   "source": [
    "df[df['Salary'].isna()]"
   ]
  },
  {
   "cell_type": "code",
   "execution_count": 164,
   "metadata": {},
   "outputs": [
    {
     "data": {
      "text/html": [
       "<div>\n",
       "<style scoped>\n",
       "    .dataframe tbody tr th:only-of-type {\n",
       "        vertical-align: middle;\n",
       "    }\n",
       "\n",
       "    .dataframe tbody tr th {\n",
       "        vertical-align: top;\n",
       "    }\n",
       "\n",
       "    .dataframe thead th {\n",
       "        text-align: right;\n",
       "    }\n",
       "</style>\n",
       "<table border=\"1\" class=\"dataframe\">\n",
       "  <thead>\n",
       "    <tr style=\"text-align: right;\">\n",
       "      <th></th>\n",
       "      <th>Age</th>\n",
       "      <th>Gender</th>\n",
       "      <th>Education Level</th>\n",
       "      <th>Job Title</th>\n",
       "      <th>Years of Experience</th>\n",
       "      <th>Salary</th>\n",
       "      <th>Education</th>\n",
       "    </tr>\n",
       "  </thead>\n",
       "  <tbody>\n",
       "    <tr>\n",
       "      <th>2011</th>\n",
       "      <td>27.0</td>\n",
       "      <td>Male</td>\n",
       "      <td>NaN</td>\n",
       "      <td>Developer</td>\n",
       "      <td>7.0</td>\n",
       "      <td>NaN</td>\n",
       "      <td>NaN</td>\n",
       "    </tr>\n",
       "  </tbody>\n",
       "</table>\n",
       "</div>"
      ],
      "text/plain": [
       "       Age Gender Education Level  Job Title  Years of Experience  Salary  \\\n",
       "2011  27.0   Male             NaN  Developer                  7.0     NaN   \n",
       "\n",
       "      Education  \n",
       "2011        NaN  "
      ]
     },
     "execution_count": 164,
     "metadata": {},
     "output_type": "execute_result"
    }
   ],
   "source": [
    "#fill the missing salary considering the job title and eductaion\n",
    "df['Salary']=df.groupby(['Job Title','Education'])['Education'].transform(lambda x: x.fillna(x.mode().iloc[0]))\n",
    "df[df['Salary'].isna()]"
   ]
  },
  {
   "cell_type": "code",
   "execution_count": 165,
   "metadata": {},
   "outputs": [
    {
     "data": {
      "text/plain": [
       "Age                    0\n",
       "Gender                 0\n",
       "Education Level        0\n",
       "Job Title              0\n",
       "Years of Experience    0\n",
       "Salary                 0\n",
       "Education              0\n",
       "dtype: int64"
      ]
     },
     "execution_count": 165,
     "metadata": {},
     "output_type": "execute_result"
    }
   ],
   "source": [
    "#dropping the rows where still na values are present \n",
    "df.dropna(axis=0,inplace=True)\n",
    "df.isna().sum()\n"
   ]
  },
  {
   "cell_type": "code",
   "execution_count": 166,
   "metadata": {},
   "outputs": [
    {
     "name": "stdout",
     "output_type": "stream",
     "text": [
      "Gender\n",
      "Male      3673\n",
      "Female    3013\n",
      "Other       14\n",
      "dtype: int64\n"
     ]
    },
    {
     "data": {
      "image/png": "[encoded data removed]",
      "text/plain": [
       "<Figure size 640x480 with 1 Axes>"
      ]
     },
     "metadata": {},
     "output_type": "display_data"
    }
   ],
   "source": [
    "#plotting the gender distribution in the data\n",
    "gender=df.value_counts(df['Gender'])\n",
    "print(gender)\n",
    "plt.pie(gender,labels=gender,autopct='%1.1f%%')\n",
    "plt.title('Gender distribution in Salary data')\n",
    "plt.show()"
   ]
  },
  {
   "attachments": {},
   "cell_type": "markdown",
   "metadata": {},
   "source": [
    "*The data has almost an equal distribution of male and female, however the 'other' categories are found to be significantly less*"
   ]
  },
  {
   "cell_type": "code",
   "execution_count": 167,
   "metadata": {},
   "outputs": [
    {
     "data": {
      "text/html": [
       "<div>\n",
       "<style scoped>\n",
       "    .dataframe tbody tr th:only-of-type {\n",
       "        vertical-align: middle;\n",
       "    }\n",
       "\n",
       "    .dataframe tbody tr th {\n",
       "        vertical-align: top;\n",
       "    }\n",
       "\n",
       "    .dataframe thead th {\n",
       "        text-align: right;\n",
       "    }\n",
       "</style>\n",
       "<table border=\"1\" class=\"dataframe\">\n",
       "  <thead>\n",
       "    <tr style=\"text-align: right;\">\n",
       "      <th></th>\n",
       "      <th>Age</th>\n",
       "      <th>Gender</th>\n",
       "      <th>Education Level</th>\n",
       "      <th>Job Title</th>\n",
       "      <th>Years of Experience</th>\n",
       "      <th>Salary</th>\n",
       "      <th>Education</th>\n",
       "    </tr>\n",
       "  </thead>\n",
       "  <tbody>\n",
       "    <tr>\n",
       "      <th>0</th>\n",
       "      <td>32.0</td>\n",
       "      <td>1</td>\n",
       "      <td>Bachelor's</td>\n",
       "      <td>Software Engineer</td>\n",
       "      <td>5.0</td>\n",
       "      <td>2.0</td>\n",
       "      <td>2.0</td>\n",
       "    </tr>\n",
       "    <tr>\n",
       "      <th>1</th>\n",
       "      <td>28.0</td>\n",
       "      <td>0</td>\n",
       "      <td>Master's</td>\n",
       "      <td>Data Analyst</td>\n",
       "      <td>3.0</td>\n",
       "      <td>3.0</td>\n",
       "      <td>3.0</td>\n",
       "    </tr>\n",
       "    <tr>\n",
       "      <th>2</th>\n",
       "      <td>45.0</td>\n",
       "      <td>1</td>\n",
       "      <td>PhD</td>\n",
       "      <td>Senior Manager</td>\n",
       "      <td>15.0</td>\n",
       "      <td>4.0</td>\n",
       "      <td>4.0</td>\n",
       "    </tr>\n",
       "    <tr>\n",
       "      <th>3</th>\n",
       "      <td>36.0</td>\n",
       "      <td>0</td>\n",
       "      <td>Bachelor's</td>\n",
       "      <td>Sales Associate</td>\n",
       "      <td>7.0</td>\n",
       "      <td>2.0</td>\n",
       "      <td>2.0</td>\n",
       "    </tr>\n",
       "    <tr>\n",
       "      <th>4</th>\n",
       "      <td>52.0</td>\n",
       "      <td>1</td>\n",
       "      <td>Master's</td>\n",
       "      <td>Director</td>\n",
       "      <td>20.0</td>\n",
       "      <td>3.0</td>\n",
       "      <td>3.0</td>\n",
       "    </tr>\n",
       "  </tbody>\n",
       "</table>\n",
       "</div>"
      ],
      "text/plain": [
       "    Age  Gender Education Level          Job Title  Years of Experience  \\\n",
       "0  32.0       1      Bachelor's  Software Engineer                  5.0   \n",
       "1  28.0       0        Master's       Data Analyst                  3.0   \n",
       "2  45.0       1             PhD     Senior Manager                 15.0   \n",
       "3  36.0       0      Bachelor's    Sales Associate                  7.0   \n",
       "4  52.0       1        Master's           Director                 20.0   \n",
       "\n",
       "   Salary  Education  \n",
       "0     2.0        2.0  \n",
       "1     3.0        3.0  \n",
       "2     4.0        4.0  \n",
       "3     2.0        2.0  \n",
       "4     3.0        3.0  "
      ]
     },
     "execution_count": 167,
     "metadata": {},
     "output_type": "execute_result"
    }
   ],
   "source": [
    "#The gender labels are changed to numercal values using LabelEncoder method\n",
    "df['Gender']=LabelEncoder().fit_transform(df['Gender']) #male as 1, female 0 and others and 2\n",
    "df.head()"
   ]
  },
  {
   "cell_type": "code",
   "execution_count": 168,
   "metadata": {},
   "outputs": [
    {
     "name": "stdout",
     "output_type": "stream",
     "text": [
      "No of unique jobs titles are:  191\n",
      "<class 'pandas.core.frame.DataFrame'>\n",
      "Int64Index: 6700 entries, 0 to 6703\n",
      "Data columns (total 7 columns):\n",
      " #   Column               Non-Null Count  Dtype  \n",
      "---  ------               --------------  -----  \n",
      " 0   Age                  6700 non-null   float64\n",
      " 1   Gender               6700 non-null   int32  \n",
      " 2   Education Level      6700 non-null   object \n",
      " 3   Job Title            6700 non-null   int32  \n",
      " 4   Years of Experience  6700 non-null   float64\n",
      " 5   Salary               6700 non-null   float64\n",
      " 6   Education            6700 non-null   float64\n",
      "dtypes: float64(4), int32(2), object(1)\n",
      "memory usage: 366.4+ KB\n"
     ]
    }
   ],
   "source": [
    "print(\"No of unique jobs titles are: \",df['Job Title'].nunique())\n",
    "#The lables under job title are changed to numercal values using LabelEncoder method\n",
    "df['Job Title']=LabelEncoder().fit_transform(df['Job Title']) \n",
    "df.info()"
   ]
  },
  {
   "cell_type": "code",
   "execution_count": 169,
   "metadata": {},
   "outputs": [
    {
     "data": {
      "image/png": "[encoded data removed]",
      "text/plain": [
       "<Figure size 500x500 with 1 Axes>"
      ]
     },
     "metadata": {},
     "output_type": "display_data"
    }
   ],
   "source": [
    "sns.displot(data=df, x='Years of Experience')\n",
    "plt.title('Distribution of Years of Experience')\n",
    "plt.show()"
   ]
  },
  {
   "attachments": {},
   "cell_type": "markdown",
   "metadata": {},
   "source": [
    "*Skewed to the right which implies the need of normalization before applying ML algorithms as well as the presense of outliers in the data*"
   ]
  },
  {
   "cell_type": "code",
   "execution_count": 170,
   "metadata": {},
   "outputs": [
    {
     "data": {
      "text/plain": [
       "<Axes: >"
      ]
     },
     "execution_count": 170,
     "metadata": {},
     "output_type": "execute_result"
    },
    {
     "data": {
      "image/png": "[encoded data removed]",
      "text/plain": [
       "<Figure size 640x480 with 1 Axes>"
      ]
     },
     "metadata": {},
     "output_type": "display_data"
    }
   ],
   "source": [
    "sns.boxplot(df['Salary'])"
   ]
  },
  {
   "attachments": {},
   "cell_type": "markdown",
   "metadata": {},
   "source": [
    "*No outliers found in salary variable. In case of age and years of experience, some outliers are found above the third quartile. But I believe removing those values might affect the prediction model.*"
   ]
  },
  {
   "cell_type": "code",
   "execution_count": 171,
   "metadata": {},
   "outputs": [
    {
     "data": {
      "text/plain": [
       "<seaborn.axisgrid.PairGrid at 0x190cb497bb0>"
      ]
     },
     "execution_count": 171,
     "metadata": {},
     "output_type": "execute_result"
    },
    {
     "data": {
      "image/png": "[encoded data removed]",
      "text/plain": [
       "<Figure size 1250x500 with 11 Axes>"
      ]
     },
     "metadata": {},
     "output_type": "display_data"
    }
   ],
   "source": [
    "\n",
    "#from sklearn.preprocessing import MinMaxScaler\n",
    "#Normalize the data (age,years of experience)\n",
    "#df[['Age','Years of Experience']]=MinMaxScaler().fit_transform(df[['Age','Years of Experience']])\n",
    "\n",
    "sns.pairplot(df, x_vars=['Age','Gender','Education','Job Title','Years of Experience'], y_vars=[\"Salary\",'Years of Experience'])"
   ]
  },
  {
   "attachments": {},
   "cell_type": "markdown",
   "metadata": {},
   "source": [
    "*Strong correlation has been observed between education & salary, age & years of experience*"
   ]
  },
  {
   "cell_type": "code",
   "execution_count": 232,
   "metadata": {},
   "outputs": [
    {
     "data": {
      "text/plain": [
       "<Axes: >"
      ]
     },
     "execution_count": 232,
     "metadata": {},
     "output_type": "execute_result"
    },
    {
     "data": {
      "image/png": "[encoded data removed]",
      "text/plain": [
       "<Figure size 640x480 with 1 Axes>"
      ]
     },
     "metadata": {},
     "output_type": "display_data"
    }
   ],
   "source": [
    "#checking outliers in the data\n",
    "sns.boxplot(df['Years of Experience'])"
   ]
  },
  {
   "attachments": {},
   "cell_type": "markdown",
   "metadata": {},
   "source": [
    "##### Applying regression model\n"
   ]
  },
  {
   "cell_type": "code",
   "execution_count": 233,
   "metadata": {},
   "outputs": [
    {
     "name": "stdout",
     "output_type": "stream",
     "text": [
      "<class 'pandas.core.frame.DataFrame'>\n",
      "Int64Index: 6700 entries, 0 to 6703\n",
      "Data columns (total 7 columns):\n",
      " #   Column               Non-Null Count  Dtype  \n",
      "---  ------               --------------  -----  \n",
      " 0   Age                  6700 non-null   float64\n",
      " 1   Gender               6700 non-null   int32  \n",
      " 2   Education Level      6700 non-null   object \n",
      " 3   Job Title            6700 non-null   int32  \n",
      " 4   Years of Experience  6700 non-null   float64\n",
      " 5   Salary               6700 non-null   float64\n",
      " 6   Education            6700 non-null   float64\n",
      "dtypes: float64(4), int32(2), object(1)\n",
      "memory usage: 624.4+ KB\n"
     ]
    }
   ],
   "source": [
    "df.info()"
   ]
  },
  {
   "attachments": {},
   "cell_type": "markdown",
   "metadata": {},
   "source": [
    "*NOTE: The given data is giving a well balanced model without even applying any kind of regularization or any control variables.*\n",
    "\n",
    "*I tried to manipulate variables and splitting ratio in order to observe overfitting an dunderfitting cases.*"
   ]
  },
  {
   "attachments": {},
   "cell_type": "markdown",
   "metadata": {},
   "source": [
    "**Case 1: Well Balanced Model**"
   ]
  },
  {
   "cell_type": "code",
   "execution_count": 234,
   "metadata": {},
   "outputs": [],
   "source": [
    "#Assigning the dependent and independent variables \n",
    "X=df[['Age','Gender','Education','Job Title','Years of Experience']]\n",
    "Y=df['Salary']"
   ]
  },
  {
   "cell_type": "code",
   "execution_count": 235,
   "metadata": {},
   "outputs": [
    {
     "name": "stdout",
     "output_type": "stream",
     "text": [
      "Training Error: 9.88641190972879e-31\n",
      "Testing Error: 9.8924040567967e-31\n"
     ]
    }
   ],
   "source": [
    "\n",
    "# Split the data into training and testing sets (0.7:0.3)\n",
    "X_train, X_test, Y_train, Y_test=train_test_split(X,Y,train_size=0.7,test_size=0.3,random_state=33)\n",
    "\n",
    "#Train the Linear Regression model\n",
    "model=LinearRegression().fit(X_train, Y_train)\n",
    "Y_pred_train=model.predict(X_train)\n",
    "Y_pred_test=model.predict(X_test)\n",
    "\n",
    "# Calculate mean squared error (MSE) for training and testing data\n",
    "train_error=mean_squared_error(Y_train,Y_pred_train)\n",
    "test_error=mean_squared_error(Y_test,Y_pred_test)\n",
    "\n",
    "print(\"Training Error:\", train_error)\n",
    "print(\"Testing Error:\", test_error)"
   ]
  },
  {
   "attachments": {},
   "cell_type": "markdown",
   "metadata": {},
   "source": [
    "*Training error is approximately equal to testing error, which implies equal performance in training and testing*\n",
    "\n",
    "*Therefore, we can consider this as a well balanced model.*\n"
   ]
  },
  {
   "attachments": {},
   "cell_type": "markdown",
   "metadata": {},
   "source": [
    "##### **Case 2: Underfitting**"
   ]
  },
  {
   "attachments": {},
   "cell_type": "markdown",
   "metadata": {},
   "source": [
    "*NOTE: We cannot consider this as a good example of underfitting*"
   ]
  },
  {
   "cell_type": "code",
   "execution_count": 236,
   "metadata": {},
   "outputs": [
    {
     "name": "stdout",
     "output_type": "stream",
     "text": [
      "Training Error: 2.3000928939884217e-29\n",
      "Testing Error: 2.160514880505349e-29\n"
     ]
    }
   ],
   "source": [
    "\n",
    "# Split the data into training and testing sets (0.9:0.1)\n",
    "X_train, X_test, Y_train, Y_test=train_test_split(X,Y,train_size=0.9,test_size=0.1,random_state=111)\n",
    "\n",
    "#Train the Linear Regression model\n",
    "model=LinearRegression().fit(X_train, Y_train)\n",
    "Y_pred_train=model.predict(X_train)\n",
    "Y_pred_test=model.predict(X_test)\n",
    "\n",
    "# Calculate mean squared error (MSE) for training and testing data\n",
    "train_error=mean_squared_error(Y_train,Y_pred_train)\n",
    "test_error=mean_squared_error(Y_test,Y_pred_test)\n",
    "\n",
    "print(\"Training Error:\", train_error)\n",
    "print(\"Testing Error:\", test_error)"
   ]
  },
  {
   "attachments": {},
   "cell_type": "markdown",
   "metadata": {},
   "source": [
    "*model is not able to make accurate predictions based on training data and hence, doesn’t have the capacity to generalize well on new data*"
   ]
  },
  {
   "attachments": {},
   "cell_type": "markdown",
   "metadata": {},
   "source": [
    "**Case 3: Overfitting**"
   ]
  },
  {
   "attachments": {},
   "cell_type": "markdown",
   "metadata": {},
   "source": [
    "*Overfitting occurs wheen we increase the complexity of the model, remove outliers which are necessary, and take a large proportion of data for training while leaving only a small proportion for testing*"
   ]
  },
  {
   "cell_type": "code",
   "execution_count": 237,
   "metadata": {},
   "outputs": [],
   "source": [
    "#data copied to new name \n",
    "df1=df"
   ]
  },
  {
   "cell_type": "code",
   "execution_count": 238,
   "metadata": {},
   "outputs": [
    {
     "data": {
      "text/plain": [
       "<Axes: >"
      ]
     },
     "execution_count": 238,
     "metadata": {},
     "output_type": "execute_result"
    },
    {
     "data": {
      "image/png": "[encoded data removed]",
      "text/plain": [
       "<Figure size 640x480 with 1 Axes>"
      ]
     },
     "metadata": {},
     "output_type": "display_data"
    }
   ],
   "source": [
    "#checking outliers in 'years of experience' and removing it\n",
    "sns.boxplot(df1['Years of Experience'])\n"
   ]
  },
  {
   "cell_type": "code",
   "execution_count": 239,
   "metadata": {},
   "outputs": [
    {
     "data": {
      "text/plain": [
       "<function matplotlib.pyplot.show(close=None, block=None)>"
      ]
     },
     "execution_count": 239,
     "metadata": {},
     "output_type": "execute_result"
    },
    {
     "data": {
      "image/png": "[encoded data removed]",
      "text/plain": [
       "<Figure size 640x480 with 1 Axes>"
      ]
     },
     "metadata": {},
     "output_type": "display_data"
    }
   ],
   "source": [
    "#Calculate the  upper thresholds\n",
    "outliers=np.percentile(df1['Years of Experience'],75)  # Remove the highest 20% outliers\n",
    "\n",
    "# Remove the lowest and highest outliers by filtering the DataFrame\n",
    "df1=df1[df1['Years of Experience']<outliers]\n",
    "\n",
    "#plot the boxplot again to find whther it removed outliers\n",
    "plt.boxplot(df1['Years of Experience'])\n",
    "plt.show"
   ]
  },
  {
   "cell_type": "code",
   "execution_count": 240,
   "metadata": {},
   "outputs": [],
   "source": [
    "#Assigning the dependent and independent variables \n",
    "X=df1[['Age','Gender','Education','Job Title','Years of Experience']]\n",
    "Y=df1['Salary']"
   ]
  },
  {
   "cell_type": "code",
   "execution_count": 241,
   "metadata": {},
   "outputs": [
    {
     "name": "stdout",
     "output_type": "stream",
     "text": [
      "Best alpha: 0.1\n"
     ]
    }
   ],
   "source": [
    "from sklearn.linear_model import Ridge, RidgeCV, Lasso,LassoCV\n",
    "from sklearn.model_selection import cross_val_score\n",
    "\n",
    "#Optimizing the best alpha value \n",
    "\n",
    "# Define the range of alpha values to consider\n",
    "alphas=np.logspace(-1,5,15 )  # Example range from 0.001 to 1000\n",
    "\n",
    "# Instantiate the RidgeCV model with the range of alphas and perform cross-validation\n",
    "ridge_cv=RidgeCV(alphas=alphas,cv=10)\n",
    "ridge_cv.fit(X_train, Y_train)\n",
    "\n",
    "#Get the optimal alpha value\n",
    "best_alpha=ridge_cv.alpha_\n",
    "print(\"Best alpha:\", best_alpha)"
   ]
  },
  {
   "cell_type": "code",
   "execution_count": 242,
   "metadata": {},
   "outputs": [
    {
     "name": "stdout",
     "output_type": "stream",
     "text": [
      "Training Error: 1.756229677271303e-09\n",
      "Testing Error: 1.7837816336946819e-09\n"
     ]
    }
   ],
   "source": [
    "#Split the data into training and testing sets (0.9:0.1).\n",
    "#Majority of datapoints are considered in the train data\n",
    "X_train, X_test, Y_train, Y_test=train_test_split(X,Y,train_size=0.8,test_size=0.20,random_state=33)\n",
    "\n",
    "\n",
    "#applying the ridge regression model better feature selection\n",
    "#Regularization using best alpha (parameter) value we found \n",
    "model=Ridge(alpha=0.1).fit(X_train, Y_train)\n",
    "Y_pred_train=model.predict(X_train)\n",
    "Y_pred_test=model.predict(X_test)\n",
    "\n",
    "#Calculate mean squared error (MSE) for training and testing data\n",
    "train_error=mean_squared_error(Y_train,Y_pred_train)\n",
    "test_error=mean_squared_error(Y_test,Y_pred_test)\n",
    "\n",
    "print(\"Training Error:\", train_error)\n",
    "print(\"Testing Error:\", test_error)"
   ]
  },
  {
   "cell_type": "code",
   "execution_count": 243,
   "metadata": {},
   "outputs": [
    {
     "name": "stdout",
     "output_type": "stream",
     "text": [
      "Best alpha: 0.1\n",
      "Training Error: 0.02042103874580379\n",
      "Testing Error: 0.020816770438542968\n"
     ]
    }
   ],
   "source": [
    "#applying lasso as a regularization method\n",
    "\n",
    "# Define the range of alpha values to consider\n",
    "alphas = np.logspace(-1,10,10)  # Example range from 0.001 to 1000\n",
    "\n",
    "# Instantiate the LassoCV model with the range of alphas and perform cross-validation\n",
    "lasso_cv = LassoCV(alphas=alphas, cv=5)\n",
    "lasso_cv.fit(X_train, Y_train)\n",
    "\n",
    "# Get the optimal alpha value\n",
    "best_alpha = lasso_cv.alpha_\n",
    "print(\"Best alpha:\", best_alpha)\n",
    "\n",
    "# Train the Lasso regression model with the optimal alpha\n",
    "model=Lasso(alpha=best_alpha).fit(X_train, Y_train)\n",
    "Y_pred_train=model.predict(X_train)\n",
    "Y_pred_test=model.predict(X_test)\n",
    "\n",
    "#Calculate mean squared error (MSE) for training and testing data\n",
    "train_error=mean_squared_error(Y_train,Y_pred_train)\n",
    "test_error=mean_squared_error(Y_test,Y_pred_test)\n",
    "\n",
    "print(\"Training Error:\", train_error)\n",
    "print(\"Testing Error:\", test_error)\n"
   ]
  },
  {
   "attachments": {},
   "cell_type": "markdown",
   "metadata": {},
   "source": [
    "*Training error is less than testing error. The model performs really well in train data but not really good in the test data. This is called **overfitting**.*\n",
    "\n",
    "*NOTE: I couldnot find any big difference*"
   ]
  },
  {
   "cell_type": "code",
   "execution_count": 244,
   "metadata": {},
   "outputs": [
    {
     "data": {
      "image/png": "[encoded data removed]",
      "text/plain": [
       "<Figure size 1000x600 with 1 Axes>"
      ]
     },
     "metadata": {},
     "output_type": "display_data"
    }
   ],
   "source": [
    "train_sizes,train_scores,test_scores=learning_curve(model, X_train, Y_train,scoring='neg_mean_squared_error',\n",
    "                                                        train_sizes=np.linspace(0.1, 1.0, 10))\n",
    "# Calculate mean and standard deviation for training and testing scores\n",
    "train_scores_mean=-np.mean(train_scores, axis=1)\n",
    "train_scores_std=np.std(train_scores, axis=1)\n",
    "test_scores_mean=-np.mean(test_scores, axis=1)\n",
    "test_scores_std=np.std(test_scores, axis=1)\n",
    "\n",
    "# Plot the learning curve\n",
    "plt.figure(figsize=(10, 6))\n",
    "plt.plot(train_sizes, train_scores_mean, label='Training error')\n",
    "plt.fill_between(train_sizes, train_scores_mean - train_scores_std,\n",
    "                 train_scores_mean + train_scores_std, alpha=0.1)\n",
    "plt.plot(train_sizes, test_scores_mean, label='Validation error')\n",
    "plt.fill_between(train_sizes, test_scores_mean - test_scores_std,\n",
    "                 test_scores_mean + test_scores_std, alpha=0.1)\n",
    "plt.xlabel('Training Set Size')\n",
    "plt.ylabel('Mean Squared Error')\n",
    "plt.title('Learning Curve')\n",
    "plt.legend()\n",
    "plt.show()"
   ]
  },
  {
   "attachments": {},
   "cell_type": "markdown",
   "metadata": {},
   "source": [
    "### Classification"
   ]
  },
  {
   "cell_type": "code",
   "execution_count": 282,
   "metadata": {},
   "outputs": [],
   "source": [
    "#For the ease of understanding I am using only the train data from car insureance related data and splitting that for building model\n",
    "#reading the data\n",
    "df_train=pd.read_csv(\"D:\\Beinex\\Python\\Dataset-Kaggle\\Task_26-06\\\\train.csv\")"
   ]
  },
  {
   "cell_type": "code",
   "execution_count": 283,
   "metadata": {},
   "outputs": [
    {
     "name": "stdout",
     "output_type": "stream",
     "text": [
      "<class 'pandas.core.frame.DataFrame'>\n",
      "RangeIndex: 58592 entries, 0 to 58591\n",
      "Data columns (total 44 columns):\n",
      " #   Column                            Non-Null Count  Dtype  \n",
      "---  ------                            --------------  -----  \n",
      " 0   policy_id                         58592 non-null  object \n",
      " 1   policy_tenure                     58592 non-null  float64\n",
      " 2   age_of_car                        58592 non-null  float64\n",
      " 3   age_of_policyholder               58592 non-null  float64\n",
      " 4   area_cluster                      58592 non-null  object \n",
      " 5   population_density                58592 non-null  int64  \n",
      " 6   make                              58592 non-null  int64  \n",
      " 7   segment                           58592 non-null  object \n",
      " 8   model                             58592 non-null  object \n",
      " 9   fuel_type                         58592 non-null  object \n",
      " 10  max_torque                        58592 non-null  object \n",
      " 11  max_power                         58592 non-null  object \n",
      " 12  engine_type                       58592 non-null  object \n",
      " 13  airbags                           58592 non-null  int64  \n",
      " 14  is_esc                            58592 non-null  object \n",
      " 15  is_adjustable_steering            58592 non-null  object \n",
      " 16  is_tpms                           58592 non-null  object \n",
      " 17  is_parking_sensors                58592 non-null  object \n",
      " 18  is_parking_camera                 58592 non-null  object \n",
      " 19  rear_brakes_type                  58592 non-null  object \n",
      " 20  displacement                      58592 non-null  int64  \n",
      " 21  cylinder                          58592 non-null  int64  \n",
      " 22  transmission_type                 58592 non-null  object \n",
      " 23  gear_box                          58592 non-null  int64  \n",
      " 24  steering_type                     58592 non-null  object \n",
      " 25  turning_radius                    58592 non-null  float64\n",
      " 26  length                            58592 non-null  int64  \n",
      " 27  width                             58592 non-null  int64  \n",
      " 28  height                            58592 non-null  int64  \n",
      " 29  gross_weight                      58592 non-null  int64  \n",
      " 30  is_front_fog_lights               58592 non-null  object \n",
      " 31  is_rear_window_wiper              58592 non-null  object \n",
      " 32  is_rear_window_washer             58592 non-null  object \n",
      " 33  is_rear_window_defogger           58592 non-null  object \n",
      " 34  is_brake_assist                   58592 non-null  object \n",
      " 35  is_power_door_locks               58592 non-null  object \n",
      " 36  is_central_locking                58592 non-null  object \n",
      " 37  is_power_steering                 58592 non-null  object \n",
      " 38  is_driver_seat_height_adjustable  58592 non-null  object \n",
      " 39  is_day_night_rear_view_mirror     58592 non-null  object \n",
      " 40  is_ecw                            58592 non-null  object \n",
      " 41  is_speed_alert                    58592 non-null  object \n",
      " 42  ncap_rating                       58592 non-null  int64  \n",
      " 43  is_claim                          58592 non-null  int64  \n",
      "dtypes: float64(4), int64(12), object(28)\n",
      "memory usage: 19.7+ MB\n"
     ]
    }
   ],
   "source": [
    "#understanding the data types and variables\n",
    "df_train.info()"
   ]
  },
  {
   "cell_type": "code",
   "execution_count": 284,
   "metadata": {},
   "outputs": [
    {
     "data": {
      "text/plain": [
       "<Axes: >"
      ]
     },
     "execution_count": 284,
     "metadata": {},
     "output_type": "execute_result"
    },
    {
     "data": {
      "image/png": "[encoded data removed]",
      "text/plain": [
       "<Figure size 640x480 with 1 Axes>"
      ]
     },
     "metadata": {},
     "output_type": "display_data"
    }
   ],
   "source": [
    "#checking the distribution of target value\n",
    "df_train[\"is_claim\"].value_counts().plot.bar()"
   ]
  },
  {
   "attachments": {},
   "cell_type": "markdown",
   "metadata": {},
   "source": [
    "*The distrution is found to be unequal/imbalanced*"
   ]
  },
  {
   "attachments": {},
   "cell_type": "markdown",
   "metadata": {},
   "source": [
    "df_train.shape"
   ]
  },
  {
   "attachments": {},
   "cell_type": "markdown",
   "metadata": {},
   "source": [
    "*In the previous analysis we found that there is no null values or duplicated values in the data*"
   ]
  },
  {
   "cell_type": "code",
   "execution_count": 285,
   "metadata": {},
   "outputs": [
    {
     "data": {
      "text/plain": [
       "(array([15521., 18204.,  4116.,  8294.,  8810.,     0.,     0.,     0.,\n",
       "          492.,  3155.]),\n",
       " array([  290.,  7604., 14918., 22232., 29546., 36860., 44174., 51488.,\n",
       "        58802., 66116., 73430.]),\n",
       " <BarContainer object of 10 artists>)"
      ]
     },
     "execution_count": 285,
     "metadata": {},
     "output_type": "execute_result"
    },
    {
     "data": {
      "image/png": "[encoded data removed]",
      "text/plain": [
       "<Figure size 640x480 with 1 Axes>"
      ]
     },
     "metadata": {},
     "output_type": "display_data"
    }
   ],
   "source": [
    "plt.hist(df_train['population_density'])"
   ]
  },
  {
   "cell_type": "code",
   "execution_count": 286,
   "metadata": {},
   "outputs": [
    {
     "data": {
      "text/plain": [
       "(array([15521., 18204.,  4116.,  8294.,  8810.,     0.,     0.,     0.,\n",
       "          492.,  3155.]),\n",
       " array([-1.04965081, -0.63549509, -0.22133937,  0.19281635,  0.60697207,\n",
       "         1.02112779,  1.43528351,  1.84943923,  2.26359495,  2.67775067,\n",
       "         3.09190639]),\n",
       " <BarContainer object of 10 artists>)"
      ]
     },
     "execution_count": 286,
     "metadata": {},
     "output_type": "execute_result"
    },
    {
     "data": {
      "image/png": "[encoded data removed]",
      "text/plain": [
       "<Figure size 640x480 with 1 Axes>"
      ]
     },
     "metadata": {},
     "output_type": "display_data"
    }
   ],
   "source": [
    "#Scaling the variable population density\n",
    "df_train['population_density']= df_train['population_density'].to_numpy().reshape(-1, 1)\n",
    "df_train['population_density']=StandardScaler().fit_transform(df_train[['population_density']])\n",
    "\n",
    "plt.hist(df_train['population_density'])"
   ]
  },
  {
   "attachments": {},
   "cell_type": "markdown",
   "metadata": {},
   "source": [
    "##### Applying classification model"
   ]
  },
  {
   "cell_type": "code",
   "execution_count": 287,
   "metadata": {},
   "outputs": [],
   "source": [
    "#setting the independent variables and dependent variables\n",
    "X=df_train.drop([\"is_claim\",\"policy_id\"],axis=1)\n",
    "X=X.apply(LabelEncoder().fit_transform)\n",
    "\n",
    "Y=df_train['is_claim']"
   ]
  },
  {
   "attachments": {},
   "cell_type": "markdown",
   "metadata": {},
   "source": [
    "*Since we are considering imbalanced data we can consider the precision score for evaluation*"
   ]
  },
  {
   "attachments": {},
   "cell_type": "markdown",
   "metadata": {},
   "source": [
    "**Case 1: Well balanced model* \n",
    "\n",
    "*NOTE: I am not getting any perfect example for all the three instances to evaluate*"
   ]
  },
  {
   "cell_type": "code",
   "execution_count": 296,
   "metadata": {},
   "outputs": [
    {
     "name": "stdout",
     "output_type": "stream",
     "text": [
      "Testing Classification Report:\n",
      "              precision    recall  f1-score   support\n",
      "\n",
      "           0       0.94      1.00      0.97     43856\n",
      "           1       0.89      0.00      0.01      3017\n",
      "\n",
      "    accuracy                           0.94     46873\n",
      "   macro avg       0.91      0.50      0.49     46873\n",
      "weighted avg       0.93      0.94      0.90     46873\n",
      "\n",
      "              precision    recall  f1-score   support\n",
      "\n",
      "           0       0.94      1.00      0.97     10988\n",
      "           1       0.00      0.00      0.00       731\n",
      "\n",
      "    accuracy                           0.94     11719\n",
      "   macro avg       0.47      0.50      0.48     11719\n",
      "weighted avg       0.88      0.94      0.91     11719\n",
      "\n"
     ]
    }
   ],
   "source": [
    "#split ration 70:30\n",
    "X_train,X_test,Y_train,Y_test=train_test_split(X,Y,train_size=0.8,test_size=0.2,random_state=33)\n",
    "\n",
    "#information gain condition for feature selection \n",
    "#Decision tree based prediction where the criterion is set to 'entropy'\n",
    "\n",
    "dt=DecisionTreeClassifier(max_depth=6, random_state=42, criterion='entropy').fit(X_train,Y_train)\n",
    "# Fit the decision tree model on the training fold\n",
    "\n",
    "# Make predictions on the testing data\n",
    "Y_pred_train = dt.predict(X_train)\n",
    "Y_pred_test = dt.predict(X_test)\n",
    "\n",
    "\n",
    "print(\"Testing Classification Report:\")\n",
    "print(classification_report(Y_train,Y_pred_train))\n",
    "print(classification_report(Y_test,Y_pred_test))\n"
   ]
  },
  {
   "attachments": {},
   "cell_type": "markdown",
   "metadata": {},
   "source": [
    "*Here we can observe, though the accuracy remains the dame, the precison value target variable labels are better in the training prediction*"
   ]
  },
  {
   "attachments": {},
   "cell_type": "markdown",
   "metadata": {},
   "source": [
    "*Now, to clear the imbalnce in target variable SMOTE is applied*\n",
    "*For futher analysis perform regularization methods like cross validation*"
   ]
  },
  {
   "cell_type": "code",
   "execution_count": 298,
   "metadata": {},
   "outputs": [],
   "source": [
    "# Split the data into training and testing sets (80:20)\n",
    "X_train, X_test, Y_train, Y_test = train_test_split(X, Y, train_size=0.8, test_size=0.2, random_state=33)\n",
    "\n",
    "# Apply SMOTE to the training data\n",
    "smote = SMOTE(random_state=33)\n",
    "X_train_smote, Y_train_smote = smote.fit_resample(X_train, Y_train)\n"
   ]
  },
  {
   "cell_type": "code",
   "execution_count": 299,
   "metadata": {},
   "outputs": [
    {
     "name": "stdout",
     "output_type": "stream",
     "text": [
      "Cross-Validation Scores:\n",
      "[0.74593855 0.86040016 0.85577471 0.85514765 0.85383651]\n",
      "Mean CV Score: 0.83421951500729\n",
      "\n",
      "Training Classification Report:\n",
      "              precision    recall  f1-score   support\n",
      "\n",
      "           0       0.94      0.94      0.94     43856\n",
      "           1       0.13      0.14      0.14      3017\n",
      "\n",
      "    accuracy                           0.89     46873\n",
      "   macro avg       0.54      0.54      0.54     46873\n",
      "weighted avg       0.89      0.89      0.89     46873\n",
      "\n",
      "\n",
      "Testing Classification Report:\n",
      "              precision    recall  f1-score   support\n",
      "\n",
      "           0       0.94      0.93      0.94     10988\n",
      "           1       0.12      0.14      0.13       731\n",
      "\n",
      "    accuracy                           0.88     11719\n",
      "   macro avg       0.53      0.54      0.54     11719\n",
      "weighted avg       0.89      0.88      0.89     11719\n",
      "\n"
     ]
    }
   ],
   "source": [
    "# Applying Model and evaluating \n",
    "# Decision Tree Classifier with entropy criterion and max depth\n",
    "dt=DecisionTreeClassifier(max_depth=6, random_state=42, criterion='entropy')\n",
    "\n",
    "# Perform cross-validation\n",
    "cv_scores = cross_val_score(dt, X_train_smote, Y_train_smote, cv=5)\n",
    "\n",
    "# Fit the decision tree model on the training data\n",
    "dt.fit(X_train_smote, Y_train_smote)\n",
    "\n",
    "# Make predictions on the testing data\n",
    "Y_pred_train = dt.predict(X_train)\n",
    "Y_pred_test = dt.predict(X_test)\n",
    "\n",
    "print(\"Cross-Validation Scores:\")\n",
    "print(cv_scores)\n",
    "print(\"Mean CV Score:\", np.mean(cv_scores))\n",
    "print(\"\")\n",
    "\n",
    "print(\"Training Classification Report:\")\n",
    "print(classification_report(Y_train, Y_pred_train))\n",
    "print(\"\")\n",
    "\n",
    "print(\"Testing Classification Report:\")\n",
    "print(classification_report(Y_test, Y_pred_test))\n"
   ]
  },
  {
   "attachments": {},
   "cell_type": "markdown",
   "metadata": {},
   "source": [
    "**Case 2: Overfitting**"
   ]
  },
  {
   "cell_type": "code",
   "execution_count": 301,
   "metadata": {},
   "outputs": [
    {
     "name": "stdout",
     "output_type": "stream",
     "text": [
      "Cross-Validation Scores:\n",
      "[0.83218378 0.97491877 0.97531638 0.97246608 0.97212405]\n",
      "Mean CV Score: 0.9454018116229846\n",
      "\n",
      "Training Classification Report:\n",
      "              precision    recall  f1-score   support\n",
      "\n",
      "           0       1.00      1.00      1.00     43856\n",
      "           1       1.00      1.00      1.00      3017\n",
      "\n",
      "    accuracy                           1.00     46873\n",
      "   macro avg       1.00      1.00      1.00     46873\n",
      "weighted avg       1.00      1.00      1.00     46873\n",
      "\n",
      "\n",
      "Testing Classification Report:\n",
      "              precision    recall  f1-score   support\n",
      "\n",
      "           0       0.94      0.98      0.96     10988\n",
      "           1       0.09      0.04      0.05       731\n",
      "\n",
      "    accuracy                           0.92     11719\n",
      "   macro avg       0.51      0.51      0.50     11719\n",
      "weighted avg       0.89      0.92      0.90     11719\n",
      "\n"
     ]
    }
   ],
   "source": [
    "#applying random forest model \n",
    "\n",
    "# Random Forest model\n",
    "dt=RandomForestClassifier()\n",
    "\n",
    "# Perform cross-validation\n",
    "cv_scores = cross_val_score(dt, X_train_smote, Y_train_smote, cv=5)\n",
    "\n",
    "# Fit the decision tree model on the training data\n",
    "dt.fit(X_train_smote, Y_train_smote)\n",
    "\n",
    "# Make predictions on the testing data\n",
    "Y_pred_train = dt.predict(X_train)\n",
    "Y_pred_test = dt.predict(X_test)\n",
    "\n",
    "print(\"Cross-Validation Scores:\")\n",
    "print(cv_scores)\n",
    "print(\"Mean CV Score:\", np.mean(cv_scores))\n",
    "print(\"\")\n",
    "\n",
    "print(\"Training Classification Report:\")\n",
    "print(classification_report(Y_train, Y_pred_train))\n",
    "print(\"\")\n",
    "\n",
    "print(\"Testing Classification Report:\")\n",
    "print(classification_report(Y_test, Y_pred_test))\n"
   ]
  },
  {
   "attachments": {},
   "cell_type": "markdown",
   "metadata": {},
   "source": [
    "*Again we found training data is performing better than testing data. A case of overfitting*"
   ]
  },
  {
   "attachments": {},
   "cell_type": "markdown",
   "metadata": {},
   "source": [
    "**Case 3: Underfitting**"
   ]
  },
  {
   "cell_type": "code",
   "execution_count": 302,
   "metadata": {},
   "outputs": [
    {
     "name": "stdout",
     "output_type": "stream",
     "text": [
      "Cross-Validation Scores:\n",
      "[0.62754375 0.65729921 0.65511344 0.66235321 0.66092806]\n",
      "Mean CV Score: 0.6526475334288302\n",
      "\n",
      "Training Classification Report:\n",
      "              precision    recall  f1-score   support\n",
      "\n",
      "           0       0.95      0.59      0.72     43856\n",
      "           1       0.08      0.52      0.14      3017\n",
      "\n",
      "    accuracy                           0.58     46873\n",
      "   macro avg       0.51      0.55      0.43     46873\n",
      "weighted avg       0.89      0.58      0.69     46873\n",
      "\n",
      "\n",
      "Testing Classification Report:\n",
      "              precision    recall  f1-score   support\n",
      "\n",
      "           0       0.95      0.58      0.72     10988\n",
      "           1       0.08      0.55      0.14       731\n",
      "\n",
      "    accuracy                           0.58     11719\n",
      "   macro avg       0.52      0.57      0.43     11719\n",
      "weighted avg       0.90      0.58      0.69     11719\n",
      "\n"
     ]
    }
   ],
   "source": [
    "#applying logistic regression model \n",
    "\n",
    "# Random Forest model\n",
    "dt=LogisticRegression()\n",
    "\n",
    "# Perform cross-validation\n",
    "cv_scores = cross_val_score(dt, X_train_smote, Y_train_smote, cv=5)\n",
    "\n",
    "# Fit the decision tree model on the training data\n",
    "dt.fit(X_train_smote, Y_train_smote)\n",
    "\n",
    "# Make predictions on the testing data\n",
    "Y_pred_train = dt.predict(X_train)\n",
    "Y_pred_test = dt.predict(X_test)\n",
    "\n",
    "print(\"Cross-Validation Scores:\")\n",
    "print(cv_scores)\n",
    "print(\"Mean CV Score:\", np.mean(cv_scores))\n",
    "print(\"\")\n",
    "\n",
    "print(\"Training Classification Report:\")\n",
    "print(classification_report(Y_train, Y_pred_train))\n",
    "print(\"\")\n",
    "\n",
    "print(\"Testing Classification Report:\")\n",
    "print(classification_report(Y_test, Y_pred_test))"
   ]
  },
  {
   "attachments": {},
   "cell_type": "markdown",
   "metadata": {},
   "source": [
    "*Logistic regression is not a giving a good performance in train as well as test data prediction.*"
   ]
  },
  {
   "cell_type": "code",
   "execution_count": null,
   "metadata": {},
   "outputs": [],
   "source": []
  }
 ],
 "metadata": {
  "kernelspec": {
   "display_name": "base",
   "language": "python",
   "name": "python3"
  },
  "language_info": {
   "codemirror_mode": {
    "name": "ipython",
    "version": 3
   },
   "file_extension": ".py",
   "mimetype": "text/x-python",
   "name": "python",
   "nbconvert_exporter": "python",
   "pygments_lexer": "ipython3",
   "version": "3.10.9"
  },
  "orig_nbformat": 4
 },
 "nbformat": 4,
 "nbformat_minor": 2
}
