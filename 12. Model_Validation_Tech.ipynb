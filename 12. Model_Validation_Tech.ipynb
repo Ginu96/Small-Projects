{
 "cells": [
  {
   "cell_type": "code",
   "execution_count": 33,
   "metadata": {},
   "outputs": [],
   "source": [
    "#imports libraries necessary for data analysis\n",
    "import numpy as np\n",
    "import pandas as pd\n",
    "import matplotlib.pyplot as plt\n",
    "import seaborn as sns\n",
    "\n",
    "from sklearn.preprocessing import LabelEncoder\n",
    "from sklearn.tree import DecisionTreeRegressor\n",
    "from sklearn.ensemble import RandomForestRegressor\n",
    "from sklearn.model_selection import train_test_split\n",
    "from sklearn.linear_model import LinearRegression\n",
    "from sklearn.model_selection import learning_curve\n",
    "from sklearn.metrics import mean_squared_error, mean_absolute_error, r2_score\n",
    "from sklearn.metrics import mean_squared_log_error, median_absolute_error\n",
    "\n",
    "from sklearn.preprocessing import StandardScaler\n",
    "from imblearn.over_sampling import SMOTE\n",
    "from sklearn.feature_selection import SelectKBest,f_classif\n",
    "from sklearn.model_selection import cross_val_score, KFold, StratifiedKFold,cross_validate, cross_val_score,LeaveOneOut\n",
    "from sklearn.tree import DecisionTreeClassifier\n",
    "from sklearn.ensemble import RandomForestClassifier\n",
    "from sklearn.linear_model import LogisticRegression\n",
    "from sklearn import tree\n",
    "from sklearn.metrics import accuracy_score, precision_score, recall_score, f1_score, confusion_matrix,classification_report,roc_curve,auc,roc_auc_score\n",
    "\n",
    "import warnings\n",
    "warnings.filterwarnings('ignore')"
   ]
  },
  {
   "cell_type": "code",
   "execution_count": 34,
   "metadata": {},
   "outputs": [
    {
     "data": {
      "text/html": [
       "<div>\n",
       "<style scoped>\n",
       "    .dataframe tbody tr th:only-of-type {\n",
       "        vertical-align: middle;\n",
       "    }\n",
       "\n",
       "    .dataframe tbody tr th {\n",
       "        vertical-align: top;\n",
       "    }\n",
       "\n",
       "    .dataframe thead th {\n",
       "        text-align: right;\n",
       "    }\n",
       "</style>\n",
       "<table border=\"1\" class=\"dataframe\">\n",
       "  <thead>\n",
       "    <tr style=\"text-align: right;\">\n",
       "      <th></th>\n",
       "      <th>Age</th>\n",
       "      <th>Gender</th>\n",
       "      <th>Education Level</th>\n",
       "      <th>Job Title</th>\n",
       "      <th>Years of Experience</th>\n",
       "      <th>Salary</th>\n",
       "    </tr>\n",
       "  </thead>\n",
       "  <tbody>\n",
       "    <tr>\n",
       "      <th>0</th>\n",
       "      <td>32.0</td>\n",
       "      <td>Male</td>\n",
       "      <td>Bachelor's</td>\n",
       "      <td>Software Engineer</td>\n",
       "      <td>5.0</td>\n",
       "      <td>90000.0</td>\n",
       "    </tr>\n",
       "    <tr>\n",
       "      <th>1</th>\n",
       "      <td>28.0</td>\n",
       "      <td>Female</td>\n",
       "      <td>Master's</td>\n",
       "      <td>Data Analyst</td>\n",
       "      <td>3.0</td>\n",
       "      <td>65000.0</td>\n",
       "    </tr>\n",
       "    <tr>\n",
       "      <th>2</th>\n",
       "      <td>45.0</td>\n",
       "      <td>Male</td>\n",
       "      <td>PhD</td>\n",
       "      <td>Senior Manager</td>\n",
       "      <td>15.0</td>\n",
       "      <td>150000.0</td>\n",
       "    </tr>\n",
       "    <tr>\n",
       "      <th>3</th>\n",
       "      <td>36.0</td>\n",
       "      <td>Female</td>\n",
       "      <td>Bachelor's</td>\n",
       "      <td>Sales Associate</td>\n",
       "      <td>7.0</td>\n",
       "      <td>60000.0</td>\n",
       "    </tr>\n",
       "    <tr>\n",
       "      <th>4</th>\n",
       "      <td>52.0</td>\n",
       "      <td>Male</td>\n",
       "      <td>Master's</td>\n",
       "      <td>Director</td>\n",
       "      <td>20.0</td>\n",
       "      <td>200000.0</td>\n",
       "    </tr>\n",
       "    <tr>\n",
       "      <th>...</th>\n",
       "      <td>...</td>\n",
       "      <td>...</td>\n",
       "      <td>...</td>\n",
       "      <td>...</td>\n",
       "      <td>...</td>\n",
       "      <td>...</td>\n",
       "    </tr>\n",
       "    <tr>\n",
       "      <th>6699</th>\n",
       "      <td>49.0</td>\n",
       "      <td>Female</td>\n",
       "      <td>PhD</td>\n",
       "      <td>Director of Marketing</td>\n",
       "      <td>20.0</td>\n",
       "      <td>200000.0</td>\n",
       "    </tr>\n",
       "    <tr>\n",
       "      <th>6700</th>\n",
       "      <td>32.0</td>\n",
       "      <td>Male</td>\n",
       "      <td>High School</td>\n",
       "      <td>Sales Associate</td>\n",
       "      <td>3.0</td>\n",
       "      <td>50000.0</td>\n",
       "    </tr>\n",
       "    <tr>\n",
       "      <th>6701</th>\n",
       "      <td>30.0</td>\n",
       "      <td>Female</td>\n",
       "      <td>Bachelor's Degree</td>\n",
       "      <td>Financial Manager</td>\n",
       "      <td>4.0</td>\n",
       "      <td>55000.0</td>\n",
       "    </tr>\n",
       "    <tr>\n",
       "      <th>6702</th>\n",
       "      <td>46.0</td>\n",
       "      <td>Male</td>\n",
       "      <td>Master's Degree</td>\n",
       "      <td>Marketing Manager</td>\n",
       "      <td>14.0</td>\n",
       "      <td>140000.0</td>\n",
       "    </tr>\n",
       "    <tr>\n",
       "      <th>6703</th>\n",
       "      <td>26.0</td>\n",
       "      <td>Female</td>\n",
       "      <td>High School</td>\n",
       "      <td>Sales Executive</td>\n",
       "      <td>1.0</td>\n",
       "      <td>35000.0</td>\n",
       "    </tr>\n",
       "  </tbody>\n",
       "</table>\n",
       "<p>6704 rows × 6 columns</p>\n",
       "</div>"
      ],
      "text/plain": [
       "       Age  Gender    Education Level              Job Title  \\\n",
       "0     32.0    Male         Bachelor's      Software Engineer   \n",
       "1     28.0  Female           Master's           Data Analyst   \n",
       "2     45.0    Male                PhD         Senior Manager   \n",
       "3     36.0  Female         Bachelor's        Sales Associate   \n",
       "4     52.0    Male           Master's               Director   \n",
       "...    ...     ...                ...                    ...   \n",
       "6699  49.0  Female                PhD  Director of Marketing   \n",
       "6700  32.0    Male        High School        Sales Associate   \n",
       "6701  30.0  Female  Bachelor's Degree      Financial Manager   \n",
       "6702  46.0    Male    Master's Degree      Marketing Manager   \n",
       "6703  26.0  Female        High School        Sales Executive   \n",
       "\n",
       "      Years of Experience    Salary  \n",
       "0                     5.0   90000.0  \n",
       "1                     3.0   65000.0  \n",
       "2                    15.0  150000.0  \n",
       "3                     7.0   60000.0  \n",
       "4                    20.0  200000.0  \n",
       "...                   ...       ...  \n",
       "6699                 20.0  200000.0  \n",
       "6700                  3.0   50000.0  \n",
       "6701                  4.0   55000.0  \n",
       "6702                 14.0  140000.0  \n",
       "6703                  1.0   35000.0  \n",
       "\n",
       "[6704 rows x 6 columns]"
      ]
     },
     "execution_count": 34,
     "metadata": {},
     "output_type": "execute_result"
    }
   ],
   "source": [
    "#reading the data \n",
    "df=pd.read_csv(\"D:\\Beinex\\Python\\Dataset-Kaggle\\Task_26-06\\Salary_Data.csv\")\n",
    "df"
   ]
  },
  {
   "attachments": {},
   "cell_type": "markdown",
   "metadata": {},
   "source": [
    "##### *Understanding the data and its distribution*"
   ]
  },
  {
   "cell_type": "code",
   "execution_count": 35,
   "metadata": {},
   "outputs": [
    {
     "data": {
      "text/html": [
       "<div>\n",
       "<style scoped>\n",
       "    .dataframe tbody tr th:only-of-type {\n",
       "        vertical-align: middle;\n",
       "    }\n",
       "\n",
       "    .dataframe tbody tr th {\n",
       "        vertical-align: top;\n",
       "    }\n",
       "\n",
       "    .dataframe thead th {\n",
       "        text-align: right;\n",
       "    }\n",
       "</style>\n",
       "<table border=\"1\" class=\"dataframe\">\n",
       "  <thead>\n",
       "    <tr style=\"text-align: right;\">\n",
       "      <th></th>\n",
       "      <th>Age</th>\n",
       "      <th>Years of Experience</th>\n",
       "      <th>Salary</th>\n",
       "    </tr>\n",
       "  </thead>\n",
       "  <tbody>\n",
       "    <tr>\n",
       "      <th>count</th>\n",
       "      <td>6702.000000</td>\n",
       "      <td>6701.000000</td>\n",
       "      <td>6699.000000</td>\n",
       "    </tr>\n",
       "    <tr>\n",
       "      <th>mean</th>\n",
       "      <td>33.620859</td>\n",
       "      <td>8.094687</td>\n",
       "      <td>115326.964771</td>\n",
       "    </tr>\n",
       "    <tr>\n",
       "      <th>std</th>\n",
       "      <td>7.614633</td>\n",
       "      <td>6.059003</td>\n",
       "      <td>52786.183911</td>\n",
       "    </tr>\n",
       "    <tr>\n",
       "      <th>min</th>\n",
       "      <td>21.000000</td>\n",
       "      <td>0.000000</td>\n",
       "      <td>350.000000</td>\n",
       "    </tr>\n",
       "    <tr>\n",
       "      <th>25%</th>\n",
       "      <td>28.000000</td>\n",
       "      <td>3.000000</td>\n",
       "      <td>70000.000000</td>\n",
       "    </tr>\n",
       "    <tr>\n",
       "      <th>50%</th>\n",
       "      <td>32.000000</td>\n",
       "      <td>7.000000</td>\n",
       "      <td>115000.000000</td>\n",
       "    </tr>\n",
       "    <tr>\n",
       "      <th>75%</th>\n",
       "      <td>38.000000</td>\n",
       "      <td>12.000000</td>\n",
       "      <td>160000.000000</td>\n",
       "    </tr>\n",
       "    <tr>\n",
       "      <th>max</th>\n",
       "      <td>62.000000</td>\n",
       "      <td>34.000000</td>\n",
       "      <td>250000.000000</td>\n",
       "    </tr>\n",
       "  </tbody>\n",
       "</table>\n",
       "</div>"
      ],
      "text/plain": [
       "               Age  Years of Experience         Salary\n",
       "count  6702.000000          6701.000000    6699.000000\n",
       "mean     33.620859             8.094687  115326.964771\n",
       "std       7.614633             6.059003   52786.183911\n",
       "min      21.000000             0.000000     350.000000\n",
       "25%      28.000000             3.000000   70000.000000\n",
       "50%      32.000000             7.000000  115000.000000\n",
       "75%      38.000000            12.000000  160000.000000\n",
       "max      62.000000            34.000000  250000.000000"
      ]
     },
     "execution_count": 35,
     "metadata": {},
     "output_type": "execute_result"
    }
   ],
   "source": [
    "df.describe()"
   ]
  },
  {
   "cell_type": "code",
   "execution_count": 36,
   "metadata": {},
   "outputs": [
    {
     "name": "stdout",
     "output_type": "stream",
     "text": [
      "<class 'pandas.core.frame.DataFrame'>\n",
      "RangeIndex: 6704 entries, 0 to 6703\n",
      "Data columns (total 6 columns):\n",
      " #   Column               Non-Null Count  Dtype  \n",
      "---  ------               --------------  -----  \n",
      " 0   Age                  6702 non-null   float64\n",
      " 1   Gender               6702 non-null   object \n",
      " 2   Education Level      6701 non-null   object \n",
      " 3   Job Title            6702 non-null   object \n",
      " 4   Years of Experience  6701 non-null   float64\n",
      " 5   Salary               6699 non-null   float64\n",
      "dtypes: float64(3), object(3)\n",
      "memory usage: 314.4+ KB\n"
     ]
    }
   ],
   "source": [
    "df.info()"
   ]
  },
  {
   "attachments": {},
   "cell_type": "markdown",
   "metadata": {},
   "source": [
    "##### *Data cleaning & Feature Engineering*"
   ]
  },
  {
   "attachments": {},
   "cell_type": "markdown",
   "metadata": {},
   "source": [
    "*Since the data does not have any unique id or we will not remove duplicates*"
   ]
  },
  {
   "cell_type": "code",
   "execution_count": 37,
   "metadata": {},
   "outputs": [
    {
     "data": {
      "text/plain": [
       "Age                    2\n",
       "Gender                 2\n",
       "Education Level        3\n",
       "Job Title              2\n",
       "Years of Experience    3\n",
       "Salary                 5\n",
       "dtype: int64"
      ]
     },
     "execution_count": 37,
     "metadata": {},
     "output_type": "execute_result"
    }
   ],
   "source": [
    "#checkking whether there is any na values in the data\n",
    "df.isna().sum()"
   ]
  },
  {
   "cell_type": "code",
   "execution_count": 38,
   "metadata": {},
   "outputs": [
    {
     "data": {
      "text/html": [
       "<div>\n",
       "<style scoped>\n",
       "    .dataframe tbody tr th:only-of-type {\n",
       "        vertical-align: middle;\n",
       "    }\n",
       "\n",
       "    .dataframe tbody tr th {\n",
       "        vertical-align: top;\n",
       "    }\n",
       "\n",
       "    .dataframe thead th {\n",
       "        text-align: right;\n",
       "    }\n",
       "</style>\n",
       "<table border=\"1\" class=\"dataframe\">\n",
       "  <thead>\n",
       "    <tr style=\"text-align: right;\">\n",
       "      <th></th>\n",
       "      <th>Age</th>\n",
       "      <th>Gender</th>\n",
       "      <th>Education Level</th>\n",
       "      <th>Job Title</th>\n",
       "      <th>Years of Experience</th>\n",
       "      <th>Salary</th>\n",
       "    </tr>\n",
       "  </thead>\n",
       "  <tbody>\n",
       "    <tr>\n",
       "      <th>172</th>\n",
       "      <td>NaN</td>\n",
       "      <td>NaN</td>\n",
       "      <td>NaN</td>\n",
       "      <td>NaN</td>\n",
       "      <td>NaN</td>\n",
       "      <td>NaN</td>\n",
       "    </tr>\n",
       "    <tr>\n",
       "      <th>260</th>\n",
       "      <td>NaN</td>\n",
       "      <td>NaN</td>\n",
       "      <td>NaN</td>\n",
       "      <td>NaN</td>\n",
       "      <td>NaN</td>\n",
       "      <td>NaN</td>\n",
       "    </tr>\n",
       "    <tr>\n",
       "      <th>2011</th>\n",
       "      <td>27.0</td>\n",
       "      <td>Male</td>\n",
       "      <td>NaN</td>\n",
       "      <td>Developer</td>\n",
       "      <td>7.0</td>\n",
       "      <td>100000.0</td>\n",
       "    </tr>\n",
       "  </tbody>\n",
       "</table>\n",
       "</div>"
      ],
      "text/plain": [
       "       Age Gender Education Level  Job Title  Years of Experience    Salary\n",
       "172    NaN    NaN             NaN        NaN                  NaN       NaN\n",
       "260    NaN    NaN             NaN        NaN                  NaN       NaN\n",
       "2011  27.0   Male             NaN  Developer                  7.0  100000.0"
      ]
     },
     "execution_count": 38,
     "metadata": {},
     "output_type": "execute_result"
    }
   ],
   "source": [
    "#finding rows where education level is na \n",
    "df[df['Education Level'].isna()]"
   ]
  },
  {
   "cell_type": "code",
   "execution_count": 39,
   "metadata": {},
   "outputs": [
    {
     "data": {
      "text/plain": [
       "Age                    0\n",
       "Gender                 0\n",
       "Education Level        1\n",
       "Job Title              0\n",
       "Years of Experience    1\n",
       "Salary                 3\n",
       "dtype: int64"
      ]
     },
     "execution_count": 39,
     "metadata": {},
     "output_type": "execute_result"
    }
   ],
   "source": [
    "#drop rows where all values are na\n",
    "df=df.dropna(how='all',axis=0)\n",
    "#checking the na values in data after dropping \n",
    "df.isna().sum()"
   ]
  },
  {
   "cell_type": "code",
   "execution_count": 40,
   "metadata": {},
   "outputs": [
    {
     "name": "stdout",
     "output_type": "stream",
     "text": [
      "Education Level\n",
      "Bachelor's Degree    2267\n",
      "Master's Degree      1573\n",
      "PhD                  1368\n",
      "Bachelor's            756\n",
      "High School           448\n",
      "Master's              288\n",
      "phD                     1\n",
      "dtype: int64\n"
     ]
    }
   ],
   "source": [
    "#labels in eductaion distribution in the data\n",
    "edu=df.value_counts(df['Education Level'])\n",
    "print(edu)"
   ]
  },
  {
   "cell_type": "code",
   "execution_count": 41,
   "metadata": {},
   "outputs": [
    {
     "data": {
      "text/html": [
       "<div>\n",
       "<style scoped>\n",
       "    .dataframe tbody tr th:only-of-type {\n",
       "        vertical-align: middle;\n",
       "    }\n",
       "\n",
       "    .dataframe tbody tr th {\n",
       "        vertical-align: top;\n",
       "    }\n",
       "\n",
       "    .dataframe thead th {\n",
       "        text-align: right;\n",
       "    }\n",
       "</style>\n",
       "<table border=\"1\" class=\"dataframe\">\n",
       "  <thead>\n",
       "    <tr style=\"text-align: right;\">\n",
       "      <th></th>\n",
       "      <th>Age</th>\n",
       "      <th>Gender</th>\n",
       "      <th>Education Level</th>\n",
       "      <th>Job Title</th>\n",
       "      <th>Years of Experience</th>\n",
       "      <th>Salary</th>\n",
       "      <th>Education</th>\n",
       "    </tr>\n",
       "  </thead>\n",
       "  <tbody>\n",
       "    <tr>\n",
       "      <th>0</th>\n",
       "      <td>32.0</td>\n",
       "      <td>Male</td>\n",
       "      <td>Bachelor's</td>\n",
       "      <td>Software Engineer</td>\n",
       "      <td>5.0</td>\n",
       "      <td>90000.0</td>\n",
       "      <td>2.0</td>\n",
       "    </tr>\n",
       "    <tr>\n",
       "      <th>1</th>\n",
       "      <td>28.0</td>\n",
       "      <td>Female</td>\n",
       "      <td>Master's</td>\n",
       "      <td>Data Analyst</td>\n",
       "      <td>3.0</td>\n",
       "      <td>65000.0</td>\n",
       "      <td>3.0</td>\n",
       "    </tr>\n",
       "    <tr>\n",
       "      <th>2</th>\n",
       "      <td>45.0</td>\n",
       "      <td>Male</td>\n",
       "      <td>PhD</td>\n",
       "      <td>Senior Manager</td>\n",
       "      <td>15.0</td>\n",
       "      <td>150000.0</td>\n",
       "      <td>4.0</td>\n",
       "    </tr>\n",
       "    <tr>\n",
       "      <th>3</th>\n",
       "      <td>36.0</td>\n",
       "      <td>Female</td>\n",
       "      <td>Bachelor's</td>\n",
       "      <td>Sales Associate</td>\n",
       "      <td>7.0</td>\n",
       "      <td>60000.0</td>\n",
       "      <td>2.0</td>\n",
       "    </tr>\n",
       "    <tr>\n",
       "      <th>4</th>\n",
       "      <td>52.0</td>\n",
       "      <td>Male</td>\n",
       "      <td>Master's</td>\n",
       "      <td>Director</td>\n",
       "      <td>20.0</td>\n",
       "      <td>200000.0</td>\n",
       "      <td>3.0</td>\n",
       "    </tr>\n",
       "  </tbody>\n",
       "</table>\n",
       "</div>"
      ],
      "text/plain": [
       "    Age  Gender Education Level          Job Title  Years of Experience  \\\n",
       "0  32.0    Male      Bachelor's  Software Engineer                  5.0   \n",
       "1  28.0  Female        Master's       Data Analyst                  3.0   \n",
       "2  45.0    Male             PhD     Senior Manager                 15.0   \n",
       "3  36.0  Female      Bachelor's    Sales Associate                  7.0   \n",
       "4  52.0    Male        Master's           Director                 20.0   \n",
       "\n",
       "     Salary  Education  \n",
       "0   90000.0        2.0  \n",
       "1   65000.0        3.0  \n",
       "2  150000.0        4.0  \n",
       "3   60000.0        2.0  \n",
       "4  200000.0        3.0  "
      ]
     },
     "execution_count": 41,
     "metadata": {},
     "output_type": "execute_result"
    }
   ],
   "source": [
    "#found multiple category labels, combined and mapped them\n",
    "map_var={\"High School\":1,\"Bachelor's Degree\":2,\"Bachelor's\":2,\"Master's Degree\":3,\"Master's\":3,\"PhD\":4,\"phD\":4}\n",
    "df['Education'] = df['Education Level'].transform(lambda x: x.map(map_var))\n",
    "df['Education'].unique()\n",
    "df.head()"
   ]
  },
  {
   "cell_type": "code",
   "execution_count": 42,
   "metadata": {},
   "outputs": [
    {
     "data": {
      "text/html": [
       "<div>\n",
       "<style scoped>\n",
       "    .dataframe tbody tr th:only-of-type {\n",
       "        vertical-align: middle;\n",
       "    }\n",
       "\n",
       "    .dataframe tbody tr th {\n",
       "        vertical-align: top;\n",
       "    }\n",
       "\n",
       "    .dataframe thead th {\n",
       "        text-align: right;\n",
       "    }\n",
       "</style>\n",
       "<table border=\"1\" class=\"dataframe\">\n",
       "  <thead>\n",
       "    <tr style=\"text-align: right;\">\n",
       "      <th></th>\n",
       "      <th>Age</th>\n",
       "      <th>Gender</th>\n",
       "      <th>Education Level</th>\n",
       "      <th>Job Title</th>\n",
       "      <th>Years of Experience</th>\n",
       "      <th>Salary</th>\n",
       "      <th>Education</th>\n",
       "    </tr>\n",
       "  </thead>\n",
       "  <tbody>\n",
       "    <tr>\n",
       "      <th>3136</th>\n",
       "      <td>31.0</td>\n",
       "      <td>Male</td>\n",
       "      <td>Master's Degree</td>\n",
       "      <td>Full Stack Engineer</td>\n",
       "      <td>8.0</td>\n",
       "      <td>NaN</td>\n",
       "      <td>3.0</td>\n",
       "    </tr>\n",
       "    <tr>\n",
       "      <th>5247</th>\n",
       "      <td>26.0</td>\n",
       "      <td>Female</td>\n",
       "      <td>Bachelor's Degree</td>\n",
       "      <td>Social M</td>\n",
       "      <td>NaN</td>\n",
       "      <td>NaN</td>\n",
       "      <td>2.0</td>\n",
       "    </tr>\n",
       "    <tr>\n",
       "      <th>6455</th>\n",
       "      <td>36.0</td>\n",
       "      <td>Male</td>\n",
       "      <td>Bachelor's Degree</td>\n",
       "      <td>Sales Director</td>\n",
       "      <td>6.0</td>\n",
       "      <td>NaN</td>\n",
       "      <td>2.0</td>\n",
       "    </tr>\n",
       "  </tbody>\n",
       "</table>\n",
       "</div>"
      ],
      "text/plain": [
       "       Age  Gender    Education Level            Job Title  \\\n",
       "3136  31.0    Male    Master's Degree  Full Stack Engineer   \n",
       "5247  26.0  Female  Bachelor's Degree             Social M   \n",
       "6455  36.0    Male  Bachelor's Degree       Sales Director   \n",
       "\n",
       "      Years of Experience  Salary  Education  \n",
       "3136                  8.0     NaN        3.0  \n",
       "5247                  NaN     NaN        2.0  \n",
       "6455                  6.0     NaN        2.0  "
      ]
     },
     "execution_count": 42,
     "metadata": {},
     "output_type": "execute_result"
    }
   ],
   "source": [
    "df[df['Salary'].isna()]"
   ]
  },
  {
   "cell_type": "code",
   "execution_count": 43,
   "metadata": {},
   "outputs": [
    {
     "data": {
      "text/html": [
       "<div>\n",
       "<style scoped>\n",
       "    .dataframe tbody tr th:only-of-type {\n",
       "        vertical-align: middle;\n",
       "    }\n",
       "\n",
       "    .dataframe tbody tr th {\n",
       "        vertical-align: top;\n",
       "    }\n",
       "\n",
       "    .dataframe thead th {\n",
       "        text-align: right;\n",
       "    }\n",
       "</style>\n",
       "<table border=\"1\" class=\"dataframe\">\n",
       "  <thead>\n",
       "    <tr style=\"text-align: right;\">\n",
       "      <th></th>\n",
       "      <th>Age</th>\n",
       "      <th>Gender</th>\n",
       "      <th>Education Level</th>\n",
       "      <th>Job Title</th>\n",
       "      <th>Years of Experience</th>\n",
       "      <th>Salary</th>\n",
       "      <th>Education</th>\n",
       "    </tr>\n",
       "  </thead>\n",
       "  <tbody>\n",
       "    <tr>\n",
       "      <th>2011</th>\n",
       "      <td>27.0</td>\n",
       "      <td>Male</td>\n",
       "      <td>NaN</td>\n",
       "      <td>Developer</td>\n",
       "      <td>7.0</td>\n",
       "      <td>NaN</td>\n",
       "      <td>NaN</td>\n",
       "    </tr>\n",
       "  </tbody>\n",
       "</table>\n",
       "</div>"
      ],
      "text/plain": [
       "       Age Gender Education Level  Job Title  Years of Experience  Salary  \\\n",
       "2011  27.0   Male             NaN  Developer                  7.0     NaN   \n",
       "\n",
       "      Education  \n",
       "2011        NaN  "
      ]
     },
     "execution_count": 43,
     "metadata": {},
     "output_type": "execute_result"
    }
   ],
   "source": [
    "#fill the missing salary considering the job title and eductaion\n",
    "df['Salary']=df.groupby(['Job Title','Education'])['Education'].transform(lambda x: x.fillna(x.mode().iloc[0]))\n",
    "df[df['Salary'].isna()]"
   ]
  },
  {
   "cell_type": "code",
   "execution_count": 44,
   "metadata": {},
   "outputs": [
    {
     "data": {
      "text/plain": [
       "Age                    0\n",
       "Gender                 0\n",
       "Education Level        0\n",
       "Job Title              0\n",
       "Years of Experience    0\n",
       "Salary                 0\n",
       "Education              0\n",
       "dtype: int64"
      ]
     },
     "execution_count": 44,
     "metadata": {},
     "output_type": "execute_result"
    }
   ],
   "source": [
    "#dropping the rows where still na values are present \n",
    "df.dropna(axis=0,inplace=True)\n",
    "df.isna().sum()\n"
   ]
  },
  {
   "cell_type": "code",
   "execution_count": 45,
   "metadata": {},
   "outputs": [
    {
     "name": "stdout",
     "output_type": "stream",
     "text": [
      "No of unique jobs titles are:  191\n",
      "<class 'pandas.core.frame.DataFrame'>\n",
      "Int64Index: 6700 entries, 0 to 6703\n",
      "Data columns (total 7 columns):\n",
      " #   Column               Non-Null Count  Dtype  \n",
      "---  ------               --------------  -----  \n",
      " 0   Age                  6700 non-null   float64\n",
      " 1   Gender               6700 non-null   int32  \n",
      " 2   Education Level      6700 non-null   object \n",
      " 3   Job Title            6700 non-null   int32  \n",
      " 4   Years of Experience  6700 non-null   float64\n",
      " 5   Salary               6700 non-null   float64\n",
      " 6   Education            6700 non-null   float64\n",
      "dtypes: float64(4), int32(2), object(1)\n",
      "memory usage: 366.4+ KB\n"
     ]
    }
   ],
   "source": [
    "#The gender labels are changed to numercal values using LabelEncoder method\n",
    "df['Gender']=LabelEncoder().fit_transform(df['Gender']) #male as 1, female 0 and others and 2\n",
    "print(\"No of unique jobs titles are: \",df['Job Title'].nunique())\n",
    "#The lables under job title are changed to numercal values using LabelEncoder method\n",
    "df['Job Title']=LabelEncoder().fit_transform(df['Job Title']) \n",
    "df.info()"
   ]
  },
  {
   "attachments": {},
   "cell_type": "markdown",
   "metadata": {},
   "source": [
    "##### *Applying regression model*\n"
   ]
  },
  {
   "attachments": {},
   "cell_type": "markdown",
   "metadata": {},
   "source": [
    "*NOTE: The given data is giving a well balanced model without even applying any kind of regularization or any control variables.*\n",
    "\n",
    "*I will be applying 3 different regression models in ML*\n",
    "- *Linear Reagression*\n",
    "- *Decision Tree Regression*\n",
    "- *Random Forest Regression*\n"
   ]
  },
  {
   "attachments": {},
   "cell_type": "markdown",
   "metadata": {},
   "source": [
    "**1. Linear Regression**"
   ]
  },
  {
   "cell_type": "code",
   "execution_count": 46,
   "metadata": {},
   "outputs": [],
   "source": [
    "#Assigning the dependent and independent variables \n",
    "X=df[['Age','Gender','Education','Job Title','Years of Experience']]\n",
    "Y=df['Salary']"
   ]
  },
  {
   "cell_type": "code",
   "execution_count": 47,
   "metadata": {},
   "outputs": [
    {
     "name": "stdout",
     "output_type": "stream",
     "text": [
      "Train Size: 0.7 Testing Error: 9.8924040567967e-31\n",
      "Train Size: 0.8 Testing Error: 4.2812058990346735e-29\n",
      "Train Size: 0.9 Testing Error: 1.19478944705174e-30\n"
     ]
    }
   ],
   "source": [
    "#Different train sizes to try\n",
    "train_sizes = [0.7, 0.8, 0.9]  \n",
    "\n",
    "for i in train_sizes:\n",
    "    #Split the data into training and testing sets\n",
    "    X_train, X_test, Y_train, Y_test = train_test_split(X, Y, train_size=i, random_state=33)\n",
    "    \n",
    "    #Tcreate the model and predict\n",
    "    model = LinearRegression().fit(X_train, Y_train)\n",
    "    Y_pred = model.predict(X_test)\n",
    "\n",
    "    # Calculate mean squared error (MSE) for testing data\n",
    "    test_error=mean_squared_error(Y_test, Y_pred)\n",
    "\n",
    "    print(\"Train Size:\",i,\"Testing Error:\", test_error)\n",
    "   \n"
   ]
  },
  {
   "attachments": {},
   "cell_type": "markdown",
   "metadata": {},
   "source": [
    "**2. Decision Tree Regression**"
   ]
  },
  {
   "cell_type": "code",
   "execution_count": 48,
   "metadata": {},
   "outputs": [
    {
     "name": "stdout",
     "output_type": "stream",
     "text": [
      "Train Size: 0.7 Testing Error (MSE): 0.0\n",
      "Train Size: 0.7 Testing Error(MAE): 0.0\n",
      "Train Size: 0.8 Testing Error (MSE): 0.0\n",
      "Train Size: 0.8 Testing Error(MAE): 0.0\n",
      "Train Size: 0.9 Testing Error (MSE): 0.0\n",
      "Train Size: 0.9 Testing Error(MAE): 0.0\n"
     ]
    }
   ],
   "source": [
    "#Different train sizes to try\n",
    "train_sizes = [0.7, 0.8, 0.9]  \n",
    "\n",
    "for i in train_sizes:\n",
    "    #Split the data into training and testing sets\n",
    "    X_train, X_test, Y_train, Y_test = train_test_split(X, Y, train_size=i, random_state=33)\n",
    "    \n",
    "    #Tcreate the model and predict\n",
    "    model = DecisionTreeRegressor().fit(X_train, Y_train)\n",
    "    Y_pred = model.predict(X_test)\n",
    "\n",
    "    # Calculate mean squared error (MSE) for testing data\n",
    "    test_error=mean_squared_error(Y_test, Y_pred)\n",
    "    test_error2=mean_absolute_error(Y_test, Y_pred)\n",
    "\n",
    "    print(\"Train Size:\",i,\"Testing Error (MSE):\", test_error)\n",
    "    print(\"Train Size:\",i,\"Testing Error(MAE):\", test_error)"
   ]
  },
  {
   "attachments": {},
   "cell_type": "markdown",
   "metadata": {},
   "source": [
    "*The decison tree regressor model was able to predict the target variable without any error. Checked error using MAE and MSE*"
   ]
  },
  {
   "attachments": {},
   "cell_type": "markdown",
   "metadata": {},
   "source": [
    "**3: Random Forest Regression**"
   ]
  },
  {
   "cell_type": "code",
   "execution_count": 49,
   "metadata": {},
   "outputs": [
    {
     "name": "stdout",
     "output_type": "stream",
     "text": [
      "Train Size: 0.7 Testing Error (MSE): 0.0\n",
      "Train Size: 0.7 Testing Error(MAE): 0.0\n",
      "Train Size: 0.8 Testing Error (MSE): 0.0\n",
      "Train Size: 0.8 Testing Error(MAE): 0.0\n",
      "Train Size: 0.9 Testing Error (MSE): 0.0\n",
      "Train Size: 0.9 Testing Error(MAE): 0.0\n"
     ]
    }
   ],
   "source": [
    "#Different train sizes to try\n",
    "train_sizes = [0.7, 0.8, 0.9]  \n",
    "\n",
    "for i in train_sizes:\n",
    "    #Split the data into training and testing sets\n",
    "    X_train, X_test, Y_train, Y_test = train_test_split(X, Y, train_size=i, random_state=33)\n",
    " \n",
    "    #Tcreate the model and predict\n",
    "    model=RandomForestRegressor().fit(X_train, Y_train)\n",
    "    Y_pred = model.predict(X_test)\n",
    "\n",
    "    # Calculate mean squared error (MSE) for testing data\n",
    "    test_error=mean_squared_error(Y_test, Y_pred)\n",
    "    test_error2=mean_absolute_error(Y_test, Y_pred)\n",
    "\n",
    "    print(\"Train Size:\",i,\"Testing Error (MSE):\", test_error)\n",
    "    print(\"Train Size:\",i,\"Testing Error(MAE):\", test_error)"
   ]
  },
  {
   "attachments": {},
   "cell_type": "markdown",
   "metadata": {},
   "source": [
    "*Similar to decison tree regressor model, random forest regression is also able to predict the target variable without any error. Checked error using MAE and MSE*"
   ]
  },
  {
   "attachments": {},
   "cell_type": "markdown",
   "metadata": {},
   "source": [
    "#### Classification"
   ]
  },
  {
   "cell_type": "code",
   "execution_count": 50,
   "metadata": {},
   "outputs": [],
   "source": [
    "#For the ease of understanding I am using only the train data from car insureance related data and splitting that for building model\n",
    "#reading the data\n",
    "df_train=pd.read_csv(\"D:\\Beinex\\Python\\Dataset-Kaggle\\Task_26-06\\\\train.csv\")"
   ]
  },
  {
   "cell_type": "code",
   "execution_count": 51,
   "metadata": {},
   "outputs": [
    {
     "name": "stdout",
     "output_type": "stream",
     "text": [
      "<class 'pandas.core.frame.DataFrame'>\n",
      "RangeIndex: 58592 entries, 0 to 58591\n",
      "Data columns (total 44 columns):\n",
      " #   Column                            Non-Null Count  Dtype  \n",
      "---  ------                            --------------  -----  \n",
      " 0   policy_id                         58592 non-null  object \n",
      " 1   policy_tenure                     58592 non-null  float64\n",
      " 2   age_of_car                        58592 non-null  float64\n",
      " 3   age_of_policyholder               58592 non-null  float64\n",
      " 4   area_cluster                      58592 non-null  object \n",
      " 5   population_density                58592 non-null  int64  \n",
      " 6   make                              58592 non-null  int64  \n",
      " 7   segment                           58592 non-null  object \n",
      " 8   model                             58592 non-null  object \n",
      " 9   fuel_type                         58592 non-null  object \n",
      " 10  max_torque                        58592 non-null  object \n",
      " 11  max_power                         58592 non-null  object \n",
      " 12  engine_type                       58592 non-null  object \n",
      " 13  airbags                           58592 non-null  int64  \n",
      " 14  is_esc                            58592 non-null  object \n",
      " 15  is_adjustable_steering            58592 non-null  object \n",
      " 16  is_tpms                           58592 non-null  object \n",
      " 17  is_parking_sensors                58592 non-null  object \n",
      " 18  is_parking_camera                 58592 non-null  object \n",
      " 19  rear_brakes_type                  58592 non-null  object \n",
      " 20  displacement                      58592 non-null  int64  \n",
      " 21  cylinder                          58592 non-null  int64  \n",
      " 22  transmission_type                 58592 non-null  object \n",
      " 23  gear_box                          58592 non-null  int64  \n",
      " 24  steering_type                     58592 non-null  object \n",
      " 25  turning_radius                    58592 non-null  float64\n",
      " 26  length                            58592 non-null  int64  \n",
      " 27  width                             58592 non-null  int64  \n",
      " 28  height                            58592 non-null  int64  \n",
      " 29  gross_weight                      58592 non-null  int64  \n",
      " 30  is_front_fog_lights               58592 non-null  object \n",
      " 31  is_rear_window_wiper              58592 non-null  object \n",
      " 32  is_rear_window_washer             58592 non-null  object \n",
      " 33  is_rear_window_defogger           58592 non-null  object \n",
      " 34  is_brake_assist                   58592 non-null  object \n",
      " 35  is_power_door_locks               58592 non-null  object \n",
      " 36  is_central_locking                58592 non-null  object \n",
      " 37  is_power_steering                 58592 non-null  object \n",
      " 38  is_driver_seat_height_adjustable  58592 non-null  object \n",
      " 39  is_day_night_rear_view_mirror     58592 non-null  object \n",
      " 40  is_ecw                            58592 non-null  object \n",
      " 41  is_speed_alert                    58592 non-null  object \n",
      " 42  ncap_rating                       58592 non-null  int64  \n",
      " 43  is_claim                          58592 non-null  int64  \n",
      "dtypes: float64(4), int64(12), object(28)\n",
      "memory usage: 19.7+ MB\n"
     ]
    }
   ],
   "source": [
    "#understanding the data types and variables\n",
    "df_train.info()"
   ]
  },
  {
   "cell_type": "code",
   "execution_count": 52,
   "metadata": {},
   "outputs": [
    {
     "data": {
      "text/plain": [
       "<Axes: >"
      ]
     },
     "execution_count": 52,
     "metadata": {},
     "output_type": "execute_result"
    },
    {
     "data": {
      "image/png": "[encoded data removed]",
      "text/plain": [
       "<Figure size 640x480 with 1 Axes>"
      ]
     },
     "metadata": {},
     "output_type": "display_data"
    }
   ],
   "source": [
    "#checking the distribution of target value\n",
    "df_train[\"is_claim\"].value_counts().plot.bar()"
   ]
  },
  {
   "attachments": {},
   "cell_type": "markdown",
   "metadata": {},
   "source": [
    "*The distrution is found to be unequal/imbalanced*"
   ]
  },
  {
   "cell_type": "code",
   "execution_count": 53,
   "metadata": {},
   "outputs": [
    {
     "data": {
      "text/plain": [
       "(58592, 44)"
      ]
     },
     "execution_count": 53,
     "metadata": {},
     "output_type": "execute_result"
    }
   ],
   "source": [
    "df_train.shape"
   ]
  },
  {
   "attachments": {},
   "cell_type": "markdown",
   "metadata": {},
   "source": [
    "*In the previous analysis we found that there is no null values or duplicated values in the data*"
   ]
  },
  {
   "cell_type": "code",
   "execution_count": 54,
   "metadata": {},
   "outputs": [],
   "source": [
    "#Scaling the variable population density\n",
    "df_train['population_density']= df_train['population_density'].to_numpy().reshape(-1, 1)\n",
    "df_train['population_density']=StandardScaler().fit_transform(df_train[['population_density']])"
   ]
  },
  {
   "attachments": {},
   "cell_type": "markdown",
   "metadata": {},
   "source": [
    "##### Applying classification model"
   ]
  },
  {
   "cell_type": "code",
   "execution_count": 55,
   "metadata": {},
   "outputs": [],
   "source": [
    "#setting the independent variables and dependent variables\n",
    "X=df_train.drop([\"is_claim\",\"policy_id\"],axis=1)\n",
    "X=X.apply(LabelEncoder().fit_transform)\n",
    "\n",
    "Y=df_train['is_claim']"
   ]
  },
  {
   "attachments": {},
   "cell_type": "markdown",
   "metadata": {},
   "source": [
    "*Before moving to other validation methods the imbalance in target variable is balanced using SMOTE.*"
   ]
  },
  {
   "cell_type": "code",
   "execution_count": 56,
   "metadata": {},
   "outputs": [],
   "source": [
    "# Split the data into training and testing sets (70:20)\n",
    "X_train, X_test, Y_train, Y_test = train_test_split(X, Y, train_size=0.8, test_size=0.2, random_state=33)\n",
    "\n",
    "# Before moving into further apply SMOTE to the data in order to avoid the imbalance in target variable\n",
    "smote=SMOTE(random_state=33)\n",
    "X_train,Y_train=smote.fit_resample(X_train, Y_train)"
   ]
  },
  {
   "attachments": {},
   "cell_type": "markdown",
   "metadata": {},
   "source": [
    "*As model validation method we will use train test split, Kfold cross validation and leave one out validation methods*.\n",
    "\n",
    "*For model validation metrics we will use confusion matrix, accuraacy, precision, recall, f1 score and roc curve*"
   ]
  },
  {
   "attachments": {},
   "cell_type": "markdown",
   "metadata": {},
   "source": [
    "**1: Train-Test Split**\n",
    "\n",
    "*Understanding validation metrics*"
   ]
  },
  {
   "attachments": {},
   "cell_type": "markdown",
   "metadata": {},
   "source": [
    "- Decision Tree classification"
   ]
  },
  {
   "cell_type": "code",
   "execution_count": 57,
   "metadata": {},
   "outputs": [
    {
     "name": "stdout",
     "output_type": "stream",
     "text": [
      "Confusion Matrix:\n",
      "[[10236   752]\n",
      " [  656    75]]\n",
      "\n",
      "Testing Classification Report:\n",
      "              precision    recall  f1-score   support\n",
      "\n",
      "           0       0.94      0.93      0.94     10988\n",
      "           1       0.09      0.10      0.10       731\n",
      "\n",
      "    accuracy                           0.88     11719\n",
      "   macro avg       0.52      0.52      0.52     11719\n",
      "weighted avg       0.89      0.88      0.88     11719\n",
      "\n"
     ]
    }
   ],
   "source": [
    "\n",
    "#information gain condition for feature selection \n",
    "#Decision tree based prediction where the criterion is set to 'entropy'\n",
    "#Fit the decision tree model on the training fold\n",
    "\n",
    "# Split the data into training and testing sets (80:20)\n",
    "X_train, X_test, Y_train, Y_test = train_test_split(X, Y, train_size=0.8, test_size=0.2, random_state=33)\n",
    "\n",
    "dt=DecisionTreeClassifier(criterion='entropy').fit(X_train,Y_train)\n",
    "Y_pred=dt.predict(X_test)\n",
    "\n",
    "confusion_mat = confusion_matrix(Y_test, Y_pred)\n",
    "\n",
    "print(\"Confusion Matrix:\")\n",
    "print(confusion_mat)\n",
    "plt.show()\n",
    "print(\"\")\n",
    "print(\"Testing Classification Report:\")\n",
    "print(classification_report(Y_test, Y_pred))"
   ]
  },
  {
   "attachments": {},
   "cell_type": "markdown",
   "metadata": {},
   "source": [
    "*The confusion meatrix shows the TP, TN, FP and FN.The precision, recall and accuracy can be noted from th clasification report.*"
   ]
  },
  {
   "attachments": {},
   "cell_type": "markdown",
   "metadata": {},
   "source": [
    "*Plotting **roc curve** and determining the value of **area under the curve (auc)** from decision tree classification*"
   ]
  },
  {
   "cell_type": "code",
   "execution_count": 58,
   "metadata": {},
   "outputs": [
    {
     "data": {
      "text/plain": [
       "0.5170804414416523"
      ]
     },
     "execution_count": 58,
     "metadata": {},
     "output_type": "execute_result"
    }
   ],
   "source": [
    "fpr, tpr, thresholds=roc_curve(Y_test,Y_pred,pos_label=1)\n",
    "auc =auc(fpr, tpr)\n",
    "auc"
   ]
  },
  {
   "cell_type": "code",
   "execution_count": 59,
   "metadata": {},
   "outputs": [
    {
     "data": {
      "image/png": "[encoded data removed]",
      "text/plain": [
       "<Figure size 640x480 with 1 Axes>"
      ]
     },
     "metadata": {},
     "output_type": "display_data"
    }
   ],
   "source": [
    "plt.plot([0, 1], [0, 1], 'k--')\n",
    "plt.plot(fpr, tpr, label = 'AUC:{:.4f}'.format(auc))\n",
    "plt.xlabel('False positive rate')\n",
    "plt.ylabel('True positive rate')\n",
    "plt.title('ROC curve')\n",
    "plt.legend(loc='best')\n",
    "plt.show()"
   ]
  },
  {
   "attachments": {},
   "cell_type": "markdown",
   "metadata": {},
   "source": [
    "*The shape of roc curve is linear, which is not a good one. And the auc value is slightly greater than 0.5 (0.5131).These signifies the model is not a good fit model.*"
   ]
  },
  {
   "attachments": {},
   "cell_type": "markdown",
   "metadata": {},
   "source": [
    "- Random Forest classification"
   ]
  },
  {
   "cell_type": "code",
   "execution_count": 60,
   "metadata": {},
   "outputs": [
    {
     "name": "stdout",
     "output_type": "stream",
     "text": [
      "Confusion Matrix:Train size= 0.7\n",
      "[[15726   752]\n",
      " [  656   444]]\n",
      "\n",
      "Testing Classification Report:Trainsize= 0.7\n",
      "              precision    recall  f1-score   support\n",
      "\n",
      "           0       0.96      0.95      0.96     16478\n",
      "           1       0.37      0.40      0.39      1100\n",
      "\n",
      "    accuracy                           0.92     17578\n",
      "   macro avg       0.67      0.68      0.67     17578\n",
      "weighted avg       0.92      0.92      0.92     17578\n",
      "\n",
      "Confusion Matrix:Train size= 0.8\n",
      "[[10236   752]\n",
      " [  656    75]]\n",
      "\n",
      "Testing Classification Report:Trainsize= 0.8\n",
      "              precision    recall  f1-score   support\n",
      "\n",
      "           0       0.94      0.93      0.94     10988\n",
      "           1       0.09      0.10      0.10       731\n",
      "\n",
      "    accuracy                           0.88     11719\n",
      "   macro avg       0.52      0.52      0.52     11719\n",
      "weighted avg       0.89      0.88      0.88     11719\n",
      "\n",
      "Confusion Matrix:Train size= 0.9\n",
      "[[5128  378]\n",
      " [ 321   33]]\n",
      "\n",
      "Testing Classification Report:Trainsize= 0.9\n",
      "              precision    recall  f1-score   support\n",
      "\n",
      "           0       0.94      0.93      0.94      5506\n",
      "           1       0.08      0.09      0.09       354\n",
      "\n",
      "    accuracy                           0.88      5860\n",
      "   macro avg       0.51      0.51      0.51      5860\n",
      "weighted avg       0.89      0.88      0.88      5860\n",
      "\n"
     ]
    }
   ],
   "source": [
    "#Applying random forest classifier with different train test split ratio\n",
    "#Different train sizes to try\n",
    "train_sizes = [0.7, 0.8, 0.9]  \n",
    "\n",
    "for i in train_sizes:\n",
    "    #Split the data into training and testing sets\n",
    "    X_train, X_test, Y_train, Y_test = train_test_split(X, Y, train_size=i, random_state=33)\n",
    "    \n",
    "    #Tcreate the model and predict\n",
    "    model=RandomForestClassifier().fit(X_train, Y_train)\n",
    "    Y_pred=dt.predict(X_test)\n",
    "\n",
    "    confusion_mat = confusion_matrix(Y_test, Y_pred)\n",
    "\n",
    "    print(\"Confusion Matrix:Train size=\",i)\n",
    "    print(confusion_mat)    \n",
    "    print(\"\")\n",
    "    print(\"Testing Classification Report:Trainsize=\",i)\n",
    "    print(classification_report(Y_test, Y_pred))"
   ]
  },
  {
   "attachments": {},
   "cell_type": "markdown",
   "metadata": {},
   "source": [
    "*As the training size increased, the score metrics almost all of them has been decreased.*\n",
    "\n",
    "*Similar observation has been found for logistic regression model also.*"
   ]
  },
  {
   "cell_type": "code",
   "execution_count": 61,
   "metadata": {},
   "outputs": [
    {
     "name": "stdout",
     "output_type": "stream",
     "text": [
      "Confusion Matrix:Train size= 0.7\n",
      "[[15726   752]\n",
      " [  656   444]]\n",
      "\n",
      "Testing Classification Report:Trainsize= 0.7\n",
      "              precision    recall  f1-score   support\n",
      "\n",
      "           0       0.96      0.95      0.96     16478\n",
      "           1       0.37      0.40      0.39      1100\n",
      "\n",
      "    accuracy                           0.92     17578\n",
      "   macro avg       0.67      0.68      0.67     17578\n",
      "weighted avg       0.92      0.92      0.92     17578\n",
      "\n",
      "Confusion Matrix:Train size= 0.8\n",
      "[[10236   752]\n",
      " [  656    75]]\n",
      "\n",
      "Testing Classification Report:Trainsize= 0.8\n",
      "              precision    recall  f1-score   support\n",
      "\n",
      "           0       0.94      0.93      0.94     10988\n",
      "           1       0.09      0.10      0.10       731\n",
      "\n",
      "    accuracy                           0.88     11719\n",
      "   macro avg       0.52      0.52      0.52     11719\n",
      "weighted avg       0.89      0.88      0.88     11719\n",
      "\n",
      "Confusion Matrix:Train size= 0.9\n",
      "[[5128  378]\n",
      " [ 321   33]]\n",
      "\n",
      "Testing Classification Report:Trainsize= 0.9\n",
      "              precision    recall  f1-score   support\n",
      "\n",
      "           0       0.94      0.93      0.94      5506\n",
      "           1       0.08      0.09      0.09       354\n",
      "\n",
      "    accuracy                           0.88      5860\n",
      "   macro avg       0.51      0.51      0.51      5860\n",
      "weighted avg       0.89      0.88      0.88      5860\n",
      "\n"
     ]
    }
   ],
   "source": [
    "#Applying *logistic regression* classifier with different train test split ratio\n",
    "#Different train sizes to try\n",
    "train_sizes = [0.7, 0.8, 0.9]  \n",
    "\n",
    "for i in train_sizes:\n",
    "    #Split the data into training and testing sets\n",
    "    X_train, X_test, Y_train, Y_test = train_test_split(X, Y, train_size=i, random_state=33)\n",
    "    \n",
    "    #Tcreate the model and predict\n",
    "    model=LogisticRegression().fit(X_train, Y_train)\n",
    "    Y_pred=dt.predict(X_test)\n",
    "\n",
    "    confusion_mat = confusion_matrix(Y_test, Y_pred)\n",
    "\n",
    "    print(\"Confusion Matrix:Train size=\",i)\n",
    "    print(confusion_mat)    \n",
    "    print(\"\")\n",
    "    print(\"Testing Classification Report:Trainsize=\",i)\n",
    "    print(classification_report(Y_test, Y_pred))"
   ]
  },
  {
   "attachments": {},
   "cell_type": "markdown",
   "metadata": {},
   "source": [
    "**2: K-Fold cross Validation**"
   ]
  },
  {
   "cell_type": "code",
   "execution_count": 62,
   "metadata": {},
   "outputs": [
    {
     "name": "stdout",
     "output_type": "stream",
     "text": [
      "Validation Method: K-Fold Cross Validation\n",
      "                    Model  Accuracy\n",
      "0      LogisticRegression  0.936032\n",
      "1  DecisionTreeClassifier  0.870870\n",
      "2  RandomForestClassifier  0.931783\n"
     ]
    }
   ],
   "source": [
    "#models to apply\n",
    "models = [LogisticRegression(),DecisionTreeClassifier(),RandomForestClassifier()] \n",
    "\n",
    "#the number of folds for K-fold cross-validation\n",
    "k=10 \n",
    "\n",
    "# Create an empty dataframe to store the results\n",
    "results =pd.DataFrame(columns=['Model','Accuracy'])\n",
    "\n",
    "# Perform K-fold cross-validation for each model\n",
    "for model in models:\n",
    "    accuracy = cross_val_score(model, X, Y, cv=k, scoring='accuracy').mean()\n",
    "    results = results.append({'Model': type(model).__name__, 'Accuracy': accuracy}, ignore_index=True)\n",
    "\n",
    "# Print the results table\n",
    "print(\"Validation Method: K-Fold Cross Validation\")\n",
    "print(results)\n"
   ]
  },
  {
   "attachments": {},
   "cell_type": "markdown",
   "metadata": {},
   "source": [
    "**2: Leave One Out Method**"
   ]
  },
  {
   "attachments": {},
   "cell_type": "markdown",
   "metadata": {},
   "source": [
    "*Couldn't implemnt leave one out method as it was taking huge time to process (kernel interrupted at 62.13 mins)*"
   ]
  },
  {
   "cell_type": "code",
   "execution_count": null,
   "metadata": {},
   "outputs": [],
   "source": [
    "#models to apply\n",
    "models =[LogisticRegression(),DecisionTreeClassifier(),RandomForestClassifier()] \n",
    "\n",
    "#Create an empty dataframe to store the results\n",
    "results =pd.DataFrame(columns=['Model', 'Accuracy'])\n",
    " \n",
    "#Perform K-fold cross-validation for each model\n",
    "for model in models:\n",
    "    loo=LeaveOneOut()\n",
    "    accuracy = cross_val_score(model,X,Y,cv=loo,scoring='accuracy').mean()\n",
    "    results = results.append({'Model': type(model).__name__, 'Accuracy': accuracy}, ignore_index=True)\n",
    "\n",
    "# Print the results table\n",
    "print(\"Validation Method: Leave-One-Out\")\n",
    "print(results)"
   ]
  },
  {
   "cell_type": "code",
   "execution_count": null,
   "metadata": {},
   "outputs": [],
   "source": [
    "#models to apply\n",
    "models=[LogisticRegression()] \n",
    "\n",
    "#Create an empty dataframe to store the results\n",
    "results =pd.DataFrame(columns=['Model', 'Accuracy'])\n",
    "\n",
    "#Perform K-fold cross-validation for each model\n",
    "for model in models:\n",
    "    loo=LeaveOneOut()\n",
    "    accuracy = cross_val_score(model,X,Y,cv=loo,scoring='accuracy').mean()\n",
    "    results = results.append({'Model': type(model).__name__, 'Accuracy': accuracy}, ignore_index=True)\n",
    "\n",
    "# Print the results table\n",
    "print(\"Validation Method: Leave-One-Out\")\n",
    "print(results)"
   ]
  }
 ],
 "metadata": {
  "kernelspec": {
   "display_name": "base",
   "language": "python",
   "name": "python3"
  },
  "language_info": {
   "codemirror_mode": {
    "name": "ipython",
    "version": 3
   },
   "file_extension": ".py",
   "mimetype": "text/x-python",
   "name": "python",
   "nbconvert_exporter": "python",
   "pygments_lexer": "ipython3",
   "version": "3.10.9"
  },
  "orig_nbformat": 4
 },
 "nbformat": 4,
 "nbformat_minor": 2
}
