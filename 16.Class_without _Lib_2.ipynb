{
 "cells": [
  {
   "attachments": {},
   "cell_type": "markdown",
   "metadata": {},
   "source": [
    "#### Application of Classification Algorithm without using Python in-built classifiers"
   ]
  },
  {
   "attachments": {},
   "cell_type": "markdown",
   "metadata": {},
   "source": [
    "The project tries to apply different classification algorithms into the car insurance claim data without using any python in-built classifiers. "
   ]
  },
  {
   "cell_type": "code",
   "execution_count": 1,
   "metadata": {},
   "outputs": [],
   "source": [
    "#importing necessary libraries\n",
    "import pandas as pd\n",
    "import seaborn as sns\n",
    "import matplotlib.pyplot as plt\n",
    "\n",
    "from sklearn.model_selection import train_test_split\n",
    "from sklearn.metrics import confusion_matrix,classification_report\n",
    "import math #tried my best to avoid math library, but unable to do the log base 2 calculation for entropy\n",
    "\n",
    "import warnings\n",
    "warnings.filterwarnings('ignore')\n"
   ]
  },
  {
   "cell_type": "code",
   "execution_count": 2,
   "metadata": {},
   "outputs": [],
   "source": [
    "#reading the data\n",
    "df=pd.read_csv(\"D:\\Beinex\\Python\\Dataset-Kaggle\\Task_26-06\\\\train.csv\")"
   ]
  },
  {
   "attachments": {},
   "cell_type": "markdown",
   "metadata": {},
   "source": [
    "***Note**: I only selected first 10,000 rows of the data and these five variables as predictors in order to reduce the complexity of the model*"
   ]
  },
  {
   "cell_type": "code",
   "execution_count": 3,
   "metadata": {},
   "outputs": [
    {
     "data": {
      "text/html": [
       "<div>\n",
       "<style scoped>\n",
       "    .dataframe tbody tr th:only-of-type {\n",
       "        vertical-align: middle;\n",
       "    }\n",
       "\n",
       "    .dataframe tbody tr th {\n",
       "        vertical-align: top;\n",
       "    }\n",
       "\n",
       "    .dataframe thead th {\n",
       "        text-align: right;\n",
       "    }\n",
       "</style>\n",
       "<table border=\"1\" class=\"dataframe\">\n",
       "  <thead>\n",
       "    <tr style=\"text-align: right;\">\n",
       "      <th></th>\n",
       "      <th>policy_tenure</th>\n",
       "      <th>age_of_car</th>\n",
       "      <th>age_of_policyholder</th>\n",
       "      <th>population_density</th>\n",
       "      <th>model</th>\n",
       "      <th>is_claim</th>\n",
       "    </tr>\n",
       "  </thead>\n",
       "  <tbody>\n",
       "    <tr>\n",
       "      <th>0</th>\n",
       "      <td>0.515874</td>\n",
       "      <td>0.05</td>\n",
       "      <td>0.644231</td>\n",
       "      <td>4990</td>\n",
       "      <td>M1</td>\n",
       "      <td>0</td>\n",
       "    </tr>\n",
       "    <tr>\n",
       "      <th>1</th>\n",
       "      <td>0.672619</td>\n",
       "      <td>0.02</td>\n",
       "      <td>0.375000</td>\n",
       "      <td>27003</td>\n",
       "      <td>M1</td>\n",
       "      <td>0</td>\n",
       "    </tr>\n",
       "    <tr>\n",
       "      <th>2</th>\n",
       "      <td>0.841110</td>\n",
       "      <td>0.02</td>\n",
       "      <td>0.384615</td>\n",
       "      <td>4076</td>\n",
       "      <td>M1</td>\n",
       "      <td>0</td>\n",
       "    </tr>\n",
       "    <tr>\n",
       "      <th>3</th>\n",
       "      <td>0.900277</td>\n",
       "      <td>0.11</td>\n",
       "      <td>0.432692</td>\n",
       "      <td>21622</td>\n",
       "      <td>M2</td>\n",
       "      <td>0</td>\n",
       "    </tr>\n",
       "    <tr>\n",
       "      <th>4</th>\n",
       "      <td>0.596403</td>\n",
       "      <td>0.11</td>\n",
       "      <td>0.634615</td>\n",
       "      <td>34738</td>\n",
       "      <td>M3</td>\n",
       "      <td>0</td>\n",
       "    </tr>\n",
       "    <tr>\n",
       "      <th>...</th>\n",
       "      <td>...</td>\n",
       "      <td>...</td>\n",
       "      <td>...</td>\n",
       "      <td>...</td>\n",
       "      <td>...</td>\n",
       "      <td>...</td>\n",
       "    </tr>\n",
       "    <tr>\n",
       "      <th>9995</th>\n",
       "      <td>1.004612</td>\n",
       "      <td>0.05</td>\n",
       "      <td>0.365385</td>\n",
       "      <td>27003</td>\n",
       "      <td>M8</td>\n",
       "      <td>0</td>\n",
       "    </tr>\n",
       "    <tr>\n",
       "      <th>9996</th>\n",
       "      <td>0.033834</td>\n",
       "      <td>0.10</td>\n",
       "      <td>0.644231</td>\n",
       "      <td>4076</td>\n",
       "      <td>M1</td>\n",
       "      <td>0</td>\n",
       "    </tr>\n",
       "    <tr>\n",
       "      <th>9997</th>\n",
       "      <td>0.084514</td>\n",
       "      <td>0.16</td>\n",
       "      <td>0.355769</td>\n",
       "      <td>4076</td>\n",
       "      <td>M3</td>\n",
       "      <td>0</td>\n",
       "    </tr>\n",
       "    <tr>\n",
       "      <th>9998</th>\n",
       "      <td>0.313845</td>\n",
       "      <td>0.01</td>\n",
       "      <td>0.317308</td>\n",
       "      <td>5410</td>\n",
       "      <td>M5</td>\n",
       "      <td>0</td>\n",
       "    </tr>\n",
       "    <tr>\n",
       "      <th>9999</th>\n",
       "      <td>0.742015</td>\n",
       "      <td>0.10</td>\n",
       "      <td>0.355769</td>\n",
       "      <td>8794</td>\n",
       "      <td>M7</td>\n",
       "      <td>0</td>\n",
       "    </tr>\n",
       "  </tbody>\n",
       "</table>\n",
       "<p>10000 rows × 6 columns</p>\n",
       "</div>"
      ],
      "text/plain": [
       "      policy_tenure  age_of_car  age_of_policyholder  population_density  \\\n",
       "0          0.515874        0.05             0.644231                4990   \n",
       "1          0.672619        0.02             0.375000               27003   \n",
       "2          0.841110        0.02             0.384615                4076   \n",
       "3          0.900277        0.11             0.432692               21622   \n",
       "4          0.596403        0.11             0.634615               34738   \n",
       "...             ...         ...                  ...                 ...   \n",
       "9995       1.004612        0.05             0.365385               27003   \n",
       "9996       0.033834        0.10             0.644231                4076   \n",
       "9997       0.084514        0.16             0.355769                4076   \n",
       "9998       0.313845        0.01             0.317308                5410   \n",
       "9999       0.742015        0.10             0.355769                8794   \n",
       "\n",
       "     model  is_claim  \n",
       "0       M1         0  \n",
       "1       M1         0  \n",
       "2       M1         0  \n",
       "3       M2         0  \n",
       "4       M3         0  \n",
       "...    ...       ...  \n",
       "9995    M8         0  \n",
       "9996    M1         0  \n",
       "9997    M3         0  \n",
       "9998    M5         0  \n",
       "9999    M7         0  \n",
       "\n",
       "[10000 rows x 6 columns]"
      ]
     },
     "execution_count": 3,
     "metadata": {},
     "output_type": "execute_result"
    }
   ],
   "source": [
    "df=df[['policy_tenure','age_of_car','age_of_policyholder','population_density','model','is_claim']]\n",
    "df=df[:10000]\n",
    "df"
   ]
  },
  {
   "cell_type": "code",
   "execution_count": 4,
   "metadata": {},
   "outputs": [
    {
     "data": {
      "text/html": [
       "<div>\n",
       "<style scoped>\n",
       "    .dataframe tbody tr th:only-of-type {\n",
       "        vertical-align: middle;\n",
       "    }\n",
       "\n",
       "    .dataframe tbody tr th {\n",
       "        vertical-align: top;\n",
       "    }\n",
       "\n",
       "    .dataframe thead th {\n",
       "        text-align: right;\n",
       "    }\n",
       "</style>\n",
       "<table border=\"1\" class=\"dataframe\">\n",
       "  <thead>\n",
       "    <tr style=\"text-align: right;\">\n",
       "      <th></th>\n",
       "      <th>policy_tenure</th>\n",
       "      <th>age_of_car</th>\n",
       "      <th>age_of_policyholder</th>\n",
       "      <th>population_density</th>\n",
       "      <th>is_claim</th>\n",
       "    </tr>\n",
       "  </thead>\n",
       "  <tbody>\n",
       "    <tr>\n",
       "      <th>policy_tenure</th>\n",
       "      <td>1.000000</td>\n",
       "      <td>0.167399</td>\n",
       "      <td>0.153095</td>\n",
       "      <td>-0.102999</td>\n",
       "      <td>0.080816</td>\n",
       "    </tr>\n",
       "    <tr>\n",
       "      <th>age_of_car</th>\n",
       "      <td>0.167399</td>\n",
       "      <td>1.000000</td>\n",
       "      <td>-0.026253</td>\n",
       "      <td>-0.061319</td>\n",
       "      <td>-0.030302</td>\n",
       "    </tr>\n",
       "    <tr>\n",
       "      <th>age_of_policyholder</th>\n",
       "      <td>0.153095</td>\n",
       "      <td>-0.026253</td>\n",
       "      <td>1.000000</td>\n",
       "      <td>0.009102</td>\n",
       "      <td>0.016552</td>\n",
       "    </tr>\n",
       "    <tr>\n",
       "      <th>population_density</th>\n",
       "      <td>-0.102999</td>\n",
       "      <td>-0.061319</td>\n",
       "      <td>0.009102</td>\n",
       "      <td>1.000000</td>\n",
       "      <td>-0.010071</td>\n",
       "    </tr>\n",
       "    <tr>\n",
       "      <th>is_claim</th>\n",
       "      <td>0.080816</td>\n",
       "      <td>-0.030302</td>\n",
       "      <td>0.016552</td>\n",
       "      <td>-0.010071</td>\n",
       "      <td>1.000000</td>\n",
       "    </tr>\n",
       "  </tbody>\n",
       "</table>\n",
       "</div>"
      ],
      "text/plain": [
       "                     policy_tenure  age_of_car  age_of_policyholder  \\\n",
       "policy_tenure             1.000000    0.167399             0.153095   \n",
       "age_of_car                0.167399    1.000000            -0.026253   \n",
       "age_of_policyholder       0.153095   -0.026253             1.000000   \n",
       "population_density       -0.102999   -0.061319             0.009102   \n",
       "is_claim                  0.080816   -0.030302             0.016552   \n",
       "\n",
       "                     population_density  is_claim  \n",
       "policy_tenure                 -0.102999  0.080816  \n",
       "age_of_car                    -0.061319 -0.030302  \n",
       "age_of_policyholder            0.009102  0.016552  \n",
       "population_density             1.000000 -0.010071  \n",
       "is_claim                      -0.010071  1.000000  "
      ]
     },
     "execution_count": 4,
     "metadata": {},
     "output_type": "execute_result"
    },
    {
     "data": {
      "image/png": "[encoded data removed]",
      "text/plain": [
       "<Figure size 400x400 with 2 Axes>"
      ]
     },
     "metadata": {},
     "output_type": "display_data"
    }
   ],
   "source": [
    "plt.figure(figsize=(4,4))\n",
    "c=df.corr()\n",
    "sns.heatmap(c,cmap='BrBG',annot=True)\n",
    "c"
   ]
  },
  {
   "attachments": {},
   "cell_type": "markdown",
   "metadata": {},
   "source": [
    "*There is not really any high correlation between the target variable with any of the feature variable.*"
   ]
  },
  {
   "cell_type": "code",
   "execution_count": 5,
   "metadata": {},
   "outputs": [],
   "source": [
    "#Applying scaling of 'Population Density' variable witout using standard scalar function\n",
    "def scale(data):\n",
    "    min_x=min(data)\n",
    "    max_x=max(data)\n",
    "    result=[(x-min_x)/(max_x-min_x) for x in data]\n",
    "    return result\n",
    "\n",
    "df['population_density']=scale(df['population_density'])"
   ]
  },
  {
   "cell_type": "code",
   "execution_count": 6,
   "metadata": {},
   "outputs": [
    {
     "name": "stdout",
     "output_type": "stream",
     "text": [
      "[ 0  1  2  3  4  5  6  7  8  9 10]\n",
      "<class 'pandas.core.frame.DataFrame'>\n",
      "RangeIndex: 10000 entries, 0 to 9999\n",
      "Data columns (total 6 columns):\n",
      " #   Column               Non-Null Count  Dtype  \n",
      "---  ------               --------------  -----  \n",
      " 0   policy_tenure        10000 non-null  float64\n",
      " 1   age_of_car           10000 non-null  float64\n",
      " 2   age_of_policyholder  10000 non-null  float64\n",
      " 3   population_density   10000 non-null  float64\n",
      " 4   model                10000 non-null  int64  \n",
      " 5   is_claim             10000 non-null  int64  \n",
      "dtypes: float64(4), int64(2)\n",
      "memory usage: 468.9 KB\n"
     ]
    }
   ],
   "source": [
    "#Encoding the 'model' variable to numercal for without using label encorder\n",
    "df['model']= df['model'].map({title: i for i, title in enumerate(df['model'].unique())})\n",
    "print(df['model'].unique())\n",
    "df.info()"
   ]
  },
  {
   "cell_type": "code",
   "execution_count": 7,
   "metadata": {},
   "outputs": [],
   "source": [
    "#define the independent and dependent variables\n",
    "X=df[['policy_tenure','age_of_car','age_of_policyholder','population_density','model']]\n",
    "Y=df['is_claim']"
   ]
  },
  {
   "cell_type": "code",
   "execution_count": 8,
   "metadata": {},
   "outputs": [],
   "source": [
    "X=X.values.tolist()\n",
    "Y=Y.values.tolist()"
   ]
  },
  {
   "cell_type": "code",
   "execution_count": 9,
   "metadata": {},
   "outputs": [],
   "source": [
    "#split ration 80:20\n",
    "X_train,X_test,Y_train,Y_test=train_test_split(X,Y,train_size=0.8,test_size=0.2,random_state=33)"
   ]
  },
  {
   "attachments": {},
   "cell_type": "markdown",
   "metadata": {},
   "source": [
    "##### Logistics Regression\n",
    "- Logistic regression, comes under the **supervised ML** approach. \n",
    "- The outcome must be a categorical or discrete value. It can be either Yes or No, 0 or 1, true or False.<br> \n",
    "- Instead of giving the exact value as 0 and 1 as output, it gives the probabilistic values which lie between 0 and 1.\n"
   ]
  },
  {
   "cell_type": "code",
   "execution_count": 10,
   "metadata": {},
   "outputs": [],
   "source": [
    "def sigmoid(z):\n",
    "    # Sigmoid function\n",
    "    return 1 / (1 + 2.71828 ** -z)\n",
    "\n",
    "def dot_product(X, w):\n",
    "    # Calculate dot product of X and w\n",
    "    return sum(x * weight for x, weight in zip(X, w))"
   ]
  },
  {
   "cell_type": "code",
   "execution_count": 11,
   "metadata": {},
   "outputs": [],
   "source": [
    "def logistic_regression(X,Y, learning_rate=0.01,iterations=1000):\n",
    "    samples, features = len(X), len(X[0])\n",
    "\n",
    "    #Initialize weights and bias\n",
    "    weights=[0] *features\n",
    "    bias=0\n",
    "\n",
    "    for _ in range(iterations):\n",
    "        wt=[0] *features\n",
    "        bs=0\n",
    "\n",
    "        for i in range(samples):\n",
    "            model=dot_product(X[i], weights)+bias\n",
    "            Y_pred =sigmoid(model)\n",
    "\n",
    "            # Calculate the gradient\n",
    "            wt=[wt[j]+(Y_pred -Y[i]) * X[i][j] for j in range(features)]\n",
    "            bs+=(Y_pred - Y[i])\n",
    "\n",
    "        # Update parameters using gradient descent\n",
    "        weights=[weights[j]-learning_rate * wt[j]/samples for j in range(features)]\n",
    "        bias-=learning_rate*bs/samples\n",
    "\n",
    "    return weights, bias\n"
   ]
  },
  {
   "cell_type": "code",
   "execution_count": 12,
   "metadata": {},
   "outputs": [],
   "source": [
    "#function to predict based on the weights and bias learned\n",
    "def predict(X, weights, bias):\n",
    "    Y_pred_class = [1 if sigmoid(dot_product(sample, weights) + bias) >= 0.5 else 0 for sample in X]\n",
    "    return Y_pred_class\n"
   ]
  },
  {
   "cell_type": "code",
   "execution_count": 13,
   "metadata": {},
   "outputs": [],
   "source": [
    "#Train the logistic regression model\n",
    "weights,bias = logistic_regression(X_train, Y_train)"
   ]
  },
  {
   "cell_type": "code",
   "execution_count": 14,
   "metadata": {},
   "outputs": [],
   "source": [
    "#Perform predictions on the test set\n",
    "Y_pred = predict(X_test, weights, bias)"
   ]
  },
  {
   "cell_type": "code",
   "execution_count": 15,
   "metadata": {},
   "outputs": [
    {
     "name": "stdout",
     "output_type": "stream",
     "text": [
      "Confusion Matrix: \n",
      "[[1882    0]\n",
      " [ 118    0]]\n",
      "Testing Classification Report: \n",
      "              precision    recall  f1-score   support\n",
      "\n",
      "           0       0.94      1.00      0.97      1882\n",
      "           1       0.00      0.00      0.00       118\n",
      "\n",
      "    accuracy                           0.94      2000\n",
      "   macro avg       0.47      0.50      0.48      2000\n",
      "weighted avg       0.89      0.94      0.91      2000\n",
      "\n"
     ]
    }
   ],
   "source": [
    "print(\"Confusion Matrix: \")\n",
    "print(confusion_matrix(Y_test,Y_pred))\n",
    "print(\"Testing Classification Report: \")\n",
    "print(classification_report(Y_test, Y_pred))"
   ]
  },
  {
   "attachments": {},
   "cell_type": "markdown",
   "metadata": {},
   "source": [
    "#### Similarity based classification Algorithms \n",
    "Stores all the available cases and classifies the new data or case based on a similarity measure"
   ]
  },
  {
   "attachments": {},
   "cell_type": "markdown",
   "metadata": {},
   "source": [
    "**1). Nearest Neighbour Algorithm**<br>\n",
    "In nearest neighbour algorithm label of most nearest data point is considered"
   ]
  },
  {
   "cell_type": "code",
   "execution_count": 16,
   "metadata": {},
   "outputs": [],
   "source": [
    "#In order to measure the similarity we use euclidean distance b/w the points \n",
    "def euclidean_distance(x1, x2):\n",
    "    dist=sum((a-b)**2 for a,b in zip(x1, x2))**0.5\n",
    "    return dist"
   ]
  },
  {
   "cell_type": "code",
   "execution_count": 17,
   "metadata": {},
   "outputs": [],
   "source": [
    "#nearest neighbour algorithm is implemented \n",
    "#k specifies number of neighbours looked to categorize the new data point\n",
    "def nearest_neighbor(X_train, Y_train, X_test, k):\n",
    "    predictions = []\n",
    "    for x in X_test:\n",
    "        distn= [euclidean_distance(x, xt) for xt in X_train]\n",
    "        indices = sorted(range(len(distn)), key=lambda i: distn[i])[:k]\n",
    "        #inspite of using counter class from collections library, we can use the \n",
    "        #frequency count for finding the most voted label\n",
    "        labels = [Y_train[i] for i in indices]\n",
    "        label_counts = {}\n",
    "        for label in labels:\n",
    "            if label in label_counts:\n",
    "                label_counts[label] += 1\n",
    "            else:\n",
    "                label_counts[label] = 1\n",
    "        most_common_label = max(label_counts, key=label_counts.get)\n",
    "        predictions.append(most_common_label)\n",
    "    return predictions"
   ]
  },
  {
   "cell_type": "code",
   "execution_count": 18,
   "metadata": {},
   "outputs": [],
   "source": [
    "#Calculation of accuracy\n",
    "def accuracy_score(Y_test, Y_pred):\n",
    "    true= sum(1 for yt, yp in zip(Y_test,Y_pred) if yt == yp)\n",
    "    accuracy=true/len(Y_test)\n",
    "    return accuracy"
   ]
  },
  {
   "cell_type": "code",
   "execution_count": 19,
   "metadata": {},
   "outputs": [],
   "source": [
    "#the nearest neighbour will consider the most nearest data point, k=1\n",
    "Y_pred=nearest_neighbor(X_train,Y_train, X_test,1)"
   ]
  },
  {
   "cell_type": "code",
   "execution_count": 20,
   "metadata": {},
   "outputs": [
    {
     "name": "stdout",
     "output_type": "stream",
     "text": [
      "Accuracy when k=1 is  0.883\n"
     ]
    }
   ],
   "source": [
    "print(\"Accuracy when k=1 is \", accuracy_score(Y_test,Y_pred))"
   ]
  },
  {
   "cell_type": "code",
   "execution_count": 21,
   "metadata": {},
   "outputs": [
    {
     "name": "stdout",
     "output_type": "stream",
     "text": [
      "Testing Classification Report: \n",
      "              precision    recall  f1-score   support\n",
      "\n",
      "           0       0.94      0.94      0.94      1882\n",
      "           1       0.04      0.04      0.04       118\n",
      "\n",
      "    accuracy                           0.88      2000\n",
      "   macro avg       0.49      0.49      0.49      2000\n",
      "weighted avg       0.89      0.88      0.88      2000\n",
      "\n"
     ]
    }
   ],
   "source": [
    "print(\"Testing Classification Report: \")\n",
    "print(classification_report(Y_test, Y_pred))"
   ]
  },
  {
   "attachments": {},
   "cell_type": "markdown",
   "metadata": {},
   "source": [
    "**2). K-Nearest Neighbour Algorithm (KNN)**<br>\n",
    "In KNN algorithm label of most nearest k (specifoed) data point is considered. A voting based approach is done where the most voted label will become the classification for new data point"
   ]
  },
  {
   "cell_type": "code",
   "execution_count": 22,
   "metadata": {},
   "outputs": [
    {
     "name": "stdout",
     "output_type": "stream",
     "text": [
      "Accuracy when k=3 is  0.9295\n"
     ]
    }
   ],
   "source": [
    "#the KNN algorithm will consider the most nearest k data points, here we take K=3\n",
    "Y_pred=nearest_neighbor(X_train, Y_train, X_test,3)\n",
    "print(\"Accuracy when k=3 is \", accuracy_score(Y_test,Y_pred))"
   ]
  },
  {
   "attachments": {},
   "cell_type": "markdown",
   "metadata": {},
   "source": [
    "*As we increased the number of neighbours from 1 to 3, the prediction accuracy improved by 4%*"
   ]
  },
  {
   "attachments": {},
   "cell_type": "markdown",
   "metadata": {},
   "source": [
    "**3). Weighted K-Nearest Neighbour Algorithm (W-KNN)**<br>\n",
    "A label score is generated by giving weightage to the distance to k nearest neighbours from the test datapoint"
   ]
  },
  {
   "cell_type": "code",
   "execution_count": 23,
   "metadata": {},
   "outputs": [],
   "source": [
    "def weighted_knn(X_train, Y_train, X_test, k):\n",
    "    predictions = []\n",
    "    for x in X_test:\n",
    "        distances=[euclidean_distance(x, xt) for xt in X_train]\n",
    "        indices=sorted(range(len(distances)), key=lambda i: distances[i])[:k]\n",
    "        labels = [Y_train[i] for i in indices]\n",
    "        weights =[1 / (d + 1e-8) for d in distances]  # Adding a small value to avoid division by zero: 0.00000001\n",
    "        label_scores = {}\n",
    "        for label, weight in zip(labels, weights):\n",
    "            if label in label_scores:\n",
    "                label_scores[label] += weight\n",
    "            else:\n",
    "                label_scores[label] = weight\n",
    "        most_common_label = max(label_scores, key=label_scores.get)\n",
    "        predictions.append(most_common_label)\n",
    "    return predictions"
   ]
  },
  {
   "cell_type": "code",
   "execution_count": 24,
   "metadata": {},
   "outputs": [
    {
     "name": "stdout",
     "output_type": "stream",
     "text": [
      "Accuracy when k=3 is  0.8925\n"
     ]
    }
   ],
   "source": [
    "Y_pred=weighted_knn(X_train, Y_train, X_test,3)\n",
    "print(\"Accuracy when k=3 is \", accuracy_score(Y_test,Y_pred))"
   ]
  },
  {
   "attachments": {},
   "cell_type": "markdown",
   "metadata": {},
   "source": [
    "*The weighted KNN approach decresed the prediction accuracy.*"
   ]
  },
  {
   "attachments": {},
   "cell_type": "markdown",
   "metadata": {},
   "source": [
    "##### **Decision Tree Classification for Prediction**\n",
    "Decision Trees try to build predictive models using only the most informative features\n",
    "\n",
    "###### I tried to use the decision tree algorithm in yesterday's task also. But couldn't implement it in such a way where I can pass the X_train, Y_train and X_test values to the model and then predict the Y_test. I am try to create a code incorportating that too"
   ]
  },
  {
   "cell_type": "code",
   "execution_count": 38,
   "metadata": {},
   "outputs": [],
   "source": [
    "import math #importing math lib for log base 2 calculation\n",
    "\n",
    "def build_tree(X, Y, max_depth=None, min_samples_split=2, depth=0):\n",
    "    num_samples = len(X)\n",
    "    num_features = len(X[0])\n",
    "    num_labels = len(set(Y))\n",
    "\n",
    "    if max_depth is not None and depth == max_depth or num_labels == 1 or num_samples < min_samples_split:\n",
    "        return most_common_label(Y)\n",
    "\n",
    "    best_feature, best_threshold = find_best_split(X, Y)\n",
    "\n",
    "    if best_feature is None or best_threshold is None:\n",
    "        return most_common_label(Y)\n",
    "\n",
    "    left_indices = [i for i, sample in enumerate(X) if sample[best_feature] < best_threshold]\n",
    "    right_indices = [i for i, sample in enumerate(X) if sample[best_feature] >= best_threshold]\n",
    "\n",
    "    left_tree = build_tree([X[i] for i in left_indices], [Y[i] for i in left_indices], max_depth=max_depth if max_depth is None else max_depth-1, min_samples_split=min_samples_split, depth=depth + 1)\n",
    "    right_tree = build_tree([X[i] for i in right_indices], [Y[i] for i in right_indices], max_depth=max_depth if max_depth is None else max_depth-1, min_samples_split=min_samples_split, depth=depth + 1)\n",
    "\n",
    "    return (best_feature, best_threshold, left_tree, right_tree)"
   ]
  },
  {
   "cell_type": "code",
   "execution_count": 42,
   "metadata": {},
   "outputs": [],
   "source": [
    "def find_best_split(X, Y):\n",
    "    best_gain = 0.0\n",
    "    best_feature = None\n",
    "    best_threshold = None\n",
    "\n",
    "    for feature in range(len(X[0])):\n",
    "        values = sorted(set([sample[feature] for sample in X]))\n",
    "        thresholds = [(values[i] + values[i+1]) / 2 for i in range(len(values) - 1)]\n",
    "\n",
    "        for threshold in thresholds:\n",
    "            gain = information_gain([sample[feature] for sample in X], Y, threshold)\n",
    "\n",
    "            if gain > best_gain:\n",
    "                best_gain = gain\n",
    "                best_feature = feature\n",
    "                best_threshold = threshold\n",
    "\n",
    "    return best_feature, best_threshold"
   ]
  },
  {
   "cell_type": "code",
   "execution_count": 43,
   "metadata": {},
   "outputs": [],
   "source": [
    "def information_gain(feature_values, Y, threshold):\n",
    "    left_mask = [value < threshold for value in feature_values]\n",
    "    right_mask = [not value for value in left_mask]\n",
    "\n",
    "    left_labels = [Y[i] for i, mask in enumerate(left_mask) if mask]\n",
    "    right_labels = [Y[i] for i, mask in enumerate(right_mask) if mask]\n",
    "\n",
    "    gain = entropy(Y) - (len(left_labels) / len(Y)) * entropy(left_labels) - (len(right_labels) / len(Y)) * entropy(right_labels)\n",
    "    return gain\n",
    "\n",
    "def entropy(Y):\n",
    "    label_counts = {}\n",
    "    for label in Y:\n",
    "        if label not in label_counts:\n",
    "            label_counts[label] = 0\n",
    "        label_counts[label] += 1\n",
    "\n",
    "    entropy = 0.0\n",
    "    for count in label_counts.values():\n",
    "        prob = count / len(Y)\n",
    "        entropy -= prob * log2(prob)\n",
    "    return entropy\n",
    "\n",
    "def log2(x):\n",
    "    if x == 0:\n",
    "        return 0\n",
    "    return math.log(x, 2)"
   ]
  },
  {
   "cell_type": "code",
   "execution_count": 44,
   "metadata": {},
   "outputs": [],
   "source": [
    "def most_common_label(Y):\n",
    "    label_counts = {}\n",
    "    for label in Y:\n",
    "        if label not in label_counts:\n",
    "            label_counts[label] = 0\n",
    "        label_counts[label] += 1\n",
    "\n",
    "    return max(label_counts, key=label_counts.get)\n",
    "\n",
    "def predict(X, tree):\n",
    "    predictions = []\n",
    "    for sample in X:\n",
    "        predictions.append(traverse_tree(sample, tree))\n",
    "    return predictions\n",
    "\n",
    "def traverse_tree(sample, tree):\n",
    "    if isinstance(tree, int):\n",
    "        return tree\n",
    "\n",
    "    feature, threshold, left_tree, right_tree = tree\n",
    "\n",
    "    if sample[feature] < threshold:\n",
    "        return traverse_tree(sample, left_tree)\n",
    "    else:\n",
    "        return traverse_tree(sample, right_tree)"
   ]
  },
  {
   "cell_type": "code",
   "execution_count": 40,
   "metadata": {},
   "outputs": [],
   "source": [
    "model=build_tree(X_train, Y_train)\n",
    "\n",
    "#Predict on the testing data\n",
    "Y_pred=predict(X_test,model)"
   ]
  },
  {
   "cell_type": "code",
   "execution_count": 41,
   "metadata": {},
   "outputs": [
    {
     "name": "stdout",
     "output_type": "stream",
     "text": [
      "Confusion Matrix: \n",
      "[[1733  149]\n",
      " [ 108   10]]\n",
      "Testing Classification Report: \n",
      "              precision    recall  f1-score   support\n",
      "\n",
      "           0       0.94      0.92      0.93      1882\n",
      "           1       0.06      0.08      0.07       118\n",
      "\n",
      "    accuracy                           0.87      2000\n",
      "   macro avg       0.50      0.50      0.50      2000\n",
      "weighted avg       0.89      0.87      0.88      2000\n",
      "\n"
     ]
    }
   ],
   "source": [
    "print(\"Confusion Matrix: \")\n",
    "print(confusion_matrix(Y_test,Y_pred))\n",
    "print(\"Testing Classification Report: \")\n",
    "print(classification_report(Y_test, Y_pred))"
   ]
  },
  {
   "attachments": {},
   "cell_type": "markdown",
   "metadata": {},
   "source": [
    "*The decision tree is giving 87% accuracy.*"
   ]
  }
 ],
 "metadata": {
  "kernelspec": {
   "display_name": "base",
   "language": "python",
   "name": "python3"
  },
  "language_info": {
   "codemirror_mode": {
    "name": "ipython",
    "version": 3
   },
   "file_extension": ".py",
   "mimetype": "text/x-python",
   "name": "python",
   "nbconvert_exporter": "python",
   "pygments_lexer": "ipython3",
   "version": "3.10.9"
  },
  "orig_nbformat": 4
 },
 "nbformat": 4,
 "nbformat_minor": 2
}
