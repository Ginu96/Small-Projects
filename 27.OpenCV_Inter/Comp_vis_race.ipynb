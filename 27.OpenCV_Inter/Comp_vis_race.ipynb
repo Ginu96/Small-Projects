{
 "cells": [
  {
   "cell_type": "code",
   "execution_count": 1,
   "metadata": {},
   "outputs": [],
   "source": [
    "#%pip install opencv-contrib-python\n",
    "\n",
    "#%pip install opencv-python==4.6.0.66"
   ]
  },
  {
   "cell_type": "code",
   "execution_count": 10,
   "metadata": {},
   "outputs": [
    {
     "data": {
      "text/plain": [
       "'%pip install opencv-python==4.4.0.46\\n%pip install opencv-contrib-python==4.4.0.46'"
      ]
     },
     "execution_count": 10,
     "metadata": {},
     "output_type": "execute_result"
    }
   ],
   "source": [
    "'''%pip install opencv-python==4.4.0.46\n",
    "%pip install opencv-contrib-python==4.4.0.46'''"
   ]
  },
  {
   "cell_type": "code",
   "execution_count": 11,
   "metadata": {},
   "outputs": [],
   "source": [
    "import cv2\n",
    "from random import randint\n",
    "import sys"
   ]
  },
  {
   "cell_type": "code",
   "execution_count": 12,
   "metadata": {},
   "outputs": [
    {
     "data": {
      "text/plain": [
       "'4.6.0'"
      ]
     },
     "execution_count": 12,
     "metadata": {},
     "output_type": "execute_result"
    }
   ],
   "source": [
    "cv2.__version__"
   ]
  },
  {
   "cell_type": "code",
   "execution_count": 13,
   "metadata": {},
   "outputs": [
    {
     "name": "stdout",
     "output_type": "stream",
     "text": [
      "['Tracker', 'TrackerDaSiamRPN', 'TrackerDaSiamRPN_Params', 'TrackerDaSiamRPN_create', 'TrackerGOTURN', 'TrackerGOTURN_Params', 'TrackerGOTURN_create', 'TrackerMIL', 'TrackerMIL_Params', 'TrackerMIL_create']\n"
     ]
    }
   ],
   "source": [
    "all_trackers=dir(cv2)\n",
    "trackers = [tracker for tracker in all_trackers if 'Tracker' in tracker]\n",
    "print(trackers)"
   ]
  },
  {
   "cell_type": "code",
   "execution_count": 14,
   "metadata": {},
   "outputs": [],
   "source": [
    "font = cv2.FONT_HERSHEY_COMPLEX_SMALL\n",
    "#read\n",
    "vedio=cv2.VideoCapture('race.mp4')\n",
    "if not vedio.isOpened():\n",
    "    print(\"xxx\")\n",
    "    sys.exit()\n",
    "ok,frame=vedio.read()\n",
    "if not ok:\n",
    "    print('error while loading')"
   ]
  },
  {
   "cell_type": "code",
   "execution_count": 7,
   "metadata": {},
   "outputs": [],
   "source": [
    "'''#all model\n",
    "all_model=['Siamese','MIL','GOTURN','Nano']\n",
    "tracker=all_model[]\n",
    "\n",
    "if tracker=='Siamese':\n",
    "    tracker_model=cv2.TrackerDaSiamRPN_create()\n",
    "elif tracker=='MIL':\n",
    "    tracker_model=cv2.TrackerMIL_create()\n",
    "elif tracker=='GOTURN':\n",
    "    tracker_model=cv2.TrackerGOTURN_create()\n",
    "elif tracker=='Nano':\n",
    "    tracker_model=cv2.TrackerNano_create()'''\n",
    "\n",
    "\n",
    "tracker_model=cv2.TrackerMIL_create()\n",
    "\n",
    "#all other models are not working though it is in the cv2 version"
   ]
  },
  {
   "cell_type": "markdown",
   "metadata": {},
   "source": [
    "Tracking one object"
   ]
  },
  {
   "cell_type": "code",
   "execution_count": null,
   "metadata": {},
   "outputs": [],
   "source": [
    "\n",
    "tracker_model=cv2.TrackerMIL_create()\n",
    "ok,frame=vedio.read()\n",
    "#select region\n",
    "bbox=cv2.selectROI(frame)\n",
    "#select the intiial frame\n",
    "ok=tracker_model.init(frame,bbox)\n",
    "\n",
    "#select color for bounding box\n",
    "color=(randint(0,255),randint(0,255),randint(0,255))\n",
    "\n",
    "\n",
    "while True:\n",
    "    ok,frame=vedio.read()\n",
    "    if not ok:\n",
    "        print(\"loading error\")\n",
    "        break\n",
    "    ok,bbox=tracker_model.update(frame)\n",
    "    if ok==True:\n",
    "        (x,y,w,h)=[int(v) for v in bbox]\n",
    "        cv2.rectangle(frame,(x,y),(x+w,y+h),color,2,1)\n",
    "    else:\n",
    "        cv2.putText(frame,\"tracking fail\",(100,90),font,.75,(0,0,255),2)\n",
    "    cv2.imshow('tracking',frame)\n",
    "    if cv2.waitKey(1) &0xFF==27:\n",
    "        cv2.destroyAllWindows()\n",
    "        break"
   ]
  },
  {
   "cell_type": "markdown",
   "metadata": {},
   "source": [
    "Tracking multiple objects\n",
    "\n",
    "*Multitracking function is not working in this version*"
   ]
  },
  {
   "cell_type": "code",
   "execution_count": 20,
   "metadata": {},
   "outputs": [
    {
     "name": "stdout",
     "output_type": "stream",
     "text": [
      "Error initializing tracker: OpenCV(4.6.0) D:\\a\\opencv-python\\opencv-python\\opencv\\modules\\video\\src\\tracking\\detail\\tracking_feature.cpp:128: error: (-215:Assertion failed) !patchSize.empty() in function 'cv::detail::tracking::feature::CvHaarEvaluator::FeatureHaar::generateRandomFeature'\n",
      "\n"
     ]
    }
   ],
   "source": [
    "video = cv2.VideoCapture('race.mp4')\n",
    "if not video.isOpened():\n",
    "    print(\"Error opening video.\")\n",
    "    exit()\n",
    "# List to store all the trackers and their bounding boxes\n",
    "trackers = []\n",
    "bboxes = []\n",
    "\n",
    "while True:\n",
    "    ok, frame = video.read()\n",
    "    if not ok:\n",
    "        print(\"Video loading error.\")\n",
    "        break\n",
    "    if cv2.waitKey(1) == 27:\n",
    "        break\n",
    "\n",
    "    # If there are no tracked objects or 'enter' key is pressed, select a new object\n",
    "    if not bboxes or cv2.waitKey(0)==13:\n",
    "        bbox = cv2.selectROI(\"Tracking\", frame, fromCenter=False, showCrosshair=True)\n",
    "        if bbox:\n",
    "            # Create a new tracker for the selected object\n",
    "            try:\n",
    "                tracker = cv2.TrackerMIL_create()\n",
    "                tracker.init(frame, bbox)\n",
    "                trackers.append(tracker)\n",
    "                bboxes.append(bbox)\n",
    "                \n",
    "            except Exception as e:\n",
    "                print(\"Error initializing tracker:\", str(e))\n",
    "            #cv2.waitKey(2)==32\n",
    "\n",
    "    #Update all the trackers for the current frame\n",
    "    for tracker in trackers:\n",
    "        ok, bbox = tracker.update(frame)\n",
    "        if ok:\n",
    "            x, y, w, h = [int(v) for v in bbox]\n",
    "            color = (randint(0, 255), randint(0, 255), randint(0, 255))\n",
    "            cv2.rectangle(frame, (x, y), (x+w, y+h), color, 2, 1)\n",
    "        else:\n",
    "            # If tracking fails, remove the tracker\n",
    "            index = trackers.index(tracker)\n",
    "            del trackers[index]\n",
    "            del bboxes[index]\n",
    "    cv2.imshow(\"Tracking\", frame)\n",
    "    if cv2.waitKey(1) &0xFF==27:\n",
    "        cv2.destroyAllWindows()\n",
    "        break\n",
    "video.release()\n",
    "cv2.destroyAllWindows()\n"
   ]
  }
 ],
 "metadata": {
  "kernelspec": {
   "display_name": "base",
   "language": "python",
   "name": "python3"
  },
  "language_info": {
   "codemirror_mode": {
    "name": "ipython",
    "version": 3
   },
   "file_extension": ".py",
   "mimetype": "text/x-python",
   "name": "python",
   "nbconvert_exporter": "python",
   "pygments_lexer": "ipython3",
   "version": "3.10.9"
  },
  "orig_nbformat": 4
 },
 "nbformat": 4,
 "nbformat_minor": 2
}
