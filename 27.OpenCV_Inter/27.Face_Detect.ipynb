{
 "cells": [
  {
   "cell_type": "code",
   "execution_count": 2,
   "metadata": {},
   "outputs": [],
   "source": [
    "#OPencv -face detection"
   ]
  },
  {
   "cell_type": "code",
   "execution_count": 2,
   "metadata": {},
   "outputs": [],
   "source": [
    "import cv2\n",
    "import numpy as np\n",
    "import matplotlib.pyplot as plt"
   ]
  },
  {
   "cell_type": "code",
   "execution_count": 3,
   "metadata": {},
   "outputs": [],
   "source": [
    "face_detect=cv2.CascadeClassifier(r\"D:\\Beinex\\Python\\Tasks\\27.OpenCV_Inter\\haarcascade_frontalface_default.xml\")\n",
    "eye_detect=cv2.CascadeClassifier(r\"D:\\Beinex\\Python\\Tasks\\27.OpenCV_Inter\\haarcascade_eye.xml\")"
   ]
  },
  {
   "cell_type": "code",
   "execution_count": 28,
   "metadata": {},
   "outputs": [],
   "source": [
    "webcam = cv2.VideoCapture(0)\n",
    "while True:\n",
    "    check,image=webcam.read()\n",
    "    img_grey= cv2.cvtColor(image, cv2.COLOR_BGR2GRAY)\n",
    "    face= face_detect.detectMultiScale(img_grey,1.2,6)    \n",
    "    for (x, y, w, h) in face:\n",
    "        center=(x+w//2, y+h//2)\n",
    "        radius=w// 2\n",
    "        cv2.circle(image,center,radius, (0,150,0),3)\n",
    "        roi_grey=img_grey[y:y + h, x:x + w]\n",
    "        roi_color= image[y:y + h, x:x + w]\n",
    "        eyes=eye_detect.detectMultiScale(roi_grey)        \n",
    "        for (ex, ey, ew, eh) in eyes:\n",
    "            cv2.rectangle(roi_color,(ex, ey),(ex+ew,ey+eh), (0,0,30),5)\n",
    "    # Put the text on the image\n",
    "    cv2.putText(image, text=\"Your face and eyes are detected\",org=(20,20),fontFace=cv2.FONT_HERSHEY_COMPLEX_SMALL, fontScale=1, color=(0,0,255),thickness=2)        \n",
    "    cv2.imshow('Webcam video', image)\n",
    "    key = cv2.waitKey(3) & 0xff  \n",
    "    if key == 27:\n",
    "        break\n",
    "\n",
    "webcam.release()\n",
    "cv2.destroyAllWindows()"
   ]
  },
  {
   "cell_type": "code",
   "execution_count": null,
   "metadata": {},
   "outputs": [],
   "source": [
    "'''webcam = cv2.VideoCapture(0)\n",
    "while True:\n",
    "    check,image=webcam.read()'''\n",
    "    #why\n",
    "    #new_width=800\n",
    "    #new_height=800\n",
    "    #img_resized= cv2.resize(image, (new_width, new_height))    \n",
    "    \n",
    "''' img_grey= cv2.cvtColor(image, cv2.COLOR_BGR2GRAY)\n",
    "    face= face_detect.detectMultiScale(img_grey, 1.2,3)    \n",
    "    for (x, y, w, h) in face:\n",
    "        cv2.rectangle(image, (x, y), (x + w, y + h), (255, 0, 0), 2)\n",
    "        roi_grey = img_grey[y:y + h, x:x + w]\n",
    "        roi_color = image[y:y + h, x:x + w]\n",
    "        eyes=eye_detect.detectMultiScale(roi_grey)        \n",
    "        for (ex, ey, ew, eh) in eyes:\n",
    "            cv2.rectangle(roi_color, (ex, ey), (ex + ew, ey + eh), (0, 0, 25), 3)\n",
    "            \n",
    "    cv2.imshow('Webcam video', image)\n",
    "    key = cv2.waitKey(3) & 0xff  \n",
    "    if key == 27:\n",
    "        break\n",
    "\n",
    "webcam.release()\n",
    "cv2.destroyAllWindows()\n",
    "'''"
   ]
  }
 ],
 "metadata": {
  "kernelspec": {
   "display_name": "base",
   "language": "python",
   "name": "python3"
  },
  "language_info": {
   "codemirror_mode": {
    "name": "ipython",
    "version": 3
   },
   "file_extension": ".py",
   "mimetype": "text/x-python",
   "name": "python",
   "nbconvert_exporter": "python",
   "pygments_lexer": "ipython3",
   "version": "3.10.9"
  },
  "orig_nbformat": 4
 },
 "nbformat": 4,
 "nbformat_minor": 2
}
