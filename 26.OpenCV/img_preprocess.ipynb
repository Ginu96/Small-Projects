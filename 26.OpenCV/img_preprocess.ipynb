{
 "cells": [
  {
   "cell_type": "code",
   "execution_count": 1,
   "metadata": {},
   "outputs": [],
   "source": [
    "#pip install opencv-python"
   ]
  },
  {
   "cell_type": "code",
   "execution_count": 2,
   "metadata": {},
   "outputs": [],
   "source": [
    "import cv2\n",
    "import numpy as np\n",
    "import matplotlib.pyplot as plt"
   ]
  },
  {
   "cell_type": "code",
   "execution_count": 3,
   "metadata": {},
   "outputs": [],
   "source": [
    "#load image \n",
    "img=cv2.imread(r\"D:\\Beinex\\Python\\Tasks\\26.OpenCV\\flight.jpg\")\n",
    "\n",
    "#dispaly the imgae\n",
    "cv2.imshow('Loaded Image', img)\n",
    "cv2.waitKey(2000)\n",
    "cv2.destroyAllWindows()"
   ]
  },
  {
   "cell_type": "code",
   "execution_count": 4,
   "metadata": {},
   "outputs": [],
   "source": [
    "#reading image in grayscale \n",
    "img_g=cv2.imread(r\"D:\\Beinex\\Python\\Tasks\\26.OpenCV\\flight.jpg\",cv2.IMREAD_GRAYSCALE)\n",
    "\n",
    "#dispaly the imgae\n",
    "cv2.imshow('Greyscale Image',img_g)\n",
    "cv2.waitKey(1000)\n",
    "cv2.destroyAllWindows()"
   ]
  },
  {
   "cell_type": "code",
   "execution_count": 5,
   "metadata": {},
   "outputs": [
    {
     "name": "stdout",
     "output_type": "stream",
     "text": [
      "(446, 670, 3)\n"
     ]
    }
   ],
   "source": [
    "#checking the shape of image\n",
    "print(img.shape)"
   ]
  },
  {
   "cell_type": "code",
   "execution_count": 6,
   "metadata": {},
   "outputs": [
    {
     "name": "stdout",
     "output_type": "stream",
     "text": [
      "uint8\n"
     ]
    }
   ],
   "source": [
    "#checking the datatype of image\n",
    "print(img.dtype)"
   ]
  },
  {
   "cell_type": "markdown",
   "metadata": {},
   "source": [
    "Resizing and Scaling"
   ]
  },
  {
   "cell_type": "code",
   "execution_count": 7,
   "metadata": {},
   "outputs": [
    {
     "data": {
      "text/plain": [
       "True"
      ]
     },
     "execution_count": 7,
     "metadata": {},
     "output_type": "execute_result"
    }
   ],
   "source": [
    "#resize the image\n",
    "new_width=500\n",
    "new_height=500\n",
    "image_new=cv2.resize(img, (new_width, new_height))\n",
    "\n",
    "#display and save transformed image\n",
    "cv2.imshow('Resized Image',image_new)\n",
    "cv2.waitKey(1000)\n",
    "cv2.destroyAllWindows()\n",
    "cv2.imwrite('resized_image.jpg',image_new)"
   ]
  },
  {
   "cell_type": "code",
   "execution_count": 8,
   "metadata": {},
   "outputs": [
    {
     "data": {
      "text/plain": [
       "True"
      ]
     },
     "execution_count": 8,
     "metadata": {},
     "output_type": "execute_result"
    }
   ],
   "source": [
    "#Scale the flight image by a factor\n",
    "scale_factor=0.5\n",
    "image_new=cv2.resize(img,None,fx=scale_factor, fy=scale_factor)\n",
    "#display and save\n",
    "cv2.imshow('Resized Image',image_new)\n",
    "cv2.waitKey(1000)\n",
    "cv2.destroyAllWindows()\n",
    "cv2.imwrite('scaled_image.jpg',image_new)"
   ]
  },
  {
   "cell_type": "markdown",
   "metadata": {},
   "source": [
    "Conversion of colour space"
   ]
  },
  {
   "cell_type": "code",
   "execution_count": 9,
   "metadata": {},
   "outputs": [],
   "source": [
    "#converting image to different colourspaves and displaying it\n",
    "img_grey=cv2.cvtColor(img,cv2.COLOR_BGR2GRAY)#grey\n",
    "img_hsv=cv2.cvtColor(img,cv2.COLOR_BGR2HSV)#hsv\n",
    "img_lab=cv2.cvtColor(img,cv2.COLOR_BGR2LAB) #lab, uniform colourpace\n",
    "img_yuv=cv2.cvtColor(img,cv2.COLOR_BGR2YUV)#yuv, compression of image\n",
    "\n",
    "#dispaly the imgae\n",
    "cv2.imshow('Greyscale Image',img_grey)\n",
    "cv2.imshow('HSV Image',img_hsv)\n",
    "cv2.imshow('LAB Image',img_lab)\n",
    "cv2.imshow('YUV Image',img_yuv)\n",
    "cv2.waitKey(10000)\n",
    "cv2.destroyAllWindows()"
   ]
  },
  {
   "cell_type": "markdown",
   "metadata": {},
   "source": [
    "Image rotation,flipping and translation"
   ]
  },
  {
   "cell_type": "code",
   "execution_count": 10,
   "metadata": {},
   "outputs": [],
   "source": [
    "#rotate by 90 degree angle\n",
    "img_rotc=cv2.rotate(img,cv2.ROTATE_90_CLOCKWISE)\n",
    "img_rota=cv2.rotate(img,cv2.ROTATE_90_COUNTERCLOCKWISE)\n",
    "\n",
    "cv2.imshow('Clockwise Rotated Image',img_rotc)\n",
    "cv2.imshow('Anti-clockwise Rotated Image',img_rota)\n",
    "cv2.waitKey(1000)\n",
    "cv2.destroyAllWindows()"
   ]
  },
  {
   "cell_type": "code",
   "execution_count": 11,
   "metadata": {},
   "outputs": [],
   "source": [
    "#flip the flight image\n",
    "img_flip=cv2.flip(img,0)\n",
    "\n",
    "cv2.imshow('flipped image',img_flip)\n",
    "cv2.waitKey(1000)\n",
    "cv2.destroyAllWindows()"
   ]
  },
  {
   "cell_type": "code",
   "execution_count": 12,
   "metadata": {},
   "outputs": [
    {
     "data": {
      "text/plain": [
       "True"
      ]
     },
     "execution_count": 12,
     "metadata": {},
     "output_type": "execute_result"
    }
   ],
   "source": [
    "#Store height and width of the image\n",
    "h,w=img.shape[:2]\n",
    "quarter_h, quarter_w=h/4, w/ 4\n",
    "\n",
    "Trans=np.float32([[1, 0, quarter_w], [0, 1,quarter_h]])\n",
    "\n",
    "#Using warpAffine to transform the image Trans\n",
    "img_trans= cv2.warpAffine(img,Trans, (w, h))\n",
    "\n",
    "cv2.imshow(\"Original image\",img)\n",
    "cv2.imshow('Image translation',img_trans)\n",
    "cv2.waitKey(10000)\n",
    "\n",
    "cv2.destroyAllWindows()\n",
    "cv2.imwrite('Image_translation.jpg',img_trans)\n"
   ]
  },
  {
   "cell_type": "markdown",
   "metadata": {},
   "source": [
    "Plotting image histogram"
   ]
  },
  {
   "cell_type": "code",
   "execution_count": 13,
   "metadata": {},
   "outputs": [
    {
     "data": {
      "text/plain": [
       "Text(0.5, 1.0, 'Blue Channel')"
      ]
     },
     "execution_count": 13,
     "metadata": {},
     "output_type": "execute_result"
    },
    {
     "data": {
      "image/png": "[encoded data removed]",
      "text/plain": [
       "<Figure size 640x480 with 1 Axes>"
      ]
     },
     "metadata": {},
     "output_type": "display_data"
    }
   ],
   "source": [
    "#computing the histogram of the Blue channel of the image and plotting\n",
    "hist= cv2.calcHist([img],[0],None,[256],[0,256])\n",
    "  \n",
    "plt.plot(hist,color='b')\n",
    "plt.title('Blue Channel')"
   ]
  },
  {
   "cell_type": "code",
   "execution_count": 14,
   "metadata": {},
   "outputs": [
    {
     "data": {
      "image/png": "[encoded data removed]",
      "text/plain": [
       "<Figure size 640x480 with 1 Axes>"
      ]
     },
     "metadata": {},
     "output_type": "display_data"
    }
   ],
   "source": [
    "#plotting all Red, Green, Blue\n",
    "  \n",
    "#define colors \n",
    "colors=('b','g','r')\n",
    "  \n",
    "# compute and plot the image histograms\n",
    "for i,color in enumerate(colors):\n",
    "    hist=cv2.calcHist([img],[i],None,[256],[0,256])\n",
    "    plt.plot(hist,color = color)\n",
    "plt.title('Histogram of Flight image')\n",
    "plt.show()"
   ]
  },
  {
   "cell_type": "markdown",
   "metadata": {},
   "source": [
    "*All the color channels are found to have a peak at 255*"
   ]
  },
  {
   "cell_type": "code",
   "execution_count": 15,
   "metadata": {},
   "outputs": [
    {
     "data": {
      "image/png": "[encoded data removed]",
      "text/plain": [
       "<Figure size 640x480 with 1 Axes>"
      ]
     },
     "metadata": {},
     "output_type": "display_data"
    }
   ],
   "source": [
    "#plotting histogram for grey scale image\n",
    "hist_g= cv2.calcHist([img_grey],[0],None,[256],[0,256])\n",
    "plt.plot(hist_g)\n",
    "plt.show()"
   ]
  },
  {
   "cell_type": "code",
   "execution_count": 16,
   "metadata": {},
   "outputs": [
    {
     "data": {
      "image/png": "[encoded data removed]",
      "text/plain": [
       "<Figure size 640x480 with 1 Axes>"
      ]
     },
     "metadata": {},
     "output_type": "display_data"
    }
   ],
   "source": [
    "#Creating a binary mask \n",
    "mask = np.zeros_like(img_grey)\n",
    "mask[(img_grey>=100) & (img_grey <=256)] = 255\n",
    "\n",
    "#plotting histogram with this masking\n",
    "hist_g= cv2.calcHist([img_grey],[0],mask,[256],[0,256])\n",
    "plt.plot(hist_g)\n",
    "plt.show()\n"
   ]
  },
  {
   "cell_type": "markdown",
   "metadata": {},
   "source": [
    "Bitwise Operation<br>\n",
    "*I applied the bitwise operation on original image and the HSV image of the original*"
   ]
  },
  {
   "cell_type": "markdown",
   "metadata": {},
   "source": [
    "**AND**"
   ]
  },
  {
   "cell_type": "code",
   "execution_count": 17,
   "metadata": {},
   "outputs": [],
   "source": [
    "#img1=cv2.imread(r'D:\\Beinex\\Python\\Tasks\\26.OpenCV\\flight.jpg')  \n",
    "#img2=cv2.imread(r'D:\\Beinex\\Python\\Tasks\\26.OpenCV\\flower.jpg') \n",
    "img1=img\n",
    "img2=img_hsv\n",
    "  \n",
    "#'cv2.bitwise_and' is applied over the image inputs\n",
    "output1=cv2.bitwise_and(img2, img1, mask=None)\n",
    "  \n",
    "#output image\n",
    "cv2.imshow('Bitwise And Output',output1)\n",
    "cv2.waitKey(1000)\n",
    "cv2.destroyAllWindows()"
   ]
  },
  {
   "cell_type": "markdown",
   "metadata": {},
   "source": [
    "**OR**"
   ]
  },
  {
   "cell_type": "code",
   "execution_count": 18,
   "metadata": {},
   "outputs": [],
   "source": [
    "#'cv2.bitwise_or' is applied over the image inputs\n",
    "output2=cv2.bitwise_or(img2, img1, mask=None)\n",
    "  \n",
    "#output image\n",
    "cv2.imshow('Bitwise Or Output',output2)\n",
    "cv2.waitKey(1000)\n",
    "cv2.destroyAllWindows()"
   ]
  },
  {
   "cell_type": "markdown",
   "metadata": {},
   "source": [
    "**XOR**"
   ]
  },
  {
   "cell_type": "code",
   "execution_count": 19,
   "metadata": {},
   "outputs": [
    {
     "data": {
      "text/plain": [
       "'# De-allocate any associated memory usage  \\nif cv2.waitKey(1000) & 0xff == 27: \\n    cv2.destroyAllWindows()'"
      ]
     },
     "execution_count": 19,
     "metadata": {},
     "output_type": "execute_result"
    }
   ],
   "source": [
    "# operates on each pixel's binary representation of the input images \n",
    "#and produces a new output image with the XOR results.\n",
    "output3=cv2.bitwise_xor(img2, img1, mask=None)\n",
    "  \n",
    "#output image\n",
    "cv2.imshow('Bitwise Xor Output',output3)\n",
    "cv2.waitKey(1000)\n",
    "cv2.destroyAllWindows()\n",
    "\n",
    "\n",
    "'''# De-allocate any associated memory usage  \n",
    "if cv2.waitKey(1000) & 0xff == 27: \n",
    "    cv2.destroyAllWindows()'''"
   ]
  },
  {
   "cell_type": "markdown",
   "metadata": {},
   "source": [
    "**NOT**"
   ]
  },
  {
   "cell_type": "code",
   "execution_count": 20,
   "metadata": {},
   "outputs": [],
   "source": [
    "#cv2.bitwise_not is applied over the\n",
    "#image input with applied parameters \n",
    "not1 = cv2.bitwise_not(img1, mask = None) ##img1\n",
    "not2 = cv2.bitwise_not(img2, mask = None)\n",
    "  \n",
    "# the windows showing output image\n",
    "# with the Bitwise NOT operation\n",
    "# on the 1st and 2nd input image\n",
    "cv2.imshow('Bitwise NOT on image 1',not1)\n",
    "cv2.imshow('Bitwise NOT on image 2',not2)\n",
    "cv2.waitKey(1000)\n",
    "cv2.destroyAllWindows()\n"
   ]
  },
  {
   "cell_type": "markdown",
   "metadata": {},
   "source": [
    "Interpolations"
   ]
  },
  {
   "cell_type": "markdown",
   "metadata": {},
   "source": [
    "*Interpolation helps to maintain the visual quality and accuracy of the image during resizing or geometric transformations. Without interpolation, resizing an image to a non-integer scale or applying geometric transformations could lead to jagged or distorted edges.*"
   ]
  },
  {
   "cell_type": "code",
   "execution_count": 21,
   "metadata": {},
   "outputs": [],
   "source": [
    "#Resize the image \n",
    "new_width=400\n",
    "new_height=400 \n",
    "\n",
    "#inearest neighbour interpolation\n",
    "img_nn=cv2.resize(img, (new_width, new_height),cv2.INTER_NEAREST)\n",
    "#inter linear interpolation\n",
    "img_il=cv2.resize(img, (new_width, new_height),cv2.INTER_LINEAR)\n",
    "#inter-cubic interpolation\n",
    "img_ic=cv2.resize(img, (new_width, new_height),cv2.INTER_CUBIC)\n",
    "#Lanczos Interpolation\n",
    "img_lz=cv2.resize(img, (new_width, new_height),cv2.INTER_LANCZOS4)\n",
    "#inter area interpolation\n",
    "img_ia=cv2.resize(img, (new_width, new_height),cv2.INTER_AREA)\n",
    "\n",
    "\n",
    "# Display resized images\n",
    "cv2.imshow('Resizing - Nearest neighbour',img_nn)\n",
    "cv2.imshow('Resizing - Inter linear',img_il)\n",
    "cv2.imshow('Resizing - Inter cubic',img_ic)\n",
    "cv2.imshow('Resizing - Lanczos',img_lz)\n",
    "cv2.imshow('Resizing - Inter area',img_ia)\n",
    "cv2.waitKey(10000)\n",
    "cv2.destroyAllWindows()"
   ]
  },
  {
   "cell_type": "markdown",
   "metadata": {},
   "source": [
    "Image Filtering"
   ]
  },
  {
   "cell_type": "code",
   "execution_count": 22,
   "metadata": {},
   "outputs": [],
   "source": [
    "#Gaussian blur method\n",
    "img_gaus=cv2.GaussianBlur(img,(3,3),5,5)\n",
    "#median filtering\n",
    "img_med=cv2.medianBlur(img,3)\n",
    "#box filtering\n",
    "img_bx=cv2.boxFilter(img,-1,(3,3))\n",
    "#laplasian filtering\n",
    "img_lap=cv2.Laplacian(img, cv2.CV_64F,3)\n",
    "#Canny edge detection filtering\n",
    "img_can=cv2.Canny(img, 100, 200)\n",
    "\n",
    "\n",
    "cv2.imshow('Gaussian Filter',img_gaus)\n",
    "cv2.imshow('Median Filter',img_med)\n",
    "cv2.imshow('Box Filter',img_bx)\n",
    "cv2.imshow('Laplacian',img_lap)\n",
    "cv2.imshow('Canny Filter',img_can)\n",
    "cv2.waitKey(1000)\n",
    "cv2.destroyAllWindows()"
   ]
  },
  {
   "cell_type": "code",
   "execution_count": 23,
   "metadata": {},
   "outputs": [],
   "source": [
    "#Sobel filter -X and Y directions\n",
    "sobel_x= cv2.Sobel(img, cv2.CV_64F, 1, 0, 3)\n",
    "sobel_y=cv2.Sobel(img, cv2.CV_64F, 0, 1,3)\n",
    "\n",
    "# Display the original, Sobel X, and Sobel Y images\n",
    "cv2.imshow('Original Image', img)\n",
    "cv2.imshow('Sobel X', sobel_x)\n",
    "cv2.imshow('Sobel Y', sobel_y)\n",
    "cv2.waitKey(1000)\n",
    "cv2.destroyAllWindows()"
   ]
  },
  {
   "cell_type": "markdown",
   "metadata": {},
   "source": [
    "Image thresholding"
   ]
  },
  {
   "cell_type": "code",
   "execution_count": 24,
   "metadata": {},
   "outputs": [],
   "source": [
    "#here we use the img_grey image \n",
    "ret,thresh1 = cv2.threshold(img_grey,127, 255, cv2.THRESH_BINARY)\n",
    "ret,thresh2= cv2.threshold(img_grey,127, 255, cv2.THRESH_BINARY_INV)\n",
    "ret,thresh3 = cv2.threshold(img_grey,127, 255, cv2.THRESH_TRUNC)\n",
    "ret,thresh4 =cv2.threshold(img_grey,127, 255, cv2.THRESH_TOZERO)\n",
    "ret,thresh5 = cv2.threshold(img_grey,127, 255, cv2.THRESH_TOZERO_INV)\n",
    "\n",
    "cv2.imshow('Binary Threshold', thresh1)\n",
    "cv2.imshow('Binary Threshold Inverted', thresh2)\n",
    "cv2.imshow('Truncated Threshold', thresh3)\n",
    "cv2.imshow('Set to 0', thresh4)\n",
    "cv2.imshow('Set to 0 Inverted', thresh5)\n",
    "cv2.waitKey(1000)\n",
    "cv2.destroyAllWindows()"
   ]
  },
  {
   "cell_type": "code",
   "execution_count": 25,
   "metadata": {},
   "outputs": [],
   "source": [
    "#Adaptive thresholding method\n",
    "mean_thresh= cv2.adaptiveThreshold(img_grey, 255, cv2.ADAPTIVE_THRESH_MEAN_C,cv2.THRESH_BINARY,225,3)\n",
    "Gaus_thresh = cv2.adaptiveThreshold(img_grey, 255, cv2.ADAPTIVE_THRESH_GAUSSIAN_C,cv2.THRESH_BINARY,255,3)\n",
    "\n",
    "cv2.imshow('Adaptive Mean', mean_thresh)\n",
    "cv2.imshow('Adaptive Gaussian', Gaus_thresh)\n",
    "cv2.waitKey(1000)\n",
    "cv2.destroyAllWindows()"
   ]
  },
  {
   "cell_type": "code",
   "execution_count": 26,
   "metadata": {},
   "outputs": [],
   "source": [
    "#otsu thresholding\n",
    "img_grey,otsu_thresh = cv2.threshold(img_grey,0, 255,cv2.THRESH_BINARY+cv2.THRESH_OTSU)\n",
    "cv2.imshow('Otsu Threshold', otsu_thresh)\n",
    "cv2.waitKey(0)\n",
    "cv2.destroyAllWindows()"
   ]
  },
  {
   "cell_type": "markdown",
   "metadata": {},
   "source": [
    "Erosion and Dilation"
   ]
  },
  {
   "cell_type": "code",
   "execution_count": 28,
   "metadata": {},
   "outputs": [],
   "source": [
    "img2=cv2.imread(r\"D:\\Beinex\\Python\\Tasks\\26.OpenCV\\erdil.jpg\")\n",
    "img2=cv2.cvtColor(img2, cv2.COLOR_BGR2RGB)"
   ]
  },
  {
   "cell_type": "code",
   "execution_count": 36,
   "metadata": {},
   "outputs": [
    {
     "data": {
      "text/plain": [
       "True"
      ]
     },
     "execution_count": 36,
     "metadata": {},
     "output_type": "execute_result"
    }
   ],
   "source": [
    "#erode the image\n",
    "img2_ero=cv2.erode(img2,np.ones((3,3),np.uint8), iterations =2)\n",
    "#applying dilation\n",
    "img2_dil= cv2.dilate(img2,np.ones((3,3),np.uint8), iterations = 1)\n",
    "cv2.imshow('Original image', img2)\n",
    "cv2.imshow('Erosion', img2_ero)\n",
    "cv2.imshow('dilated', img2_dil)\n",
    "cv2.waitKey(2000)\n",
    "cv2.destroyAllWindows()\n",
    "\n",
    "cv2.imwrite('original.jpg',img2)\n",
    "cv2.imwrite('erosion.jpg',img2_ero)\n",
    "cv2.imwrite('dilation.jpg',img2_dil)"
   ]
  },
  {
   "cell_type": "markdown",
   "metadata": {},
   "source": [
    "Image pyramids"
   ]
  },
  {
   "cell_type": "markdown",
   "metadata": {},
   "source": [
    "*multi-scale representations of an image that allow us to work with images at different levels of resolution*\n",
    "\n",
    "*Useful in image detection, object detection etc.*"
   ]
  },
  {
   "cell_type": "code",
   "execution_count": 48,
   "metadata": {},
   "outputs": [],
   "source": [
    "imgf=cv2.imread(r\"D:\\Beinex\\Python\\Tasks\\26.OpenCV\\flower.jpg\")\n",
    "img3=cv2.cvtColor(imgf, cv2.COLOR_BGR2RGB)"
   ]
  },
  {
   "cell_type": "code",
   "execution_count": 51,
   "metadata": {},
   "outputs": [
    {
     "data": {
      "text/plain": [
       "True"
      ]
     },
     "execution_count": 51,
     "metadata": {},
     "output_type": "execute_result"
    }
   ],
   "source": [
    "img_sm=cv2.pyrDown(img3)\n",
    "img_lg= cv2.pyrUp(img3)\n",
    "\n",
    "cv2.imshow('Original image',imgf)\n",
    "cv2.imshow('rgb image',img3)\n",
    "cv2.imshow('Smaller image', img_sm)\n",
    "cv2.imshow('Larger image', img_lg)\n",
    "cv2.waitKey(2000)\n",
    "cv2.destroyAllWindows()\n",
    "\n",
    "cv2.imwrite('original.jpg',imgf)\n",
    "cv2.imwrite('image_rgb.jpg',img3)\n",
    "cv2.imwrite('smaller.jpg',img_sm)\n",
    "cv2.imwrite('larger.jpg',img_lg)"
   ]
  },
  {
   "cell_type": "code",
   "execution_count": null,
   "metadata": {},
   "outputs": [],
   "source": []
  }
 ],
 "metadata": {
  "kernelspec": {
   "display_name": "base",
   "language": "python",
   "name": "python3"
  },
  "language_info": {
   "codemirror_mode": {
    "name": "ipython",
    "version": 3
   },
   "file_extension": ".py",
   "mimetype": "text/x-python",
   "name": "python",
   "nbconvert_exporter": "python",
   "pygments_lexer": "ipython3",
   "version": "3.10.9"
  },
  "orig_nbformat": 4
 },
 "nbformat": 4,
 "nbformat_minor": 2
}
