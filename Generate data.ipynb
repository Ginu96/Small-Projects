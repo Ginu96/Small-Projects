{
 "cells": [
  {
   "cell_type": "code",
   "execution_count": 2,
   "metadata": {},
   "outputs": [],
   "source": [
    "import pandas as pd\n",
    "import numpy as np"
   ]
  },
  {
   "cell_type": "code",
   "execution_count": 3,
   "metadata": {},
   "outputs": [],
   "source": [
    "variable_names = [\"Customer Satisfaction Score\", \"Age Group\", \"Nb of Accounts\",  \"Credit Card Usage\"]\n",
    "#Avg Amount of Transaction\", \"Nb of Purchased Products\", \"Loan Balance\", \"Nb of Complaints\",  \"Credit Score\"]\n",
    "value_ranges = [(0.3, 1), (10-20,80-90), (1,5),(0-5,15-20)] "
   ]
  },
  {
   "cell_type": "code",
   "execution_count": 4,
   "metadata": {},
   "outputs": [],
   "source": [
    "data = np.random.randint(*value_ranges[0], size=(100, len(variable_names)))  # Generate 100 rows, adjust as needed\n",
    "for i in range(1, len(variable_names)):\n",
    "    data[:, i] = np.random.uniform(*value_ranges[i], size=(100)) "
   ]
  },
  {
   "cell_type": "code",
   "execution_count": 1,
   "metadata": {},
   "outputs": [
    {
     "ename": "NameError",
     "evalue": "name 'data' is not defined",
     "output_type": "error",
     "traceback": [
      "\u001b[1;31m---------------------------------------------------------------------------\u001b[0m",
      "\u001b[1;31mNameError\u001b[0m                                 Traceback (most recent call last)",
      "Cell \u001b[1;32mIn[1], line 1\u001b[0m\n\u001b[1;32m----> 1\u001b[0m data\n",
      "\u001b[1;31mNameError\u001b[0m: name 'data' is not defined"
     ]
    }
   ],
   "source": [
    "data"
   ]
  },
  {
   "cell_type": "code",
   "execution_count": 2,
   "metadata": {},
   "outputs": [
    {
     "name": "stdout",
     "output_type": "stream",
     "text": [
      "['61-70', 98605.87, 0.3367, 63.4, 'Male', 0.5, '2 - Needs Development', 7.43, 42925, 0.3142, 0.2365, 0, 5, 0.46]\n",
      "['61-70', 17853.8, 0.434, 60.2, 'Female', 0.6, '4 - Exceeded Expectations', 1.4, 49992, 0.2735, 0.8359, 0, 5, 0.49]\n",
      "['61-70', 53732.64, 0.8359, 80.6, 'Male', 0.8, '2 - Needs Development', 6.88, 48068, 0.8543, 0.6744, 0, 2, 0.43]\n",
      "['61-70', 126365.21, 0.1482, 58.1, 'Male', 0.5, '1 - Need significant improvement', 2.56, 47855, 0.4426, 0.7431, 0, 3, 0.26]\n",
      "['51-60', 121812.85, 0.9689, 64.7, 'Male', 0.5, '1 - Need significant improvement', 4.59, 42720, 0.2771, 0.5946, 0, 2, 0.44]\n"
     ]
    }
   ],
   "source": [
    "import random\n",
    "\n",
    "# Function to generate random data similar to the provided sample\n",
    "def generate_random_data():\n",
    "    age_buckets = [\"21-30\", \"31-40\", \"41-50\", \"51-60\", \"61-70\", \"71-80\"]\n",
    "    bradford_factors = [random.uniform(0, 150000) for _ in range(15000)]\n",
    "    churn_probabilities = [random.uniform(0, 1) for _ in range(15000)]\n",
    "    education_levels = [random.uniform(55, 85.3) for _ in range(15000)]\n",
    "    genders = [\"Male\", \"Female\"]\n",
    "    last_appraisal_hike_percentages = [random.uniform(0.3, 0.8) for _ in range(15000)]\n",
    "    last_appraisal_ratings = [\"1 - Need significant improvement\", \"2 - Needs Development\", \"3 - Meets Expectations\", \"4 - Exceeded Expectations\"]\n",
    "    last_promotion_hike_percentages = [random.uniform(0, 10) for _ in range(15000)]\n",
    "    employee_ids = [41000 + i for i in range(15000)]\n",
    "    churn_probabilities_corrected = churn_probabilities  # Assuming similar values\n",
    "    count_of_employees = [0 for _ in range(15000)]\n",
    "    days_late = [random.randint(0, 5) for _ in range(15000)]\n",
    "    grades = [random.uniform(0.15, 0.49) for _ in range(15000)]\n",
    "\n",
    "    data = []\n",
    "    for _ in range(15000):\n",
    "        data.append([\n",
    "            random.choice(age_buckets),\n",
    "            round(random.choice(bradford_factors), 2),\n",
    "            round(random.choice(churn_probabilities), 4),\n",
    "            round(random.choice(education_levels), 1),\n",
    "            random.choice(genders),\n",
    "            round(random.choice(last_appraisal_hike_percentages), 1),\n",
    "            random.choice(last_appraisal_ratings),\n",
    "            round(random.choice(last_promotion_hike_percentages), 2),\n",
    "            random.choice(employee_ids),\n",
    "            round(random.choice(churn_probabilities_corrected), 4),\n",
    "            round(random.choice(churn_probabilities_corrected), 4),  # Assuming corrected values are similar\n",
    "            random.choice(count_of_employees),\n",
    "            random.choice(days_late),\n",
    "            round(random.choice(grades), 2)\n",
    "        ])\n",
    "    return data\n",
    "\n",
    "# Example usage:\n",
    "generated_data = generate_random_data()\n",
    "\n",
    "# Displaying first 5 rows of the generated data\n",
    "for row in generated_data[:5]:\n",
    "    print(row)\n"
   ]
  },
  {
   "cell_type": "code",
   "execution_count": 5,
   "metadata": {},
   "outputs": [],
   "source": [
    "import pandas as pd\n",
    "import random\n",
    "\n",
    "# Function to generate random data similar to the provided sample\n",
    "def generate_random_data(num_rows):\n",
    "    age_buckets = [\"21-30\", \"31-40\", \"41-50\", \"51-60\", \"61-70\", \"71-80\"]\n",
    "    bradford_factors = [random.uniform(0, 150000) for _ in range(num_rows)]\n",
    "    churn_probabilities = [round(random.uniform(0, 1), 4) for _ in range(num_rows)]\n",
    "    education_levels = [round(random.uniform(55, 85.3), 1) for _ in range(num_rows)]\n",
    "    genders = [\"Male\", \"Female\"]\n",
    "    last_appraisal_hike_percentages = [round(random.uniform(0.3, 0.8), 1) for _ in range(num_rows)]\n",
    "    employee_ids = [41000 + i for i in range(num_rows)]\n",
    "    churn_probabilities_corrected = churn_probabilities  # Assuming similar values\n",
    "    count_of_employees = [0 for _ in range(num_rows)]\n",
    "    days_late = [random.randint(0, 5) for _ in range(num_rows)]\n",
    "    grades = [round(random.uniform(0.15, 0.98), 2) for _ in range(num_rows)]\n",
    "\n",
    "    data = {\n",
    "        \"Age Bucket\": [random.choice(age_buckets) for _ in range(num_rows)],\n",
    "        \"Bradford factor\": bradford_factors,\n",
    "        \"CHURN PROBABILITY\": churn_probabilities,\n",
    "        \"Education level\": education_levels,\n",
    "        \"Gender\": [random.choice(genders) for _ in range(num_rows)],\n",
    "        \"Last Appraisal Hike%\": last_appraisal_hike_percentages,\n",
    "        \"Last appraisal rating\": [random.choice([\"1 - Need significant improvement\", \"2 - Needs Development\", \"3 - Meets Expectations\", \"4 - Exceeded Expectations\"]) for _ in range(num_rows)],\n",
    "        \"Employee ID\": employee_ids,\n",
    "        \"Churn probability\": churn_probabilities_corrected,\n",
    "        \"CHURN PROBABILITY Corrected\": churn_probabilities_corrected,\n",
    "        \"Count of Employees\": count_of_employees,\n",
    "        \"Days late\": days_late,\n",
    "        \"Grade\": grades\n",
    "    }\n",
    "\n",
    "    return pd.DataFrame(data)\n",
    "\n",
    "# Generate data\n",
    "num_rows = 12000\n",
    "data = generate_random_data(num_rows)\n",
    "path= r\"C:\\Users\\HP\\OneDrive - Beinex Solutions\\Projects\\POC\\Al Ahli bank\\generated_data.xlsx\"\n",
    "# Save to Excel\n",
    "data.to_excel(path, index=False)\n"
   ]
  }
 ],
 "metadata": {
  "kernelspec": {
   "display_name": "base",
   "language": "python",
   "name": "python3"
  },
  "language_info": {
   "codemirror_mode": {
    "name": "ipython",
    "version": 3
   },
   "file_extension": ".py",
   "mimetype": "text/x-python",
   "name": "python",
   "nbconvert_exporter": "python",
   "pygments_lexer": "ipython3",
   "version": "3.11.5"
  }
 },
 "nbformat": 4,
 "nbformat_minor": 2
}
